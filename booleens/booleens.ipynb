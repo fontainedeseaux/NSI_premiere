{
 "cells": [
  {
   "cell_type": "code",
   "execution_count": null,
   "metadata": {},
   "outputs": [],
   "source": [
    "from outils import* # Lancer la cellule pour importer les outils nécessaires au notebook."
   ]
  },
  {
   "cell_type": "markdown",
   "metadata": {},
   "source": [
    "# <div style=\"text-align:center;\"><span style=\"border: 2px solid;padding:6px;color:dodgerblue;\">Les booléens</span></div> #\n",
    "\n",
    "Nous avons déjà vu les types <span style=\"font-family:Courier New;font-size: 100%;\">int, float</span> et <span style=\"font-family:Courier New;font-size: 100%;\">str</span>.<br>\n",
    "Dans cette leçon, nous allons évoquer le type <span style=\"font-family:Courier New;font-size: 100%;\">bool</span> pour <strong>booléen</strong>, qui ne peut prendre que deux valeurs : <span style=\"font-family:Courier New;font-size: 100%;\"><strong>T</strong>rue</span> ou <span style=\"font-family:Courier New;font-size: 100%;\"><strong>F</strong>alse</span>.\n",
    "## <u style=\"color:red;\">I. Comparer deux variables :</u> ##\n",
    "Imaginons qu'on ait affecté l'entier <span style=\"font-family:Courier New;font-size: 100%;\">15</span> à la variable <span style=\"font-family:Courier New;font-size: 100%;\">x</span>.<br>\n",
    "On peut alors comparer <span style=\"font-family:Courier New;font-size: 100%;\">x</span> à d'autres valeurs :<br>\n"
   ]
  },
  {
   "cell_type": "code",
   "execution_count": null,
   "metadata": {},
   "outputs": [],
   "source": [
    "x = 15\n",
    "# x est-il inférieur strict à 20 ?\n",
    "print(x < 20)"
   ]
  },
  {
   "cell_type": "markdown",
   "metadata": {},
   "source": [
    "La valeur renvoyée est un <strong>booléen</strong>, car la réponse ne peut prendre que deux valeurs possibles : <span style=\"font-family:Courier New;font-size: 100%;\">True</span> (Vrai) ou <span style=\"font-family:Courier New;font-size: 100%;\">False</span> (Faux).<br>\n"
   ]
  },
  {
   "cell_type": "code",
   "execution_count": null,
   "metadata": {},
   "outputs": [],
   "source": [
    "# x est-il supérieur ou égal à 18?\n",
    "print(x >= 18)\n",
    "# x est-il égal à 12 ?\n",
    "print(x == 12)"
   ]
  },
  {
   "cell_type": "markdown",
   "metadata": {},
   "source": [
    "Là encore, deux boléens ont été renvoyés.<br>\n",
    "<br>\n",
    "⚠️ ATTENTION à utiliser <strong>deux fois</strong> le symbole égal pour tester <strong>l'égalité</strong>.<br>\n",
    "<br>\n",
    "<u>Un seul égal</u> servant à <u>l'affectation</u>.<br>\n",
    "<br>\n",
    "On retiendra donc qu'on peut <u>comparer deux variables</u>, et que le résultat est un <u>booléen</u> :<br>\n",
    "<br>\n",
    "<span style=\"font-family:Courier New;font-size: 100%;\">x < y</span> : <span style=\"font-family:Courier New;font-size: 100%;\">x</span> est-il strictement inférieur à <span style=\"font-family:Courier New;font-size: 100%;\">y</span> ?<br>\n",
    "<span style=\"font-family:Courier New;font-size: 100%;\">x > y</span> : <span style=\"font-family:Courier New;font-size: 100%;\">x</span> est-il strictement supérieur à <span style=\"font-family:Courier New;font-size: 100%;\">y</span> ?<br>\n",
    "<span style=\"font-family:Courier New;font-size: 100%;\">x <= y</span> : <span style=\"font-family:Courier New;font-size: 100%;\">x</span> est-il inférieur ou égal à <span style=\"font-family:Courier New;font-size: 100%;\">y</span> ?<br>\n",
    "<span style=\"font-family:Courier New;font-size: 100%;\">x >= y</span> : <span style=\"font-family:Courier New;font-size: 100%;\">x</span> est-il supérieur ou égal à <span style=\"font-family:Courier New;font-size: 100%;\">y</span> ?<br>\n",
    "<span style=\"font-family:Courier New;font-size: 100%;\"> x==y</span> : <span style=\"font-family:Courier New;font-size: 100%;\">x</span> est-il égal à <span style=\"font-family:Courier New;font-size: 100%;\">y</span> ?<br>\n",
    "<span style=\"font-family:Courier New;font-size: 100%;\">x != y</span> : <span style=\"font-family:Courier New;font-size: 100%;\">x</span> est-il différent de <span style=\"font-family:Courier New;font-size: 100%;\">y</span> ?\n",
    "## <u style=\"color:red;\">II. Les booléens :</u> ##\n",
    "### <u style=\"color:green;\">1. Le type <span style=\"font-family:Courier New;font-size: 100%;\">bool</span> :</u> ###\n",
    "Un booléen est donc une sorte de condition que Python évalue, et dont le résultat ne peut prendre que deux valeurs : <span style=\"font-family:Courier New;font-size: 100%;\"><strong>T</strong>rue</span> ou <span style=\"font-family:Courier New;font-size: 100%;\"><strong>F</strong>alse</span>. Notez la majuscule.<br>\n",
    "C’est le quatrième type de données que nous découvrons. Un booléen peut parfaitement être affecté à une variable :<br>\n"
   ]
  },
  {
   "cell_type": "code",
   "execution_count": null,
   "metadata": {},
   "outputs": [],
   "source": [
    "je_suis_le_meilleur = True\n",
    "je_suis_le_plus_beau = False # un peu de modestie quand même ;-)\n",
    "print( type(je_suis_le_meilleur) ) # pour constater le type booléen"
   ]
  },
  {
   "cell_type": "markdown",
   "metadata": {},
   "source": [
    "### <u style=\"color:green;\">2. Combiner des booléens :</u> ###\n",
    "On peut combiner deux booléens pour en obtenir un troisième à l’aide d’instructions comme <span style=\"font-family:Courier New;font-size: 100%;\">and</span> (et), <span style=\"font-family:Courier New;font-size: 100%;\">or</span> (ou) et <span style=\"font-family:Courier New;font-size: 100%;\">not</span> (pas ou contraire de):<br>\n"
   ]
  },
  {
   "cell_type": "code",
   "execution_count": null,
   "metadata": {},
   "outputs": [],
   "source": [
    "qcm.et()"
   ]
  },
  {
   "cell_type": "code",
   "execution_count": null,
   "metadata": {},
   "outputs": [],
   "source": [
    "qcm.ou()"
   ]
  },
  {
   "cell_type": "code",
   "execution_count": null,
   "metadata": {},
   "outputs": [],
   "source": [
    "qcm.not1()"
   ]
  },
  {
   "cell_type": "code",
   "execution_count": null,
   "metadata": {},
   "outputs": [],
   "source": [
    "qcm.not2()"
   ]
  },
  {
   "cell_type": "markdown",
   "metadata": {},
   "source": [
    "### <u style=\"color:green;\">3. Opérateurs logiques :</u> ###\n",
    "<span style=\"font-family:Courier New;font-size: 100%;\">and, or</span> et <span style=\"font-family:Courier New;font-size: 100%;\">not</span> sont appelés <strong>opérateurs logiques</strong>.<br>\n",
    "On peut construire pour chacun d'eux sa <strong>table de vérité</strong> :<br>\n",
    "C'est une table, qui, en fonction de la valeur de chaque condition indique la valeur obtenue en les combinant avec l'opérateur choisi.<br>\n",
    "\n",
    "#### <u style=\"color:blue;\">a. L'opérateur logique <span style=\"font-family:Courier New;font-size: 100%;\">not</span> :</u> ####\n",
    "Il ne requiert qu'une seule condition <span style=\"font-family:Courier New;font-size: 100%;\">A</span>.<br>\n",
    "Si <span style=\"font-family:Courier New;font-size: 100%;\">A</span> vaut <span style=\"font-family:Courier New;font-size: 100%;\">True</span>, <span style=\"font-family:Courier New;font-size: 100%;\">not A</span> vaut <span style=\"font-family:Courier New;font-size: 100%;\">False</span><br>\n",
    "Si <span style=\"font-family:Courier New;font-size: 100%;\">A</span> vaut <span style=\"font-family:Courier New;font-size: 100%;\">False</span>, <span style=\"font-family:Courier New;font-size: 100%;\">not A </span> vaut <span style=\"font-family:Courier New;font-size: 100%;\">True</span><br>\n",
    "La table de vérité est donc :<br>\n",
    "<br>\n",
    "![alt text](mes_images/not.png \"table de vérité not\")<br>\n",
    "*Remarque :*<br>\n",
    "Les deux présentations possibles d'une table de vérité proviennent du fait qu'on peut assimiler :<br>\n",
    "→ <span style=\"font-family:Courier New;font-size: 100%;\">True</span> à <span style=\"font-family:Courier New;font-size: 100%;\">1</span><br>\n",
    "→ <span style=\"font-family:Courier New;font-size: 100%;\">False</span> à <span style=\"font-family:Courier New;font-size: 100%;\">0</span>. <br>\n",
    "<br>\n",
    "C'est d'ailleurs ce que fait python :<br>\n"
   ]
  },
  {
   "cell_type": "code",
   "execution_count": null,
   "metadata": {},
   "outputs": [],
   "source": [
    "print( True == 1 )\n",
    "print( False == 0 )"
   ]
  },
  {
   "cell_type": "markdown",
   "metadata": {},
   "source": [
    "● En algorithmique, <span style=\"font-family:Courier New;font-size: 100%;\">not A</span> s'écrit  <span style=\"border: 2px solid;padding:6px;\">$\\displaystyle\\neg~$<span style=\"font-family:Courier New;font-size: 100%;\">A</span> </span><br>\n",
    "<br>\n",
    "#### <u style=\"color:blue;\">b. L'opérateur logique <span style=\"font-family:Courier New;font-size: 100%;\">and</span> :</u> ####\n",
    "Il requiert deux conditions <span style=\"font-family:Courier New;font-size: 100%;\">A</span> et <span style=\"font-family:Courier New;font-size: 100%;\">B</span>.<br>\n",
    "<span style=\"font-family:Courier New;font-size: 100%;\">A and B</span>  n'est vrai que si <span style=\"font-family:Courier New;font-size: 100%;\">A</span> et <span style=\"font-family:Courier New;font-size: 100%;\">B</span> sont <strong>simultanément vraies</strong>.<br>\n",
    "Voici donc la table de vérité de l'opérateur logique <span style=\"font-family:Courier New;font-size: 100%;\">and</span> :<br>\n",
    "![alt text](mes_images/et.png \"table de vérité and\")<br>\n",
    "<br>\n",
    "<br>● En algorithmique, <span style=\"font-family:Courier New;font-size: 100%;\">A and B</span> s'écrit  <span style=\"border: 2px solid;padding:6px;\"><span style=\"font-family:Courier New;font-size: 100%;\">A</span>$~\\wedge~$<span style=\"font-family:Courier New;font-size: 100%;\">B</span> </span><br>\n",
    "<br>\n",
    "#### <u style=\"color:blue;\">c. L'opérateur logique <span style=\"font-family:Courier New;font-size: 100%;\">or</span> :</u> ####\n",
    "Il requiert deux conditions <span style=\"font-family:Courier New;font-size: 100%;\">A</span> et <span style=\"font-family:Courier New;font-size: 100%;\">B</span>.<br>\n",
    "<span style=\"font-family:Courier New;font-size: 100%;\">A or B</span>  est vrai si <strong>l'une au moins des conditions</strong> <span style=\"font-family:Courier New;font-size: 100%;\">A</span> ou <span style=\"font-family:Courier New;font-size: 100%;\">B</span> est vraie.<br>\n",
    "On dit qu'il s'agit d'un <span style=\"font-family:Courier New;font-size: 100%;\">ou</span> <strong>inclusif</strong> dans la mesure où il inclut la possibilité d'avoir deux <span style=\"font-family:Courier New;font-size: 100%;\">True</span> pour renvoyer <span style=\"font-family:Courier New;font-size: 100%;\">True</span>.<br>\n",
    "Voici donc la table de vérité de l'opérateur logique <span style=\"font-family:Courier New;font-size: 100%;\">or</span> :<br>\n",
    "<br>\n",
    "![alt text](mes_images/ou.png \"table de vérité or\")<br>\n",
    "<br>\n",
    "<br>● En algorithmique, <span style=\"font-family:Courier New;font-size: 100%;\">A or B</span> s'écrit  <span style=\"border: 2px solid;padding:6px;\"><span style=\"font-family:Courier New;font-size: 100%;\">A</span>$~\\lor~$<span style=\"font-family:Courier New;font-size: 100%;\">B</span> </span><br>\n",
    "<br>\n",
    "#### <u style=\"color:blue;\">d. L'opérateur logique <span style=\"font-family:Courier New;font-size: 100%;\">xor</span> :</u> ####\n",
    "Il s'agit cette fois-ci d'un <span style=\"font-family:Courier New;font-size: 100%;\">ou</span> <strong>exclusif</strong>.<br>\n",
    "Autrement dit, <span style=\"font-family:Courier New;font-size: 100%;\">A xor B</span> n'est vraie que si <strong>exactement l'une</strong> des deux conditions est vraie.<br>\n",
    "En excluant donc la possibilité d'avoir deux <span style=\"font-family:Courier New;font-size: 100%;\">True</span>.<br>\n",
    "En python, <span style=\"font-family:Courier New;font-size: 100%;\">A xor B </span> s'écrit <span style=\"font-family:Courier New;font-size: 100%;\">A ^ B</span>.<br>\n",
    "Voici la table de vérité de l'opérateur logique <span style=\"font-family:Courier New;font-size: 100%;\">xor</span> :<br>\n",
    "<br>\n",
    "![alt text](mes_images/xor.png \"table de vérité or\")<br>\n",
    "<br>\n",
    "<br>● En algorithmique, <span style=\"font-family:Courier New;font-size: 100%;\">A xor B</span> s'écrit  <span style=\"border: 2px solid;padding:6px;\"><span style=\"font-family:Courier New;font-size: 100%;\">A</span>$~\\oplus ~$<span style=\"font-family:Courier New;font-size: 100%;\">B</span> </span><br>\n",
    "<br>\n",
    "## <u style=\"color:red;\">III. Exemples en python :</u> ##\n"
   ]
  },
  {
   "cell_type": "code",
   "execution_count": null,
   "metadata": {},
   "outputs": [],
   "source": [
    "qcm.question1()"
   ]
  },
  {
   "cell_type": "code",
   "execution_count": null,
   "metadata": {},
   "outputs": [],
   "source": [
    "qcm.question2()"
   ]
  },
  {
   "cell_type": "code",
   "execution_count": null,
   "metadata": {},
   "outputs": [],
   "source": [
    "qcm.question3()"
   ]
  },
  {
   "cell_type": "code",
   "execution_count": null,
   "metadata": {},
   "outputs": [],
   "source": [
    "qcm.question4()"
   ]
  },
  {
   "cell_type": "code",
   "execution_count": null,
   "metadata": {},
   "outputs": [],
   "source": [
    "qcm.question5()"
   ]
  },
  {
   "cell_type": "code",
   "execution_count": null,
   "metadata": {},
   "outputs": [],
   "source": [
    "qcm.question6()"
   ]
  },
  {
   "cell_type": "code",
   "execution_count": null,
   "metadata": {},
   "outputs": [],
   "source": [
    "qcm.question7()"
   ]
  },
  {
   "cell_type": "code",
   "execution_count": null,
   "metadata": {},
   "outputs": [],
   "source": [
    "qcm.question8()"
   ]
  },
  {
   "cell_type": "code",
   "execution_count": null,
   "metadata": {},
   "outputs": [],
   "source": [
    "qcm.question9()"
   ]
  },
  {
   "cell_type": "code",
   "execution_count": null,
   "metadata": {},
   "outputs": [],
   "source": [
    "qcm.question10()"
   ]
  }
 ],
 "metadata": {},
 "nbformat": 4,
 "nbformat_minor": 4
}
