{
 "cells": [
  {
   "cell_type": "code",
   "execution_count": null,
   "metadata": {},
   "outputs": [],
   "source": [
    "from outils import* # Lancer la cellule pour importer les outils nécessaires au notebook."
   ]
  },
  {
   "cell_type": "markdown",
   "metadata": {},
   "source": [
    "# <div style=\"text-align:center;\"><span style=\"border: 2px solid;padding:6px;color:dodgerblue;\">Les boucles <span style=\"font-family:Courier New;font-size: 100%;\">for</span> en python</span></div> #\n",
    "\n",
    "### <u style=\"color:green;\">1. Problématique :</u> ###\n",
    "En informatique, il arrive très souvent qu'on souhaite <strong>répéter n fois</strong> un bloc d'instructions.<br>\n",
    "Pour afficher en boucle 4 fois de suite :<br>\n",
    "<br>\n",
    "<span style=\"font-family:Courier New;font-size: 100%;\">\"Bonjour Guido.\"</span><br>\n",
    "<span style=\"font-family:Courier New;font-size: 100%;\">\"Comment vas-tu?\"</span><br>\n",
    "<br>\n",
    "On doit <strong>répéter 4 fois le bloc</strong> de deux instructions :<br>\n",
    "<br>\n",
    "<span style=\"font-family:Courier New;font-size: 100%;\">print(\"Bonjour Guido\")</span><br>\n",
    "<span style=\"font-family:Courier New;font-size: 100%;\">print(\"Comment vas-tu?\")</span><br>\n",
    "<br>\n",
    "On pourrait écrire :<br>\n"
   ]
  },
  {
   "cell_type": "code",
   "execution_count": null,
   "metadata": {},
   "outputs": [],
   "source": [
    "# et d'une\n",
    "print(\"Bonjour Guido\")\n",
    "print(\"Comment vas-tu?\")\n",
    "# et de deux...\n",
    "print(\"Bonjour Guido\")\n",
    "print(\"Comment vas-tu?\")\n",
    "# et de trois...\n",
    "print(\"Bonjour Guido\")\n",
    "print(\"Comment vas-tu?\")\n",
    "# ouf, quatre!\n",
    "print(\"Bonjour Guido\")\n",
    "print(\"Comment vas-tu?\")"
   ]
  },
  {
   "cell_type": "markdown",
   "metadata": {},
   "source": [
    "● C'est évidemment très fastidieux... Et comment faire s'il nous prenait l'envie de répéter 1000 fois ces messages?<br>\n",
    "<br>Les <strong>boucles</strong> <span style=\"font-family:Courier New;font-size: 100%;\">for</span> permettent de répondre <strong>efficacement</strong> à ce problème : <span style=\"border: 2px solid;padding:6px;\"><strong>répéter n fois</strong> un même bloc d'instructions</span>\n",
    "\n",
    "### <u style=\"color:green;\">2. La syntaxe d'une boucle <span style=\"font-family:Courier New;font-size: 100%;\">for</span> :</u> ###\n",
    "→ L'idée est de préciser le <strong>nombre de tours</strong> de boucles à effectuer<br>\n",
    "→ Et d'<strong>indenter</strong> le bloc d'instructions à répéter.<br>\n",
    "<br>\n",
    "Chaque tour de boucle va être <strong>numéroté</strong> à l'aide d'un <strong>index</strong> entier, qui <strong>part de</strong> <span style=\"font-family:Courier New;font-size: 100%;\">0</span> par défaut.<br>\n",
    "Si on réalise <span style=\"font-family:Courier New;font-size: 100%;\">4</span> tours de boucles, l'index ira donc de <span style=\"font-family:Courier New;font-size: 100%;\">0</span> à <span style=\"font-family:Courier New;font-size: 100%;\">3</span>.<br>\n",
    "Il y aura donc :\n",
    "- le tour d'index (ou numéro) <span style=\"font-family:Courier New;font-size: 100%;\">0</span>\n",
    "\n",
    "- le tour d'index (ou numéro) <span style=\"font-family:Courier New;font-size: 100%;\">1</span>\n",
    "\n",
    "- le tour d'index (ou numéro) <span style=\"font-family:Courier New;font-size: 100%;\">2</span>\n",
    "\n",
    "- le tour d'index (ou numéro) <span style=\"font-family:Courier New;font-size: 100%;\">3</span>\n",
    "\n",
    "\n",
    "Voici la syntaxe :<br>\n"
   ]
  },
  {
   "cell_type": "code",
   "execution_count": null,
   "metadata": {},
   "outputs": [],
   "source": [
    "for k in range(4): # On réalise 4 tours de boucles. L'index, noté k varie de 0 à 3.\n",
    "    print(\"Bonjour Guido\") # bloc de deux instructions\n",
    "    print(\"Comment vas-tu?\")"
   ]
  },
  {
   "cell_type": "markdown",
   "metadata": {},
   "source": [
    "● La syntaxe générale est donc :<br>\n",
    "![alt text](mes_images/corps_boucle.png \"corps de la boucle\")<br>\n",
    "L'<strong>index</strong> peut indifféremment se nommer <span style=\"font-family:Courier New;font-size: 100%;\">i, j, k</span> ou même <span style=\"font-family:Courier New;font-size: 100%;\">compteur</span>.<br>\n",
    "<br><div style=\"text-align:center;\"><span style=\"border: 2px solid;padding:6px;\">la fonction <span style=\"font-family:Courier New;font-size: 100%;\">range(n)</span> crée une <strong>séquence de <span style=\"font-family:Courier New;font-size: 100%;\">n</span> entiers allant de 0 à <span style=\"font-family:Courier New;font-size: 100%;\">n-1</span></strong></span></div><br>\n",
    "<br><u style=\"color:blue;\">Exercice 1 :</u><br>\n",
    "Ecrire un programme qui affiche les puissances de 2 ( de $2^0$ à $2^7$) ainsi :<br>\n",
    "<span style=\"font-family:Courier New;font-size: 100%;\">2 puissance 0 vaut ...</span><br>\n",
    "<span style=\"font-family:Courier New;font-size: 100%;\">2 puissance 1 vaut ...</span><br>\n",
    "<span style=\"font-family:Courier New;font-size: 100%;\">...</span><br>\n",
    "<span style=\"font-family:Courier New;font-size: 100%;\">2 puissance 7 vaut ...</span><br>\n"
   ]
  },
  {
   "cell_type": "code",
   "execution_count": null,
   "metadata": {},
   "outputs": [],
   "source": [
    "# Affiche les puissances de 2 :\n",
    "# à compléter"
   ]
  },
  {
   "cell_type": "code",
   "execution_count": null,
   "metadata": {},
   "outputs": [],
   "source": [
    "solution.puissances()"
   ]
  },
  {
   "cell_type": "markdown",
   "metadata": {},
   "source": [
    "### <u style=\"color:green;\">3. Compléments sur la fonction <span style=\"font-family:Courier New;font-size: 100%;\">range(...)</span> :</u> ###\n",
    "● Nous avons vu que l'instruction <span style=\"font-family:Courier New;font-size: 100%;\">for k in range(30):</span> permet à l'index <span style=\"font-family:Courier New;font-size: 100%;\">k</span> de parcourir la séquence de <span style=\"font-family:Courier New;font-size: 100%;\">30</span> entiers : <span style=\"font-family:Courier New;font-size: 100%;\">0, 1, ..., 29</span><br>\n",
    "<strong>Par défaut</strong>, <span style=\"font-family:Courier New;font-size: 100%;\">k</span> part de <span style=\"font-family:Courier New;font-size: 100%;\">0</span>.<br>\n",
    "<br>\n",
    "● Si on souhaite <strong>modifier cette valeur départ</strong>, on peut écrire : <span style=\"font-family:Courier New;font-size: 100%;\">for k in range(4, 30):</span>.<br>\n",
    "<span style=\"font-family:Courier New;font-size: 100%;\">k</span> part alors de <span style=\"font-family:Courier New;font-size: 100%;\">4</span> <strong>inclus</strong>.<br>\n",
    "<br>\n",
    "● Et si on souhaite que <span style=\"font-family:Courier New;font-size: 100%;\">k</span> se déplace de 2 en 2, on peut rajouter le <strong>pas</strong> : <span style=\"font-family:Courier New;font-size: 100%;\">for k in range(4, 30, 2):</span>.<br>\n",
    "La séquence devient alors <span style=\"font-family:Courier New;font-size: 100%;\">4, 6, 8, ..., 26, 28</span><br>\n",
    "<strong>Dans tous les cas, <span style=\"font-family:Courier New;font-size: 100%;\">30</span> n'est pas atteint</strong>.<br>\n",
    "<br>\n",
    "● De façon plus générale, <span style=\"font-family:Courier New;font-size: 100%;\">range(a, b, pas)</span> crée une séquence d'entiers :\n",
    "- dont premier est : <span style=\"font-family:Courier New;font-size: 100%;\">a</span>\n",
    "\n",
    "- dont le dernier est : <span style=\"font-family:Courier New;font-size: 100%;\">b - pas</span>\n",
    "\n",
    "- et dont l'écart entre chaque est de : <span style=\"font-family:Courier New;font-size: 100%;\">pas</span>\n",
    "\n",
    "⚠️ <span style=\"font-family:Courier New;font-size: 100%;\">b</span> n'est <strong>pas inclus</strong>!<br>\n"
   ]
  },
  {
   "cell_type": "code",
   "execution_count": null,
   "metadata": {},
   "outputs": [],
   "source": [
    "qcm.range1()"
   ]
  },
  {
   "cell_type": "code",
   "execution_count": null,
   "metadata": {},
   "outputs": [],
   "source": [
    "qcm.range2()"
   ]
  },
  {
   "cell_type": "code",
   "execution_count": null,
   "metadata": {},
   "outputs": [],
   "source": [
    "qcm.range3()"
   ]
  },
  {
   "cell_type": "markdown",
   "metadata": {},
   "source": [
    "<u style=\"color:blue;\">Exercice 2 :</u><br>\n",
    "Ecrire un programme qui :<br>\n",
    "→ demande un entier entre 1 et 10<br>\n",
    "→ puis affiche sa table de multiplication ainsi :<br>\n",
    "<br>\n",
    "<span style=\"font-family:Courier New;font-size: 100%;\">1 * ... vaut ...</span><br>\n",
    "<span style=\"font-family:Courier New;font-size: 100%;\">2 * ... vaut ...</span><br>\n",
    "<span style=\"font-family:Courier New;font-size: 100%;\">...</span><br>\n",
    "<span style=\"font-family:Courier New;font-size: 100%;\">10 * ... vaut ...</span><br>\n"
   ]
  },
  {
   "cell_type": "code",
   "execution_count": null,
   "metadata": {},
   "outputs": [],
   "source": [
    "# table de multiplication\n",
    "# à compléter"
   ]
  },
  {
   "cell_type": "code",
   "execution_count": null,
   "metadata": {},
   "outputs": [],
   "source": [
    "solution.table_multiplication()"
   ]
  },
  {
   "cell_type": "markdown",
   "metadata": {},
   "source": [
    "● Une autre version possible :<br>\n"
   ]
  },
  {
   "cell_type": "code",
   "execution_count": null,
   "metadata": {},
   "outputs": [],
   "source": [
    "solution.autre_version()"
   ]
  },
  {
   "cell_type": "markdown",
   "metadata": {},
   "source": [
    "<u style=\"color:blue;\">Exercice 3 :</u><br>\n",
    "Ecrire une fonction <span style=\"font-family:Courier New;font-size: 100%;\">somme(n)</span>, qui renvoie la somme des <span style=\"font-family:Courier New;font-size: 100%;\">n</span> premiers entiers :<br>\n",
    "<span style=\"font-family:Courier New;font-size: 100%;\">somme(3)</span> renvoie <span style=\"font-family:Courier New;font-size: 100%;\">6</span> car $1+2+3=6$<br>\n",
    "<span style=\"font-family:Courier New;font-size: 100%;\">somme(7)</span> renvoie <span style=\"font-family:Courier New;font-size: 100%;\">28</span> car $1+2+3+4+5+6+7=28$<br>\n",
    "<br>\n",
    "Pensez à inclure 3 assertions correspondant à <strong>une précondition</strong> et les <strong>deux postconditions</strong> fournies.<br>\n"
   ]
  },
  {
   "cell_type": "code",
   "execution_count": null,
   "metadata": {},
   "outputs": [],
   "source": [
    "# définir la fonction somme(n)"
   ]
  },
  {
   "cell_type": "code",
   "execution_count": null,
   "metadata": {},
   "outputs": [],
   "source": [
    "solution.somme()"
   ]
  },
  {
   "cell_type": "markdown",
   "metadata": {},
   "source": [
    "### <u style=\"color:green;\">4. \"Casser\" une boucle :</u> ###\n",
    "Il est parfois nécessaire <strong>d'interrompre</strong> une boucle, par exemple <strong>parce qu'on a trouvé une solution à un problème</strong>.<br>\n",
    "Il est alors possible de <strong>sortir du corps de boucle</strong> en utilisant le mot-clé <span style=\"font-family:Courier New;font-size: 100%;\">break</span>.<br>\n",
    "<br>\n",
    "*Exemple :*<br>\n",
    "A l'aide d'une boucle, cherchons le plus petit entier compris entre 1000 et 2000 qui soit divisible par 73 :<br>\n"
   ]
  },
  {
   "cell_type": "code",
   "execution_count": null,
   "metadata": {},
   "outputs": [],
   "source": [
    "qcm.for_k()"
   ]
  },
  {
   "cell_type": "code",
   "execution_count": null,
   "metadata": {},
   "outputs": [],
   "source": [
    "qcm.divisibilite()"
   ]
  },
  {
   "cell_type": "markdown",
   "metadata": {},
   "source": [
    "● Complétez le code ci-dessous pour obtenir le plus petit entier compris entre 1000 et 2000 qui soit divisible par 73 :<br>\n"
   ]
  },
  {
   "cell_type": "code",
   "execution_count": null,
   "metadata": {},
   "outputs": [],
   "source": [
    "# on cherche le plus petit entier k entre 1000 et 2000 divisible par 73\n",
    "for k in range(..., ...):\n",
    "    if ... :\n",
    "        break # on casse la boucle en trouvant cet entier car on n'en cherche qu'un seul : le plus petit\n",
    "print(\"le plus petit entier entre 1000 et 2000 divisible par 73 est :\", ...)"
   ]
  },
  {
   "cell_type": "code",
   "execution_count": null,
   "metadata": {},
   "outputs": [],
   "source": [
    "solution.plut_petit()"
   ]
  },
  {
   "cell_type": "markdown",
   "metadata": {},
   "source": [
    "### <u style=\"color:green;\">5. Exercices :</u> ###\n",
    "<u style=\"color:blue;\">Exercice 4 :</u><br>\n",
    "On souhaite écrire une fonction <span style=\"font-family:Courier New;font-size: 100%;\">entier_max(n)</span> qui renvoie la valeur <strong>du plus grand entier que l'on peut coder sur <span style=\"font-family:Courier New;font-size: 100%;\">n</span> bits</strong>.<br>\n"
   ]
  },
  {
   "cell_type": "code",
   "execution_count": null,
   "metadata": {},
   "outputs": [],
   "source": [
    "qcm.bit_4()"
   ]
  },
  {
   "cell_type": "code",
   "execution_count": null,
   "metadata": {},
   "outputs": [],
   "source": [
    "qcm.bit_8()"
   ]
  },
  {
   "cell_type": "markdown",
   "metadata": {},
   "source": [
    "● Compléter la fonction <span style=\"font-family:Courier New;font-size: 100%;\">entier_max(n)</span> :<br>\n"
   ]
  },
  {
   "cell_type": "code",
   "execution_count": null,
   "metadata": {},
   "outputs": [],
   "source": [
    "def entier_max(n):\n",
    "    '''renvoie la valeur du plus grand entier que l'on peut coder sur n bits'''\n",
    "    assert ..., ... # précondition au moins un bit pour coder\n",
    "    # à compléter\n",
    "\n",
    "assert entier_max(4) == ..., \"l'entier max sur 4 bits est ...\"\n",
    "assert entier_max(8) == ..., \"l'entier max sur 8 bits est ...\""
   ]
  },
  {
   "cell_type": "code",
   "execution_count": null,
   "metadata": {},
   "outputs": [],
   "source": [
    "solution.entier_max()"
   ]
  },
  {
   "cell_type": "markdown",
   "metadata": {},
   "source": [
    "### <u style=\"color:green;\">6. Boucles imbriquées :</u> ###\n",
    "Il est tout à fait possible d'imbriquer une boucle dans une boucle.<br>\n",
    "C'est à dire <u>d'inclure</u> une boucle d'index <span style=\"font-family:Courier New;font-size: 100%;\">j</span> <u>dans le corps</u> d'une boucle d'index <span style=\"font-family:Courier New;font-size: 100%;\">i</span> :<br>\n",
    "<br>\n",
    "*Exemple :*<br>\n",
    "<span style=\"font-family:Courier New;font-size: 100%;\">for i in range(4):</span><br>\n",
    "&nbsp;&nbsp;&nbsp;&nbsp;&nbsp;&nbsp;&nbsp;&nbsp;<span style=\"font-family:Courier New;font-size: 100%;\">for j in range(3):</span><br>\n",
    "&nbsp;&nbsp;&nbsp;&nbsp;&nbsp;&nbsp;&nbsp;&nbsp;&nbsp;&nbsp;&nbsp;&nbsp;&nbsp;&nbsp;&nbsp;&nbsp;<span style=\"font-family:Courier New;font-size: 100%;\">print(\"i =\", i, \"j =\", j)</span><br>\n"
   ]
  },
  {
   "cell_type": "code",
   "execution_count": null,
   "metadata": {},
   "outputs": [],
   "source": [
    "qcm.premieres_valeurs()"
   ]
  },
  {
   "cell_type": "code",
   "execution_count": null,
   "metadata": {},
   "outputs": [],
   "source": [
    "qcm.combien_de_tours()"
   ]
  },
  {
   "cell_type": "code",
   "execution_count": null,
   "metadata": {},
   "outputs": [],
   "source": [
    "qcm.dernieres_valeurs()"
   ]
  },
  {
   "cell_type": "markdown",
   "metadata": {},
   "source": [
    "<u style=\"color:blue;\">Exercice 5 :</u><br>\n",
    "Voici un exercice donné au concours kangourou!<br>\n",
    "Déterminer deux entiers distincts entre 1 et 26 tels que leur produit soit égal à la somme des 24 autres restants…<br>\n"
   ]
  },
  {
   "cell_type": "code",
   "execution_count": null,
   "metadata": {},
   "outputs": [],
   "source": [
    "# code exercice du concours kangourou\n",
    "# à compléter"
   ]
  },
  {
   "cell_type": "code",
   "execution_count": null,
   "metadata": {},
   "outputs": [],
   "source": [
    "solution.kangourou()"
   ]
  },
  {
   "cell_type": "markdown",
   "metadata": {},
   "source": [
    "<u style=\"color:blue;\">Exercice 6 :</u> <span style=\"color:blue;\">Les fractions diaboliques…</span><br>\n",
    "Voici ce qu'on peut lire sur la copie d'un élève :<br>\n",
    "![alt text](mes_images/fraction.png \"une fraction diabolique\")<br>\n",
    "Ecrire un programme permettant de déterminer <u>toutes les fractions</u> possédant <strong>deux chiffres</strong> au <strong>numérateur</strong> et au <strong>dénominateur</strong> pour lesquelles cette simplification en diagonale est valable...<br>\n"
   ]
  },
  {
   "cell_type": "code",
   "execution_count": null,
   "metadata": {},
   "outputs": [],
   "source": [
    "# code fractions diaboliques\n",
    "# à compléter"
   ]
  },
  {
   "cell_type": "code",
   "execution_count": null,
   "metadata": {},
   "outputs": [],
   "source": [
    "solution.diaboliques()"
   ]
  }
 ],
 "metadata": {},
 "nbformat": 4,
 "nbformat_minor": 4
}
