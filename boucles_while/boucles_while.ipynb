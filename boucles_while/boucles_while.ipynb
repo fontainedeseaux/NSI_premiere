{
 "cells": [
  {
   "cell_type": "code",
   "execution_count": 1,
   "metadata": {},
   "outputs": [],
   "source": [
    "from outils import* # Lancer la cellule pour importer les outils nécessaires au notebook."
   ]
  },
  {
   "cell_type": "markdown",
   "metadata": {},
   "source": [
    "# <div style=\"text-align:center;\"><span style=\"border: 2px solid;padding:6px;color:dodgerblue;\">STRUCTURES DE BOUCLES CONDITIONNELLES</span></div> #\n",
    "\n",
    "## <u style=\"color:red;\">I. Principe et structure :</u> ##\n",
    "Nous avons déjà rencontré le mécanisme de la boucle <span style=\"font-family:Courier New;font-size: 100%;\">for</span> qui permet un nombre <strong>prédéfini d'itérations</strong> (ou tour de boucle).<br>\n",
    "Nous avons également rencontré l'instruction <span style=\"font-family:Courier New;font-size: 100%;\">if</span> qui permet ou non d'exécuter un bloc d'instructions en fonction d'un <strong>booléen</strong> (résultat d'un test).<br>\n",
    "Les boucle <span style=\"font-family:Courier New;font-size: 100%;\">tant que</span> ou <span style=\"font-family:Courier New;font-size: 100%;\">while</span>, combinent ces deux principes en conditionnant la poursuite des itérations à un test effectué préalablement à chaque tour de boucle :<br>\n",
    "![alt text](while.png \"boucle while\")<br>\n",
    "<u>Exemple:</u><br>\n",
    "<span style=\"font-family:Courier New;font-size: 100%;\">tant que le_temps_est_maussade:</span><br>\n",
    "&nbsp;&nbsp;&nbsp;&nbsp;&nbsp;&nbsp;&nbsp;&nbsp;<span style=\"font-family:Courier New;font-size: 100%;\">je_reste_chez_moi</span>\n",
    "- <strong>tant que</strong> la condition <span style=\"font-family:Courier New;font-size: 100%;\">le_temps_est_maussade</span> vaut <span style=\"font-family:Courier New;font-size: 100%;\">True</span> , le bloc d'instructions <span style=\"font-family:Courier New;font-size: 100%;\">je_reste_chez_moi</span> sera effectué.\n",
    "\n",
    "- Dès que la condition <span style=\"font-family:Courier New;font-size: 100%;\">le_temps_est_maussade</span> passe à <span style=\"font-family:Courier New;font-size: 100%;\">False</span>, <strong>on sort du corps de boucle</strong> <span style=\"font-family:Courier New;font-size: 100%;\">while</span>, et le programme se poursuit.\n",
    "\n",
    "\n",
    "<span style=\"border: 2px solid;padding:6px;\">Dans une boucle <span style=\"font-family:Courier New;font-size: 100%;\">while</span>, on ne connaît pas en général à l'avance le nombre d'itérations.</span><br>\n",
    "<br>● En python, la syntaxe est la suivante :<br>\n",
    "<br>\n",
    "<span style=\"font-family:Courier New;font-size: 100%;\">while condition: # condition est un booléen</span><br>\n",
    "&nbsp;&nbsp;&nbsp;&nbsp;&nbsp;&nbsp;&nbsp;&nbsp;<span style=\"font-family:Courier New;font-size: 100%;\">bloc_instructions # corps de la boucle</span><br>\n",
    "<br>\n",
    "<u>Exemple:</u><br>\n",
    "On considère la boucle conditionnelle suivante :<br>\n",
    "<span style=\"font-family:Courier New;font-size: 100%;\">i = 0</span><br>\n",
    "<span style=\"font-family:Courier New;font-size: 100%;\">while i < 10:</span><br>\n",
    "&nbsp;&nbsp;&nbsp;&nbsp;&nbsp;&nbsp;&nbsp;&nbsp;<span style=\"font-family:Courier New;font-size: 100%;\">print(i)</span><br>\n",
    "&nbsp;&nbsp;&nbsp;&nbsp;&nbsp;&nbsp;&nbsp;&nbsp;<span style=\"font-family:Courier New;font-size: 100%;\">i = i + 1 # ou i += 1</span><br>\n",
    "<span style=\"font-family:Courier New;font-size: 100%;\">print(\"fin\")</span><br>\n"
   ]
  },
  {
   "cell_type": "code",
   "execution_count": null,
   "metadata": {},
   "outputs": [],
   "source": [
    "question.valeur()"
   ]
  },
  {
   "cell_type": "code",
   "execution_count": null,
   "metadata": {},
   "outputs": [],
   "source": [
    "question.derniere_valeur_affichee()"
   ]
  },
  {
   "cell_type": "code",
   "execution_count": null,
   "metadata": {},
   "outputs": [],
   "source": [
    "question.nb_interations()"
   ]
  },
  {
   "cell_type": "markdown",
   "metadata": {},
   "source": [
    "● Ecrire l'équivalent du programme précédent en utilisant une boucle <span style=\"font-family:Courier New;font-size: 100%;\">for</span> :<br>\n"
   ]
  },
  {
   "cell_type": "code",
   "execution_count": null,
   "metadata": {},
   "outputs": [],
   "source": [
    "# Réércrire le script précédent en utilisant une boucle for à la place d'une boucle while\n",
    "# à compléter"
   ]
  },
  {
   "cell_type": "code",
   "execution_count": null,
   "metadata": {},
   "outputs": [],
   "source": [
    "solution.avec_for()"
   ]
  },
  {
   "cell_type": "markdown",
   "metadata": {},
   "source": [
    "<u><strong>Remarque importante :</strong></u><br>\n",
    "<br><span style=\"border: 2px solid;padding:6px;\">Si on <strong>connaît d'avance</strong> le nombre d'itérations, la boucle <span style=\"font-family:Courier New;font-size: 100%;\">for</span> est à privilégier.</span>\n",
    "\n",
    "## <u style=\"color:red;\">II. Boucle infinie :</u> ##\n",
    "La <strong>sortie</strong> d'une boucle <span style=\"font-family:Courier New;font-size: 100%;\">while</span>, donc <strong>l'arrêt des itérations</strong>, provient du fait que le booléen <span style=\"font-family:Courier New;font-size: 100%;\">condition</span> passe à <span style=\"font-family:Courier New;font-size: 100%;\">False</span>. <br>\n",
    "Un nouveau phénomène devient possible : celui d'un programme <strong>qui ne s'arrête jamais</strong> si <span style=\"font-family:Courier New;font-size: 100%;\">condition</span> est toujours vérifiée, c'est-à-dire de valeur <span style=\"font-family:Courier New;font-size: 100%;\">True</span>.<br>\n",
    "On parle alors de <strong>boucle infinie</strong>, de <strong>non-terminaison</strong> ou encore de <strong>divergence</strong>.<br>\n",
    "<br>\n",
    "<u>Exemple 1:</u><br>\n"
   ]
  },
  {
   "cell_type": "code",
   "execution_count": null,
   "metadata": {},
   "outputs": [],
   "source": [
    "while True:\n",
    "    print(\"Impossible de sortir d'ici...\")"
   ]
  },
  {
   "cell_type": "markdown",
   "metadata": {},
   "source": [
    "● Considérons le script suivant :<br>\n",
    "<span style=\"font-family:Courier New;font-size: 100%;\">i = ...</span><br>\n",
    "<span style=\"font-family:Courier New;font-size: 100%;\">while i != 0:</span><br>\n",
    "&nbsp;&nbsp;&nbsp;&nbsp;&nbsp;&nbsp;&nbsp;&nbsp;<span style=\"font-family:Courier New;font-size: 100%;\">i -= 1</span><br>\n"
   ]
  },
  {
   "cell_type": "code",
   "execution_count": null,
   "metadata": {},
   "outputs": [],
   "source": [
    "qcm.valeur()"
   ]
  },
  {
   "cell_type": "markdown",
   "metadata": {},
   "source": [
    "<u>Exemple 3 :</u> *Une erreur classique …*<br>\n",
    "Considérons le script suivant :<br>\n",
    "<span style=\"font-family:Courier New;font-size: 100%;\">i = 100</span><br>\n",
    "<span style=\"font-family:Courier New;font-size: 100%;\">while i > 0:</span><br>\n",
    "&nbsp;&nbsp;&nbsp;&nbsp;&nbsp;&nbsp;&nbsp;&nbsp;<span style=\"font-family:Courier New;font-size: 100%;\">print(\"Est-ce une boucle infinie?\")</span><br>\n"
   ]
  },
  {
   "cell_type": "code",
   "execution_count": null,
   "metadata": {},
   "outputs": [],
   "source": [
    "qcm.boucle()"
   ]
  },
  {
   "cell_type": "markdown",
   "metadata": {},
   "source": [
    "<span style=\"border: 2px solid;padding:6px;\">Dans le corps de boucle, il faut toujours penser à <strong>modifier au moins une des variables présentes dans la condition</strong>.</span><br>\n",
    "<br><br>\n",
    "<u style=\"color:blue;\">Exercice 1:</u><br>\n",
    "Ecrire un programme qui demande le <strong>nombre de pattes d'un canard</strong>.\n",
    "- et qui pose cette question <u>tant que la réponse est fausse</u>.\n",
    "\n",
    "- puis affiche un message de félicitations si la réponse est bonne\n",
    "\n"
   ]
  },
  {
   "cell_type": "code",
   "execution_count": null,
   "metadata": {},
   "outputs": [],
   "source": [
    "# à compléter"
   ]
  },
  {
   "cell_type": "code",
   "execution_count": null,
   "metadata": {},
   "outputs": [],
   "source": [
    "solution.canard()"
   ]
  },
  {
   "cell_type": "markdown",
   "metadata": {},
   "source": [
    "## <u style=\"color:red;\">III. Sortir d'une boucle avec <span style=\"font-family:Courier New;font-size: 100%;\">break</span> :</u> ##\n",
    "Nous avons vu qu'il était possible d'<strong>interrompre</strong> une boucle <span style=\"font-family:Courier New;font-size: 100%;\">for</span> avec le mot clé <span style=\"font-family:Courier New;font-size: 100%;\">break</span>.<br>\n",
    "Ce même mot-clé permet d'interrombre une boucle <span style=\"font-family:Courier New;font-size: 100%;\">while</span>.<br>\n",
    "Dans l'exemple ci-dessous, le <span style=\"font-family:Courier New;font-size: 100%;\">while True:</span> permet de rentrer dans le corps de boucle.<br>\n",
    "Le <span style=\"font-family:Courier New;font-size: 100%;\">break</span> l'interrompt :<br>\n"
   ]
  },
  {
   "cell_type": "code",
   "execution_count": null,
   "metadata": {},
   "outputs": [],
   "source": [
    "while True:\n",
    "    print(\"On rentre dans la boucle car condition vaut True\")\n",
    "    print(\"On va casser la boucle :\")\n",
    "    break\n",
    "print(\"Sortie de boucle\")"
   ]
  },
  {
   "cell_type": "markdown",
   "metadata": {},
   "source": [
    "<u>Application :</u><br>\n",
    "Réécrire le programme de l'exercice 1 en utilisant le mot clé break.<br>\n"
   ]
  },
  {
   "cell_type": "code",
   "execution_count": null,
   "metadata": {},
   "outputs": [],
   "source": [
    "# à compléter"
   ]
  },
  {
   "cell_type": "code",
   "execution_count": null,
   "metadata": {},
   "outputs": [],
   "source": [
    "solution.canard_version_2()"
   ]
  },
  {
   "cell_type": "markdown",
   "metadata": {},
   "source": [
    "## <u style=\"color:red;\">IV. Exercices:</u> ##\n",
    "<u style=\"color:blue;\">Exercice 2:</u><br>\n",
    "Une feuille de papier mesure <span style=\"font-family:Courier New;font-size: 100%;\">0.1</span> mm d'épaisseur.<br>\n",
    "Ecrire une fonction <span style=\"font-family:Courier New;font-size: 100%;\">pliages(hauteur)</span> qui indique le nombre de pliages nécessaires pour <strong>dépasser strictement</strong> <span style=\"font-family:Courier New;font-size: 100%;\">hauteur</span> exprimée en mètres.<br>\n"
   ]
  },
  {
   "cell_type": "code",
   "execution_count": null,
   "metadata": {},
   "outputs": [],
   "source": [
    "def pliages(hauteur):\n",
    "    '''indique le nombre de pliages nécessaires pour dépasser hauteur exprimée en mètres.'''\n",
    "    # à compléter\n",
    "\n",
    "a_depasser = 1\n",
    "r = pliages(a_depasser)\n",
    "print(\"Il faut\", r, \"pliages pour dépasser\", a_depasser, \"m\")"
   ]
  },
  {
   "cell_type": "code",
   "execution_count": null,
   "metadata": {},
   "outputs": [],
   "source": [
    "solution.pliages()"
   ]
  },
  {
   "cell_type": "markdown",
   "metadata": {},
   "source": [
    "<u style=\"color:blue;\">Exercice 3:</u><br>\n",
    "Un jeune vient de trouver son premier emploi. <br>\n",
    "La voiture qu’il rêve de s’acheter coûte <span style=\"font-family:Courier New;font-size: 100%;\">13900</span> €. Le véhicule perd chaque mois 2% de sa valeur.<br>\n",
    "Ecrire une fonction <span style=\"font-family:Courier New;font-size: 100%;\">attendre(S)</span> qui affiche, en fonction de la somme <span style=\"font-family:Courier New;font-size: 100%;\">S</span> qu'il peut épargner chaque mois, le nombre de mois à attendre avant de pouvoir s’acheter sa voiture.<br>\n"
   ]
  },
  {
   "cell_type": "code",
   "execution_count": null,
   "metadata": {},
   "outputs": [],
   "source": [
    "def attendre(S):\n",
    "    '''indique le nombre de mois à attendre pour pouvoir acheter la voiture, qui décote de 2% par mois, avec une epargne mensuelle de S'''\n",
    "    # à compléter\n",
    "\n",
    "somme = 200\n",
    "r = attendre(somme)\n",
    "print(\"Il faut attendre\", r, \"mois pour pouvoir acheter la voiture en épargnant\", somme, \"euros par mois\")"
   ]
  },
  {
   "cell_type": "code",
   "execution_count": null,
   "metadata": {},
   "outputs": [],
   "source": [
    "solution.attendre()"
   ]
  },
  {
   "cell_type": "markdown",
   "metadata": {},
   "source": [
    "<u style=\"color:blue;\">Exercice 4:</u><br>\n",
    "Dans cet exercice, nous importons la fonction <span style=\"font-family:Courier New;font-size: 100%;\">randint(a, b)</span> du module <span style=\"font-family:Courier New;font-size: 100%;\">random</span> afin de générer un entier au hasard compris entre <span style=\"font-family:Courier New;font-size: 100%;\">a</span> et <span style=\"font-family:Courier New;font-size: 100%;\">b</span> inclus.<br>\n",
    "En écrivant :<br>\n",
    "<span style=\"font-family:Courier New;font-size: 100%;\">hasard = randind(1, 10)</span>, on crée un entier <u>aléatoire</u> entre <span style=\"font-family:Courier New;font-size: 100%;\">1</span> et <span style=\"font-family:Courier New;font-size: 100%;\">10</span><br>\n",
    "Une puce fait des saut aléatoires dont la longueur varie de <span style=\"font-family:Courier New;font-size: 100%;\">1</span> à <span style=\"font-family:Courier New;font-size: 100%;\">10</span> cm.<br>\n",
    "On considèrera que chaque saut a une longueur entière.<br>\n",
    "Ecrire une fonction <span style=\"font-family:Courier New;font-size: 100%;\">sauts()</span> qui renvoie une liste de sauts telle que la somme totale des sauts dépasse 1 mètre.<br>\n"
   ]
  },
  {
   "cell_type": "code",
   "execution_count": null,
   "metadata": {},
   "outputs": [],
   "source": [
    "from random import randint\n",
    "def sauts():\n",
    "    '''renvoie une liste de sauts aléatoires dont la somme dépasse 1m'''\n",
    "    # à compléter\n",
    "\n",
    "r = sauts()\n",
    "print(\"Voici une liste de sauts aléatoires permettant de dépasser 1m :\")\n",
    "print(r)"
   ]
  },
  {
   "cell_type": "code",
   "execution_count": null,
   "metadata": {},
   "outputs": [],
   "source": [
    "solution.sauts()"
   ]
  },
  {
   "cell_type": "markdown",
   "metadata": {},
   "source": [
    "<u style=\"color:blue;\">Exercice 5:</u><br>\n",
    "Ecrire une fonction <span style=\"font-family:Courier New;font-size: 100%;\">trouver(mon_entier)</span> qui renvoie le <u>plus petit multiple</u> de <span style=\"font-family:Courier New;font-size: 100%;\">mon_entier</span> qui contienne les chiffres 0,1,2,3,4,5.<br>\n"
   ]
  },
  {
   "cell_type": "code",
   "execution_count": null,
   "metadata": {},
   "outputs": [],
   "source": [
    "def trouver(mon_entier):\n",
    "    '''renvoie le plus petit multiple de mon_entier qui contienne les chiffres 0, 1, 2, 3, 4, 5'''\n",
    "    # à compléter\n",
    "\n",
    "x = 153\n",
    "r = trouver(x)\n",
    "print(\"Le plus petit multiple de\", x, \"contenant 0, 1, 2, 3, 4, 5 est\", r)"
   ]
  },
  {
   "cell_type": "code",
   "execution_count": null,
   "metadata": {},
   "outputs": [],
   "source": [
    "solution.trouver()"
   ]
  },
  {
   "cell_type": "markdown",
   "metadata": {},
   "source": [
    "<u style=\"color:blue;\">Exercice 6:</u><br>\n",
    "Voici une liste de pays et une autre de capitales :<br>\n",
    "<span style=\"font-family:Courier New;font-size: 100%;\">pays = ['Italie', 'Espagne', 'Allemagne', 'Angleterre]</span><br>\n",
    "<span style=\"font-family:Courier New;font-size: 100%;\">capitales = ['Rome', 'Madrid', 'Berlin', 'Londres']</span><br>\n",
    "Ecrire un programme :\n",
    "- qui demande chaque capitale autant de fois que nécessaire pour obtenir la bonne réponse\n",
    "\n",
    "- passe à la suivante et comptabilise le nombre d'essais pour arriver à trouver les 4.\n",
    "\n"
   ]
  },
  {
   "cell_type": "code",
   "execution_count": null,
   "metadata": {},
   "outputs": [],
   "source": [
    "pays = ['Italie', 'Espagne', 'Allemagne', 'Angleterre']\n",
    "capitales = ['Rome', 'Madrid', 'Berlin', 'Londres']\n",
    "# à compléter"
   ]
  },
  {
   "cell_type": "code",
   "execution_count": null,
   "metadata": {},
   "outputs": [],
   "source": [
    "solution.capitales()"
   ]
  },
  {
   "cell_type": "markdown",
   "metadata": {},
   "source": [
    "<u style=\"color:blue;\">Exercice 7:</u><br>\n",
    "1) Ecrire une fonction <span style=\"font-family:Courier New;font-size: 100%;\">tous_differents(mon_entier)</span> qui renvoie <span style=\"font-family:Courier New;font-size: 100%;\">True</span> si <span style=\"font-family:Courier New;font-size: 100%;\">mon_entier</span> est composé de chiffres <strong>tous différents</strong>.<br>\n",
    "2) Ecrire un programme qui :\n",
    "- génère aléatoirement une variable entière <span style=\"font-family:Courier New;font-size: 100%;\">nb_chiffres_differents</span> entre <span style=\"font-family:Courier New;font-size: 100%;\">2</span> et <span style=\"font-family:Courier New;font-size: 100%;\">10</span>.\n",
    "\n",
    "- demande à un utilisateur d'entrer un entier à <span style=\"font-family:Courier New;font-size: 100%;\">nb_chiffres_differents</span>, et qui repose la question tant que la saisie n'est pas satsfaisante.\n",
    "\n"
   ]
  },
  {
   "cell_type": "code",
   "execution_count": null,
   "metadata": {},
   "outputs": [],
   "source": [
    "# code exercice 7"
   ]
  },
  {
   "cell_type": "code",
   "execution_count": null,
   "metadata": {},
   "outputs": [],
   "source": [
    "solution.chiffres_differents()"
   ]
  }
 ],
 "metadata": {
  "kernelspec": {
   "display_name": "Python 3",
   "language": "python",
   "name": "python3"
  },
  "language_info": {
   "codemirror_mode": {
    "name": "ipython",
    "version": 3
   },
   "file_extension": ".py",
   "mimetype": "text/x-python",
   "name": "python",
   "nbconvert_exporter": "python",
   "pygments_lexer": "ipython3",
   "version": "3.8.8"
  }
 },
 "nbformat": 4,
 "nbformat_minor": 4
}
