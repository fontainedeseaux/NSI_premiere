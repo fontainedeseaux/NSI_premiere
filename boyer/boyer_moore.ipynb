{
 "cells": [
  {
   "cell_type": "code",
   "execution_count": null,
   "metadata": {},
   "outputs": [],
   "source": [
    "from outils import* # Lancer la cellule pour importer les outils nécessaires au notebook."
   ]
  },
  {
   "cell_type": "markdown",
   "metadata": {},
   "source": [
    "# <div style=\"text-align:center;\"><span style=\"border: 2px solid;padding:6px;color:dodgerblue;\">L'ALGORITHME DE BOYER MOORE </span></div> #\n",
    "\n",
    "## <u style=\"color:red;\">I. Problématique:</u> ##\n",
    "La molécule d'ADN, porteuse de nos informations génétiques, est composée entre autres de 4 bases azotées :<br>\n",
    "<strong>A</strong>dénine, <strong>T</strong>hymine, <strong>G</strong>uanine, <strong>C</strong>ytosine.<br>\n",
    "![alt text](mes_images/ADN.png)<br>\n",
    "● Il est souvent nécessaire de détecter la présence de certains enchainements de bases azotées.<br>\n",
    "Trouve-t-on par exemple la séquence <span style=\"color:red;\">ACG</span> dans le brin d'ADN ci-dessous?<br>\n",
    "<span style=\"color:green;\">CAAGCGCACAAGACGCGGCAGACCTTCGTTATAGGCGATGATTTCGAACCTACTAGTGGGTCTCTTAGGCCGAGCGGTTCCGAGAGATAGTGAAAGATGGCTGGGCTGTGAAGGGAAGGAGTCGTGAAAGCGCGAACACGAGTGTGCGCAAGCGCAGCGCCTTAGTATGCTCCAGTGTAGAAGCTCCGGCGTCCCGTCTAACCGTACGCTGTCCCCGGTACATGGAGCTAATAGGCTTTACTGCCCAATATGACCCCGCGCCGCGACAAAACAATAACAGTTTGCTGTATGTTCCATGGTGGCCAATCCGTCTCTTTTCGACAGCACGGCCAATTCTCCTAGGAAGCCAGCTCAATTTCAACGAAGTCGGCTGTTGAACAGCGAGGTATGGCGTCGGTGGCTCTATTAGTGGTGAGCGAATTGAAATTCGGTGGCCTTACTTGTACCACAGCGATCCCTTCCCACCATTCTTATGCGTCGTCTGTTACCTGGCTTGGCAT</span>?<br>\n",
    "Et si oui, en quels index?<br>\n",
    "<br>\n",
    "● Les algorithmes qui permettent de trouver une <strong>sous-chaine de caractères</strong> dans une chaine de caractères sont des \"grands classiques\" de l'informatique.<br>\n",
    "On parle aussi de recherche d'un *motif* (sous-chaine) dans un *texte*.<br>\n",
    "Le raccourci clavier *CTRL F* utilise un tel algorithme.<br>\n",
    "<br>\n",
    "● L'objectif de ce notebook est de présenter l'algorithme de Boyer-Moore, particulièrement efficace pour ce type de recherche.\n",
    "## <u style=\"color:red;\">II. Méthode naive :</u> ##\n",
    "### <u style=\"color:green;\">1. Premier algorithme:</u> ###\n",
    "Considérons une chaine <span style=\"font-family:Courier New;font-size: 100%;\">texte</span>, une sous-chaine <span style=\"font-family:Courier New;font-size: 100%;\">motif</span> et une liste vide une liste <span style=\"font-family:Courier New;font-size: 100%;\">occurrences = []</span>.<br>\n",
    "On se place en index <span style=\"font-family:Courier New;font-size: 100%;\">i = 0</span> de <span style=\"font-family:Courier New;font-size: 100%;\">texte</span>, et on regarde si <span style=\"font-family:Courier New;font-size: 100%;\">motif</span> y est présent.<br>\n",
    "Si oui, on ajoute <span style=\"font-family:Courier New;font-size: 100%;\">0</span> à la liste <span style=\"font-family:Courier New;font-size: 100%;\">occurrences</span>.<br>\n",
    "Puis on passe à <span style=\"font-family:Courier New;font-size: 100%;\">i = 1</span>. Et on continue la recherche.<br>\n",
    "<br>\n",
    "● Complétez la fonction <span style=\"font-family:Courier New;font-size: 100%;\">present_en_index(i, motif, texte)</span> ci-dessous :<br>\n"
   ]
  },
  {
   "cell_type": "code",
   "execution_count": null,
   "metadata": {},
   "outputs": [],
   "source": [
    "def present_en_index(i, motif, texte):\n",
    "    \"\"\"indique la présence ou non en index i de motif dans texte\"\"\"\n",
    "    m = len(motif)\n",
    "    for j in range(...):\n",
    "        if texte[...] != motif[...]:\n",
    "            return False\n",
    "    return True\n",
    "\n",
    "texte = \"abbcbcbeadaeabaadcbaddcead\"\n",
    "motif = \"adcba\"\n",
    "assert present_en_index(0, motif, texte) == False, motif + \" n'est pas présent en index 0 dans \" + texte\n",
    "assert present_en_index(14, motif, texte) == False, motif + \" n'est pas présent en index 14 dans \" + texte\n",
    "assert present_en_index(15, motif, texte) == True, motif + \" est présent en index 15 dans \" + texte"
   ]
  },
  {
   "cell_type": "code",
   "execution_count": null,
   "metadata": {},
   "outputs": [],
   "source": [
    "solution.present_en_index()"
   ]
  },
  {
   "cell_type": "markdown",
   "metadata": {},
   "source": [
    "● En déduire le code de la fonction <span style=\"font-family:Courier New;font-size: 100%;\">rechercher(motif, texte)</span> :<br>\n"
   ]
  },
  {
   "cell_type": "code",
   "execution_count": null,
   "metadata": {},
   "outputs": [],
   "source": [
    "def rechercher(motif, texte):\n",
    "    \"\"\"renvoie la liste des index où motif est présent dans texte\"\"\"\n",
    "    m = len(motif)\n",
    "    n = len(texte)\n",
    "    occurrences = []\n",
    "    # à compléter\n",
    "\n",
    "motif = \"adcba\"\n",
    "texte = \"abbcbcbeadaeabaadcbaddcead\"\n",
    "\n",
    "assert rechercher(motif, texte) == [15], motif + \" n'est présent qu'en index 15 dans \" + texte"
   ]
  },
  {
   "cell_type": "code",
   "execution_count": null,
   "metadata": {},
   "outputs": [],
   "source": [
    "solution.rechercher()"
   ]
  },
  {
   "cell_type": "markdown",
   "metadata": {},
   "source": [
    "### <u style=\"color:green;\">2. Complexité dans le pire des cas :</u> ###\n",
    "Supposons que :\n",
    "- <span style=\"color:red;\"><span style=\"font-family:Courier New;font-size: 100%;\">motif</span></span> soit composé de <span style=\"font-family:Courier New;font-size: 100%;\">m</span> fois la lettre <span style=\"color:red;\"><span style=\"font-family:Courier New;font-size: 100%;\">a</span></span> : <span style=\"color:red;\"><span style=\"font-family:Courier New;font-size: 100%;\">motif = \"aa..a\"</span></span>\n",
    "\n",
    "- et <span style=\"color:green;\"><span style=\"font-family:Courier New;font-size: 100%;\">texte</span></span> soit composé de <span style=\"font-family:Courier New;font-size: 100%;\">n &ge; m</span> fois la lettre <span style=\"color:green;\"><span style=\"font-family:Courier New;font-size: 100%;\">a</span></span>\n",
    "\n",
    "Exprimer en fonction de <span style=\"font-family:Courier New;font-size: 100%;\">m = len(motif)</span> et <span style=\"font-family:Courier New;font-size: 100%;\">n = len(texte)</span> le <strong>nombre de comparaisons entre caractères effectuées</strong> pour cette recherche.<br>\n",
    "![alt text](mes_images/crayon_papier.png)<br>\n"
   ]
  },
  {
   "cell_type": "code",
   "execution_count": null,
   "metadata": {},
   "outputs": [],
   "source": [
    "solution.nb_comparaisons()"
   ]
  },
  {
   "cell_type": "markdown",
   "metadata": {},
   "source": [
    "● Considérons le <span style=\"font-family:Courier New;font-size: 100%;\">motif</span> <span style=\"color:red;\"><span style=\"font-family:Courier New;font-size: 100%;\">adcba</span></span> et le <span style=\"font-family:Courier New;font-size: 100%;\">texte</span> <span style=\"color:green;\"><span style=\"font-family:Courier New;font-size: 100%;\">adcbeadcba</span></span><br>\n",
    "Devinez ce qui pourrait être source d'amélioration de l'algorithme naif.<br>\n"
   ]
  },
  {
   "cell_type": "code",
   "execution_count": null,
   "metadata": {},
   "outputs": [],
   "source": [
    "solution.amelioration()"
   ]
  },
  {
   "cell_type": "markdown",
   "metadata": {},
   "source": [
    "## <u style=\"color:red;\">III. Algorithme de Boyer-Moore:</u> ##\n",
    "### <u style=\"color:green;\">1. Principe:</u> ###\n",
    "● Cet algorithme est d'utiliser une <span style=\"font-family:Courier New;font-size: 100%;\">Reglette</span> qui peut se déplacer <strong>horizontalement de gauche à droite</strong> sur un <strong>axe gradué</strong>.<br>\n",
    "La réglette a pour taille celle du <span style=\"font-family:Courier New;font-size: 100%;\">motif</span>.<br>\n",
    "Le début du motif a pour index <span style=\"font-family:Courier New;font-size: 100%;\">debut = 0</span> initialement.<br>\n",
    "La fin du motif a pour index <span style=\"font-family:Courier New;font-size: 100%;\">fin</span>.<br>\n",
    "Evidemment, <span style=\"font-family:Courier New;font-size: 100%;\">debut</span> et <span style=\"font-family:Courier New;font-size: 100%;\">fin</span> changent au fur lorsqu'on déplace la réglette.<br>\n",
    "![alt text](mes_images/reglette.png)<br>\n",
    "● Considérons le texte <span style=\"color:green;\"><span style=\"font-family:Courier New;font-size: 100%;\">\"abbcbcbeadaeabaadcbaddcead\"</span></span><br>\n",
    "On place alors la réglette sur le <span style=\"color:green;\"><span style=\"font-family:Courier New;font-size: 100%;\">texte</span></span> en index <span style=\"font-family:Courier New;font-size: 100%;\">i = 0</span>.<br>\n",
    "![alt text](mes_images/depart.png)<br>\n",
    "<u>*Etape 1:*</u><br>\n",
    "On regarde si la <span style=\"color:green;\">portion de <span style=\"font-family:Courier New;font-size: 100%;\">texte</span></span> et <span style=\"color:red;\"><span style=\"font-family:Courier New;font-size: 100%;\">motif</span></span> coincident en effectuant la comparaison <strong>depuis leur dernier caractère</strong>.<br>\n",
    "Notons <span style=\"font-family:Courier New;font-size: 100%;\">f</span> l'index du <strong>dernier caractère</strong> de la portion de texte associée (<span style=\"font-family:Courier New;font-size: 100%;\">f = 4</span> dans notre exemple).<br>\n",
    "Il s'agit donc de voir si <span style=\"font-family:Courier New;font-size: 100%;\">texte[f]</span> coincide avec <span style=\"font-family:Courier New;font-size: 100%;\">motif[-1]</span>, puis <span style=\"font-family:Courier New;font-size: 100%;\">texte[f - 1]</span> avec <span style=\"font-family:Courier New;font-size: 100%;\">motif[-2]</span> etc.<br>\n",
    "Si oui, on ajoute <span style=\"font-family:Courier New;font-size: 100%;\">i</span> à la liste <span style=\"font-family:Courier New;font-size: 100%;\">occurrences</span>.<br>\n",
    "<br>\n",
    "<u>*Etape 2:*</u> <br>\n",
    "On cherche ensuite <strong>le plus petit décalage</strong> de la réglette de façon à faire coincider <span style=\"font-family:Courier New;font-size: 100%;\">texte[f]</span> et l'un des caractères de <span style=\"font-family:Courier New;font-size: 100%;\">motif</span>.<br>\n",
    "Ici, <span style=\"color:green;\"><span style=\"font-family:Courier New;font-size: 100%;\">texte[f]</span></span> est <span style=\"color:green;\"><span style=\"font-family:Courier New;font-size: 100%;\">\"b\"</span></span>. On cherche un <span style=\"color:green;\"><span style=\"font-family:Courier New;font-size: 100%;\">\"b\"</span></span> dans le motif. <br>\n",
    "Un décalage de <span style=\"font-family:Courier New;font-size: 100%;\">1</span> convient :<br>\n",
    "![alt text](mes_images/decalage_1.png)<br>\n",
    "● Si ce n'est pas possible, on décale complètement la réglette de <span style=\"font-family:Courier New;font-size: 100%;\">len(motif)</span> (cf *qcm.decalage_3*)<br>\n",
    "Et on revient en étape 1.<br>\n",
    "L'algorithme s'arrête dès qu'on ne peut plus décaler la réglette.<br>\n"
   ]
  },
  {
   "cell_type": "code",
   "execution_count": null,
   "metadata": {},
   "outputs": [],
   "source": [
    "qcm.decalage_2()"
   ]
  },
  {
   "cell_type": "code",
   "execution_count": null,
   "metadata": {},
   "outputs": [],
   "source": [
    "qcm.decalage_3()"
   ]
  },
  {
   "cell_type": "code",
   "execution_count": null,
   "metadata": {},
   "outputs": [],
   "source": [
    "qcm.decalage_4()"
   ]
  },
  {
   "cell_type": "code",
   "execution_count": null,
   "metadata": {},
   "outputs": [],
   "source": [
    "qcm.decalage_5()"
   ]
  },
  {
   "cell_type": "code",
   "execution_count": null,
   "metadata": {},
   "outputs": [],
   "source": [
    "qcm.decalage_6()"
   ]
  },
  {
   "cell_type": "markdown",
   "metadata": {},
   "source": [
    "### <u style=\"color:green;\">2. Implémentation:</u> ###\n",
    "On considère le code de la classe <span style=\"font-family:Courier New;font-size: 100%;\">Reglette</span> suivant :<br>\n"
   ]
  },
  {
   "cell_type": "code",
   "execution_count": null,
   "metadata": {},
   "outputs": [],
   "source": [
    "class Reglette:\n",
    "    def __init__(self, motif):\n",
    "        self.motif = motif\n",
    "        self.m = len(motif)\n",
    "        \n",
    "    def reinitialiser(self):\n",
    "        '''remet la réglette en position initiale'''\n",
    "        pass\n",
    "\n",
    "    def decaler(self, x):\n",
    "        '''décale self.debut et self.fin de x'''\n",
    "        pass\n",
    "\n",
    "    def coincide(self, texte):\n",
    "        '''compare self.motif et la portion de texte associée en partant de la fin de la portion de texte associée\n",
    "            renvoie True si la portion et le texte sont identiques, False sinon'''\n",
    "        pass\n",
    "\n",
    "    def creer_table(self):\n",
    "        '''renvoie un dictionnaire self.table dont les clés sont les caracteres de motif et les valeurs le décalage associé'''\n",
    "        pass\n",
    "\n",
    "    def calcule_decalage(self, texte):\n",
    "        '''renvoie le décalage à effectuer en fonction du dernier caractère rencontré par la réglette'''\n",
    "        pass\n",
    "    \n",
    "    def rechercher(self, texte):\n",
    "        '''renvoie la liste des occurrences où self.motif a été détecté dans texte en appliquant l'algoritme de Boyer-Moore'''\n",
    "        occurrences = []\n",
    "        pass"
   ]
  },
  {
   "cell_type": "markdown",
   "metadata": {},
   "source": [
    "a) Coder méthode <span style=\"font-family:Courier New;font-size: 100%;\">reinitialiser(self)</span> : cette méthode crée ou remet les attributs <span style=\"font-family:Courier New;font-size: 100%;\">debut</span> et <span style=\"font-family:Courier New;font-size: 100%;\">fin</span> qui correspondent à la réglette en position initiale.<br>\n",
    "<strong>Appeler cette méthode depuis le constructeur</strong>.<br>\n",
    "<br>\n",
    "b) Coder la méthode <span style=\"font-family:Courier New;font-size: 100%;\">decaler(self, x)</span> qui décale la réglette de <span style=\"font-family:Courier New;font-size: 100%;\">x</span> cases vers la droite.<br>\n",
    "<br>\n",
    "c) Coder la méthode <span style=\"font-family:Courier New;font-size: 100%;\">coincide(self, texte)</span> selon la docstring proposée.<br>\n",
    "Testez-la ci-dessous :<br>\n"
   ]
  },
  {
   "cell_type": "code",
   "execution_count": null,
   "metadata": {},
   "outputs": [],
   "source": [
    "motif = \"adcba\"\n",
    "texte = \"abbcbcbeadaeabaadcbaddcead\"\n",
    "r = Reglette(motif)\n",
    "assert r.coincide(texte) == False, \"en index 0, on ne retrouve pas le motif\"\n",
    "r.decaler(15)\n",
    "assert r.coincide(texte) == True, \"en index 15, on trouve le motif\""
   ]
  },
  {
   "cell_type": "markdown",
   "metadata": {},
   "source": [
    "d) Codez la méthode <span style=\"font-family:Courier New;font-size: 100%;\">creer_table(self)</span> selon la docstring proposée.<br>\n",
    "<strong>Appeler cette méthode depuis le constructeur</strong>. Puis testez-la ci-dessous :<br>\n"
   ]
  },
  {
   "cell_type": "code",
   "execution_count": null,
   "metadata": {},
   "outputs": [],
   "source": [
    "motif = \"adcba\"\n",
    "texte = \"abbcbcbeadaeabaadcbaddcead\"\n",
    "r = Reglette(motif)\n",
    "assert r.table == {\"a\" : 4, \"b\" : 1, \"c\" : 2, \"d\" : 3}, \"r.table doit donner {\"a\" : 4, \"b\" : 1, \"c\" : 2, \"d\" : 3}\""
   ]
  },
  {
   "cell_type": "markdown",
   "metadata": {},
   "source": [
    "d) Codez la méthode <span style=\"font-family:Courier New;font-size: 100%;\">calcule_decalage(self, texte)</span> selon la docstring proposée.<br>\n",
    "Puis testez-la ci-dessous :<br>\n"
   ]
  },
  {
   "cell_type": "code",
   "execution_count": null,
   "metadata": {},
   "outputs": [],
   "source": [
    "motif = \"adcba\"\n",
    "texte = \"abbcbcbeadaeabaadcbaddcead\"\n",
    "r = Reglette(motif)\n",
    "r.calcule_decalage(texte) == 1, \"le premier décalage est de 1\"\n",
    "r.decaler(1)\n",
    "r.calcule_decalage(texte) == 2, \"le deuxième décalage est de 2\"\n",
    "r.decaler(2)\n",
    "r.calcule_decalage(texte) == 5, \"le troisième décalage est de 5\"\n",
    "r.decaler(5)\n",
    "r.calcule_decalage(texte) == 4, \"le quatrième décalage est de 4\"\n",
    "r.decaler(4)\n",
    "r.calcule_decalage(texte) == 3, \"le cinquième décalage est de 3\"\n",
    "r.decaler(3)\n",
    "r.calcule_decalage(texte) == 4, \"le dernièer décalage est de 4\"\n",
    "r.decaler(4)"
   ]
  },
  {
   "cell_type": "markdown",
   "metadata": {},
   "source": [
    "e) Pour finir, codez la méthode <span style=\"font-family:Courier New;font-size: 100%;\">rechercher(self, texte)</span> selon la docstring proposée.<br>\n",
    "Puis testez-la ci-dessous :<br>\n"
   ]
  },
  {
   "cell_type": "code",
   "execution_count": null,
   "metadata": {},
   "outputs": [],
   "source": [
    "motif = \"adcba\"\n",
    "texte = \"abbcbcbeadaeabaadcbaddcead\"\n",
    "r = Reglette(motif)\n",
    "assert r.rechercher(texte) == [15], \"le motif est seulement en index 15 dans \" + texte\n",
    "assert r.rechercher(\"adcba\" * 4) == [0, 5, 10, 15], \"le motif est présent 4 fois dans \" + \"adcba\" * 4\n",
    "assert r.rechercher(\"e\" * 15) == [], \"le motif n'est pas présent dans \" + \"e\" * 15"
   ]
  },
  {
   "cell_type": "code",
   "execution_count": null,
   "metadata": {},
   "outputs": [],
   "source": [
    "motif = \"a\"\n",
    "r = Reglette(motif)\n",
    "texte = \"abbcbcbeadaeabaadcbaddcead\"\n",
    "assert r.rechercher(texte) == [0, 8, 10, 12, 14, 15, 19, 24], \"a est présent aux index [0, 8, 10, 12, 14, 15, 19, 24] dans \" + texte"
   ]
  },
  {
   "cell_type": "code",
   "execution_count": null,
   "metadata": {},
   "outputs": [],
   "source": [
    "solution.Reglette()"
   ]
  },
  {
   "cell_type": "markdown",
   "metadata": {},
   "source": [
    "### <u style=\"color:green;\">3. Complexité:</u> ###\n",
    "#### <u style=\"color:blue;\">a. Complexité dans le pire des cas:</u> ####\n",
    "● La complexité <strong>dans le pire des cas</strong> de l'algorithme de Boyer-Moore est la même que celle de l'algorithme naif.<br>\n",
    "Heureusement, ce \"pire des cas\" n'arrive que rarement!<br>\n",
    "<br>\n",
    "● Cherchez un exemple de <span style=\"font-family:Courier New;font-size: 100%;\">motif</span> (taille <span style=\"font-family:Courier New;font-size: 100%;\">m</span>) et de <span style=\"font-family:Courier New;font-size: 100%;\">texte</span> (taille <span style=\"font-family:Courier New;font-size: 100%;\">n</span>) dans lequel on effectue <strong>autant de comparaisons</strong> qu'avec l'algorithme naif.<br>\n",
    "C'est à dire <span style=\"font-family:Courier New;font-size: 100%;\">m(n-m+1)</span> comparaisons.<br>\n",
    "![alt text](mes_images/crayon_papier.png)<br>\n"
   ]
  },
  {
   "cell_type": "code",
   "execution_count": null,
   "metadata": {},
   "outputs": [],
   "source": [
    "solution.pire_des_cas()"
   ]
  },
  {
   "cell_type": "markdown",
   "metadata": {},
   "source": [
    "#### <u style=\"color:blue;\">b. Complexité moyenne:</u> ####\n",
    "Ce qui fait la force de cet algorithme, c'est qu'<strong>en moyenne</strong>, on effectue beaucoup moins de comparaisons qu'avec l'algorithme naif.<br>\n",
    "Car le décalage ne vaut pas toujours <span style=\"font-family:Courier New;font-size: 100%;\">1</span> comme dans le pire des cas.<br>\n",
    "On peut démontrer que la complexité <strong>moyenne</strong> est de $O(n/q)$ où $q$ désigne le nombre de caractères <strong>distincts</strong> du texte.\n",
    "### <u style=\"color:green;\">4. Exemple:</u> ###\n",
    "Le dossier <span style=\"font-family:Courier New;font-size: 100%;\">Boyer_Moore</span> contient le livre *Les misérables* au format <span style=\"font-family:Courier New;font-size: 100%;\">.txt</span>.<br>\n",
    "En vous aidant de l'aide, déterminez comment accéder à la chaine qui correspond à l'ensemble du texte.<br>\n"
   ]
  },
  {
   "cell_type": "code",
   "execution_count": null,
   "metadata": {},
   "outputs": [],
   "source": [
    "with open(\"les_miserables.txt\", 'r') as fichier: # ouverture du fichier en mode lecture : \"r\" (pour read)\n",
    "    pass"
   ]
  },
  {
   "cell_type": "markdown",
   "metadata": {},
   "source": [
    "Puis comparez les vitesses de recherche de différents mots de votre choix :\n",
    "- avec la fonction naive <span style=\"font-family:Courier New;font-size: 100%;\">recherche</span>\n",
    "\n",
    "- puis la classe <span style=\"font-family:Courier New;font-size: 100%;\">Reglette</span> qui utilise l'algorithme de Boyer-Moore.\n",
    "\n"
   ]
  },
  {
   "cell_type": "code",
   "execution_count": null,
   "metadata": {},
   "outputs": [],
   "source": [
    "# comparaison des vitesses : %timeit ...\n",
    "# à compléter"
   ]
  },
  {
   "cell_type": "markdown",
   "metadata": {},
   "source": [
    "<u style=\"color:blue;\">*Sources:*</u><br>\n",
    "https://pixees.fr/informatiquelycee/n_site/nsi_term_algo_boyer.html<br>\n"
   ]
  }
 ],
 "metadata": {},
 "nbformat": 4,
 "nbformat_minor": 4
}
