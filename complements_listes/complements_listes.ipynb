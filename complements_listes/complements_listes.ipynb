{
 "cells": [
  {
   "cell_type": "code",
   "execution_count": null,
   "metadata": {},
   "outputs": [],
   "source": [
    "from outils import* # Lancer la cellule pour importer les outils nécessaires au notebook."
   ]
  },
  {
   "cell_type": "markdown",
   "metadata": {},
   "source": [
    "# <div style=\"text-align:center;\"><span style=\"border: 2px solid;padding:6px;color:dodgerblue;\">COMPLEMENTS SUR LES LISTES</span></div> #\n",
    "\n",
    "Nous avons déjà découvert le type de données <span style=\"font-family:Courier New;font-size: 100%;\">list</span> en python.<br>\n",
    "L'objectif de ce notebook est d'apporter des compléments sur les listes, et de découvrir un nouveau type de données.\n",
    "### <u style=\"color:green;\">1.Utilisation d'une boucle:</u> ###\n",
    "<strong><u style=\"color:blue;\">Exercice 1:</u></strong><br>\n",
    "Complétez le code de la fonction <span style=\"font-family:Courier New;font-size: 100%;\">somme(ma_liste)</span>. On rajoutera la précondition ma_liste <strong>non vide</strong>.<br>\n"
   ]
  },
  {
   "cell_type": "code",
   "execution_count": null,
   "metadata": {},
   "outputs": [],
   "source": [
    "def somme(ma_liste):\n",
    "    '''renvoie la somme des éléments de type int ou flaot contenus dans ma_liste non vide'''\n",
    "    # à compléter"
   ]
  },
  {
   "cell_type": "code",
   "execution_count": null,
   "metadata": {},
   "outputs": [],
   "source": [
    "ma_liste = [2, 4, 3, 7]\n",
    "assert somme(ma_liste) == 16, \"erreur de somme avec la liste [2, 4, 3, 7]\""
   ]
  },
  {
   "cell_type": "markdown",
   "metadata": {},
   "source": [
    "### <u style=\"color:green;\">2. Une autre façon de boucler :</u> ###\n",
    "Lorsqu'on effectue la séquence :<br>\n",
    "<br>\n",
    "<span style=\"font-family:Courier New;font-size: 100%;\">n = len(ma_liste)</span><br>\n",
    "<span style=\"font-family:Courier New;font-size: 100%;\">for k in range(n)</span><br>\n",
    "&nbsp;&nbsp;&nbsp;&nbsp;&nbsp;&nbsp;&nbsp;&nbsp;<span style=\"font-family:Courier New;font-size: 100%;\">element = ma_liste[k]</span><br>\n",
    "<br>\n",
    "On dit qu'on boucle <strong>sur les index</strong>, puisque <span style=\"font-family:Courier New;font-size: 100%;\">k</span> prend successivemment les valeurs <span style=\"font-family:Courier New;font-size: 100%;\">0</span>, ..., <span style=\"font-family:Courier New;font-size: 100%;\">n-1</span> qui correspondent aux index possibles des éléments de <span style=\"font-family:Courier New;font-size: 100%;\">ma_liste</span>.<br>\n",
    "C'est une façon commune de boucler qu'on retrouve dans tous les langages.<br>\n",
    "<br>\n",
    "Python propose <u>une autre façon de boucler</u> : <strong>directement sur les éléments</strong>.<br>\n",
    "Il suffit alors d'écrire :<br>\n",
    "<br>\n",
    "<span style=\"font-family:Courier New;font-size: 100%;\">for element in ma_liste:</span><br>\n",
    "&nbsp;&nbsp;&nbsp;&nbsp;&nbsp;&nbsp;&nbsp;&nbsp;<span style=\"font-family:Courier New;font-size: 100%;\">instructions</span><br>\n",
    "<br>\n",
    "On dit que les <span style=\"font-family:Courier New;font-size: 100%;\">list</span> python sont des données <strong>itérables</strong>. <br>\n",
    "Les chaines sont également des données itérables :<br>\n"
   ]
  },
  {
   "cell_type": "code",
   "execution_count": null,
   "metadata": {},
   "outputs": [],
   "source": [
    "mot = \"bonjour\"\n",
    "print(\"Voici une à une les lettres du mot 'bonjour' :\")\n",
    "for element in mot: # on boucle directement sur les éléments\n",
    "    print(element)"
   ]
  },
  {
   "cell_type": "markdown",
   "metadata": {},
   "source": [
    "<u>*Remarque :*</u><br>\n",
    "Peut importe la façon dont on nomme les éléments d'un itérable.<br>\n",
    "On pourrait tout aussi bien écrire <span style=\"font-family:Courier New;font-size: 100%;\">for lettre in mot:</span><br>\n",
    "<br>\n",
    "● Ecrire une nouvelle version de la fonction <span style=\"font-family:Courier New;font-size: 100%;\">somme(ma_liste)</span> en bouclant <strong>directement sur les éléments</strong> :<br>\n"
   ]
  },
  {
   "cell_type": "code",
   "execution_count": null,
   "metadata": {},
   "outputs": [],
   "source": [
    "def somme(ma_liste):\n",
    "    '''renvoie la somme des éléments de type int ou float contenus dans ma_liste'''\n",
    "    # à compléter"
   ]
  },
  {
   "cell_type": "code",
   "execution_count": null,
   "metadata": {},
   "outputs": [],
   "source": [
    "solution.somme()"
   ]
  },
  {
   "cell_type": "markdown",
   "metadata": {},
   "source": [
    "<strong><u style=\"color:blue;\">Exercice 2:</u></strong><br>\n",
    "Complétez le code de la fonction <span style=\"font-family:Courier New;font-size: 100%;\">maximum(ma_liste)</span> en bouclant sur les elements.<br>\n",
    "Ajoutez la précondition <span style=\"font-family:Courier New;font-size: 100%;\">ma_liste</span> non vide.<br>\n"
   ]
  },
  {
   "cell_type": "code",
   "execution_count": null,
   "metadata": {},
   "outputs": [],
   "source": [
    "def maximum(ma_liste):\n",
    "    '''renvoie la valeur maximum des éléments de typle int ou flaot contenus dans ma_liste non vide'''\n",
    "    # à compléter\n",
    "\n",
    "assert maximum([1, 3, 8, 5, 10, 2]) == 10, \"erreur avec [1, 3, 8, 5, 10, 2]\""
   ]
  },
  {
   "cell_type": "code",
   "execution_count": null,
   "metadata": {},
   "outputs": [],
   "source": [
    "solution.maximum()"
   ]
  },
  {
   "cell_type": "markdown",
   "metadata": {},
   "source": [
    "### <u style=\"color:green;\">2. Objet mutable et référénce :</u> ###\n",
    "On rappelle que les listes sont des données <strong>mutables</strong>, au contraire des chaines.<br>\n",
    "Observez le code suivant :<br>\n",
    "<span style=\"font-family:Courier New;font-size: 100%;\">x = [1, 2, 3]</span><br>\n",
    "<span style=\"font-family:Courier New;font-size: 100%;\">y = x</span><br>\n",
    "<span style=\"font-family:Courier New;font-size: 100%;\">x[1] = -15</span><br>\n"
   ]
  },
  {
   "cell_type": "code",
   "execution_count": null,
   "metadata": {},
   "outputs": [],
   "source": [
    "qcm.valeur_y()"
   ]
  },
  {
   "cell_type": "markdown",
   "metadata": {},
   "source": [
    "A l'aide de Python Tutor : http://pythontutor.com/visualize.html#mode=edit<br>\n",
    "&nbsp;&nbsp;&nbsp;&nbsp;&nbsp;&nbsp;&nbsp;&nbsp;→ copiez-collez le code qui précède<br>\n",
    "&nbsp;&nbsp;&nbsp;&nbsp;&nbsp;&nbsp;&nbsp;&nbsp;→ et visualisez pas à pas le déroulement du programme.<br>\n",
    "<br>\n",
    "<div class = \"alert alert-danger\">En réalité, lorsqu'on écrit <span style=\"font-family:Courier New;font-size: 100%;\">y = x</span>, on crée une <strong>référence</strong> et <strong>non une copie</strong> :<br>\n",
    "Techniquement, Python utilise des <strong>pointeurs</strong> (comme dans le langage de programmation <span style=\"font-family:Courier New;font-size: 100%;\">C</span>) vers les mêmes objets.<br>\n",
    "<br>\n",
    "Python Tutor l'illustre avec des flèches qui partent des variables <span style=\"font-family:Courier New;font-size: 100%;\">x</span> et <span style=\"font-family:Courier New;font-size: 100%;\">y</span> et qui <strong>pointent vers la même liste</strong>.<br>\n",
    "Donc, si on modifie la liste <span style=\"font-family:Courier New;font-size: 100%;\">x</span>, la liste <span style=\"font-family:Courier New;font-size: 100%;\">y</span> est modifiée de la même manière. <br>\n",
    "Rappelez-vous de ceci dans vos futurs programmes car cela pourrait avoir des effets désastreux !</div><br>\n"
   ]
  },
  {
   "cell_type": "code",
   "execution_count": null,
   "metadata": {},
   "outputs": [],
   "source": [
    "qcm.chaine()"
   ]
  },
  {
   "cell_type": "markdown",
   "metadata": {},
   "source": [
    "### <u style=\"color:green;\">3. Copies de données mutables :</u> ###\n",
    "Pyhon propose la fonction <span style=\"font-family:Courier New;font-size: 100%;\">deepcopy</span> du module <span style=\"font-family:Courier New;font-size: 100%;\">copy</span> pour effectuer la copie réelle et indépendante d'une liste :<br>\n"
   ]
  },
  {
   "cell_type": "code",
   "execution_count": null,
   "metadata": {},
   "outputs": [],
   "source": [
    "from copy import deepcopy # import de la fonction deepcopy du module copy\n",
    "x = [1, 2, 3]\n",
    "y = deepcopy(x)\n",
    "x[1] = -15\n",
    "print(\"x =\",x, \"  y =\", y)"
   ]
  },
  {
   "cell_type": "markdown",
   "metadata": {},
   "source": [
    "● Copiez-collez le code qui précède et visualisez la différence sur Python Tutor avec l'utilisation de <span style=\"font-family:Courier New;font-size: 100%;\">deepcopy</span>.\n",
    "### <u style=\"color:green;\">4. Compréhension de listes :</u> ###\n",
    "Complétez le code de la fonction <span style=\"font-family:Courier New;font-size: 100%;\">carre(n)</span> permettant d'obtenir la liste des carrés des entiers de $1^2$ jusqu'à $n^2$.<br>\n",
    "On ajoutera la précondition <strong>n entier non nul</strong>.<br>\n"
   ]
  },
  {
   "cell_type": "code",
   "execution_count": null,
   "metadata": {},
   "outputs": [],
   "source": [
    "def carre(n):\n",
    "    '''renvoie la liste composée des carres de 1**2 à n**2'''\n",
    "    pass\n",
    "\n",
    "assert carre(6) == [1, 4, 9, 16, 25, 36], \"erreur avec carre(6)\""
   ]
  },
  {
   "cell_type": "markdown",
   "metadata": {},
   "source": [
    "Python propose une autre méthode pour obtenir cette liste, à l'aide d'une <strong>compréhension</strong>.<br>\n",
    "La syntaxe générale pour obtenir une liste en compréhension est :<br>\n",
    "<br>\n",
    "<span style=\"font-family:Courier New;font-size: 100%;\">ma_liste_en_comprehension = [ce_que_je_veux for mon_iterable in une_certaine_liste]</span><br>\n",
    "<br>\n",
    "Pour obtenir la liste qui précède, on peut ainsi écrire :\n",
    "- <span style=\"font-family:Courier New;font-size: 100%;\">[k&#42;&#42;2 for k in range(1, n+1)]</span> \n",
    "\n",
    "- ou <span style=\"font-family:Courier New;font-size: 100%;\">[(k+1)&#42;&#42;2 for k in range(n)]</span> \n",
    "\n",
    "\n",
    "<strong><u style=\"color:blue;\">Exercice 3:</u></strong><br>\n",
    "A l'aide d'une compréhension de liste, créer la liste suivante : <span style=\"font-family:Courier New;font-size: 100%;\">[7, 14, 21, 28, 35, 42, 49, 56, 63, 70]</span><br>\n"
   ]
  },
  {
   "cell_type": "code",
   "execution_count": null,
   "metadata": {},
   "outputs": [],
   "source": [
    "# Créer la liste des multiples de 7 à l'aide d'une compréhension de liste :\n",
    "# à compléter"
   ]
  },
  {
   "cell_type": "code",
   "execution_count": null,
   "metadata": {},
   "outputs": [],
   "source": [
    "solution.multiples()"
   ]
  },
  {
   "cell_type": "markdown",
   "metadata": {},
   "source": [
    "<u>*Ajout d'un <strong>filtre</strong> :*</u><br>\n",
    "On peut également rajouter <strong>un filtre</strong> pour ne sélectionner que certains éléments.<br>\n",
    "<br>\n",
    "<span style=\"font-family:Courier New;font-size: 100%;\">ma_liste_en_comprehension = [ce_que_je_veux for mon_iterable in une_certaine_liste if condition]</span><br>\n",
    "<br>\n",
    "<strong><u style=\"color:blue;\">Exercice 4:</u></strong><br>\n",
    "A l'aide d'une boucle et de la méthode <span style=\"font-family:Courier New;font-size: 100%;\">append</span> d'une liste, écrire le code de la fonction <span style=\"font-family:Courier New;font-size: 100%;\">pair(ma_liste)</span> :<br>\n",
    "&nbsp;&nbsp;&nbsp;&nbsp;&nbsp;&nbsp;&nbsp;&nbsp;→ <span style=\"font-family:Courier New;font-size: 100%;\">ma_liste</span> est une liste d'entiers<br>\n",
    "&nbsp;&nbsp;&nbsp;&nbsp;&nbsp;&nbsp;&nbsp;&nbsp;→ et <span style=\"font-family:Courier New;font-size: 100%;\">pair(ma_liste)</span> renvoie la liste composée des éléments pairs de <span style=\"font-family:Courier New;font-size: 100%;\">ma_liste</span>.<br>\n"
   ]
  },
  {
   "cell_type": "code",
   "execution_count": null,
   "metadata": {},
   "outputs": [],
   "source": [
    "def pair(ma_liste):\n",
    "    '''renvoie la liste composée des éléments pairs de ma_liste'''\n",
    "    pass\n",
    "\n",
    "assert pair([1, 3, 8, 5, 10, 2]) == [8, 10, 2], \"erreur avec [1, 3, 8, 5, 10, 2]\""
   ]
  },
  {
   "cell_type": "markdown",
   "metadata": {},
   "source": [
    "● Complétez à présent le code de la fonction <span style=\"font-family:Courier New;font-size: 100%;\">pair</span> en utilisant une compréhension de listes :<br>\n"
   ]
  },
  {
   "cell_type": "code",
   "execution_count": null,
   "metadata": {},
   "outputs": [],
   "source": [
    "def pair(ma_liste):\n",
    "    '''renvoie la liste composée des éléments pairs de ma_liste'''\n",
    "    pass\n",
    "\n",
    "assert pair([1, 3, 8, 5, 10, 2]) == [8, 10, 2], \"erreur avec [1, 3, 8, 5, 10, 2]\""
   ]
  },
  {
   "cell_type": "code",
   "execution_count": null,
   "metadata": {},
   "outputs": [],
   "source": [
    "solution.pair_comprehension()"
   ]
  },
  {
   "cell_type": "markdown",
   "metadata": {},
   "source": [
    "<strong><u style=\"color:blue;\">Exercice 5:</u></strong><br>\n",
    "● On dispose d'un jeu de cartes pokemon :<br>\n",
    "![alt text](mes_images/dracofeu.png \"pokemon Dracofeu\") <br>\n",
    "●  Chaque pokemon possède dans cet ordre :<br>\n",
    "&nbsp;&nbsp;&nbsp;&nbsp;&nbsp;&nbsp;&nbsp;&nbsp;→ un nom<br>\n",
    "&nbsp;&nbsp;&nbsp;&nbsp;&nbsp;&nbsp;&nbsp;&nbsp;→ des points d'énergie<br>\n",
    "&nbsp;&nbsp;&nbsp;&nbsp;&nbsp;&nbsp;&nbsp;&nbsp;→ des points d'attaque <br>\n",
    "&nbsp;&nbsp;&nbsp;&nbsp;&nbsp;&nbsp;&nbsp;&nbsp;→ et des points de défense.<br>\n",
    "<br>\n",
    "●  On le modélise donc par une <strong>liste</strong> de 4 éléments :<br>\n",
    "&nbsp;<span style=\"font-family:Courier New;font-size: 100%;\">['Dracaufeu',12,17,13]</span> correspond au pokemon nommé <span style=\"font-family:Courier New;font-size: 100%;\">'Dracaufeu'</span>, doté de <span style=\"font-family:Courier New;font-size: 100%;\">12</span> points d'énergie, de <span style=\"font-family:Courier New;font-size: 100%;\">17</span> points d'attaque et de <span style=\"font-family:Courier New;font-size: 100%;\">13</span> points de défense.<br>\n",
    "<br>\n",
    "● <span style=\"font-family:Courier New;font-size: 100%;\">jeu</span> représente un ensemble de cartes pokemon :<br>\n",
    "<br>\n",
    "<span style=\"font-family:Courier New;font-size: 100%;\">jeu = [['Dracaufeu', 12, 17, 13], ['Brindibou', 18, 8, 14], ['Effleche', 8, 19, 8],['Flamiaou', 14, 9, 18], ['Archeduc', 10, 13, 8]]</span><br>\n",
    "<br>\n",
    "Il s'agit donc d'une <u>liste de pokemons</u>, donc d'une <strong>liste de listes</strong>. On parle alors de <strong>tableau</strong> :<br>\n"
   ]
  },
  {
   "cell_type": "code",
   "execution_count": null,
   "metadata": {},
   "outputs": [],
   "source": [
    "jeu = [['Dracaufeu', 12, 17, 13], ['Brindibou', 18, 8, 14], ['Effleche', 8, 19, 8],['Flamiaou', 14, 9, 18], ['Archeduc', 10, 13, 8]]"
   ]
  },
  {
   "cell_type": "markdown",
   "metadata": {},
   "source": [
    "Qu'on peut écrire et visualiser comme un tableau :<br>\n",
    "<br>\n",
    "<span style=\"font-family:Courier New;font-size: 100%;\">jeu = [['Dracaufeu', 12, 17, 13],</span><br>\n",
    "&nbsp;&nbsp;&nbsp;&nbsp;&nbsp;&nbsp;&nbsp;&nbsp;&nbsp;&nbsp;&nbsp;&nbsp;&nbsp;&nbsp;<span style=\"font-family:Courier New;font-size: 100%;\">['Brindibou', 18,  8, 14],</span>     <br>\n",
    "&nbsp;&nbsp;&nbsp;&nbsp;&nbsp;&nbsp;&nbsp;&nbsp;&nbsp;&nbsp;&nbsp;&nbsp;&nbsp;&nbsp;<span style=\"font-family:Courier New;font-size: 100%;\">['Effleche' ,  8, 19, 8],</span><br>\n",
    "&nbsp;&nbsp;&nbsp;&nbsp;&nbsp;&nbsp;&nbsp;&nbsp;&nbsp;&nbsp;&nbsp;&nbsp;&nbsp;&nbsp;<span style=\"font-family:Courier New;font-size: 100%;\">['Flamiaou' , 14,  9, 18],</span> <br>\n",
    "&nbsp;&nbsp;&nbsp;&nbsp;&nbsp;&nbsp;&nbsp;&nbsp;&nbsp;&nbsp;&nbsp;&nbsp;&nbsp;&nbsp;<span style=\"font-family:Courier New;font-size: 100%;\">['Archeduc' , 10, 13, 8]]</span><br>\n",
    "<br>\n",
    "1) quelques questions pour commencer :<br>\n"
   ]
  },
  {
   "cell_type": "code",
   "execution_count": null,
   "metadata": {},
   "outputs": [],
   "source": [
    "question.nb_cartes()"
   ]
  },
  {
   "cell_type": "code",
   "execution_count": null,
   "metadata": {},
   "outputs": [],
   "source": [
    "question.jeu_0()"
   ]
  },
  {
   "cell_type": "code",
   "execution_count": null,
   "metadata": {},
   "outputs": [],
   "source": [
    "question.len_jeu_2()"
   ]
  },
  {
   "cell_type": "code",
   "execution_count": null,
   "metadata": {},
   "outputs": [],
   "source": [
    "question.attaque_deuxieme_pokemon()"
   ]
  },
  {
   "cell_type": "code",
   "execution_count": null,
   "metadata": {},
   "outputs": [],
   "source": [
    "question.jeu_2_3()"
   ]
  },
  {
   "cell_type": "code",
   "execution_count": null,
   "metadata": {},
   "outputs": [],
   "source": [
    "qcm.nom_dernier_pokemon()"
   ]
  },
  {
   "cell_type": "markdown",
   "metadata": {},
   "source": [
    "2) Ecrire une compréhension de liste permettant d'obtenir la liste <span style=\"font-family:Courier New;font-size: 100%;\">noms</span> des pokemons du <span style=\"font-family:Courier New;font-size: 100%;\">jeu</span> :<br>\n"
   ]
  },
  {
   "cell_type": "code",
   "execution_count": null,
   "metadata": {},
   "outputs": [],
   "source": [
    "noms = []\n",
    "assert noms == ['Dracaufeu', 'Brindibou', 'Effleche', 'Flamiaou', 'Archeduc'], \"erreur sur les noms\""
   ]
  },
  {
   "cell_type": "code",
   "execution_count": null,
   "metadata": {},
   "outputs": [],
   "source": [
    "solution.noms()"
   ]
  },
  {
   "cell_type": "markdown",
   "metadata": {},
   "source": [
    "2) Ecrire une compréhension de liste permettant d'obtenir la liste <span style=\"font-family:Courier New;font-size: 100%;\">robustes</span> des pokemons du <span style=\"font-family:Courier New;font-size: 100%;\">jeu</span> ayant plus de 13 points d'énergie :<br>\n"
   ]
  },
  {
   "cell_type": "code",
   "execution_count": null,
   "metadata": {},
   "outputs": [],
   "source": [
    "robustes = []\n",
    "assert len(robustes) == 2, \"2 pokemons ont plus de 13 points d'énergie\""
   ]
  },
  {
   "cell_type": "code",
   "execution_count": null,
   "metadata": {},
   "outputs": [],
   "source": [
    "solution.robustes()"
   ]
  },
  {
   "cell_type": "markdown",
   "metadata": {},
   "source": [
    "3) Cherchez une série d'instruction permettant d'obtenir la liste la liste des noms des pokemons ayant la meilleure défense.<br>\n",
    "<u>*Remarque :*</u> la fonction <span style=\"font-family:Courier New;font-size: 100%;\">max(ma_liste)</span> renvoie la valeur maximale de <span style=\"font-family:Courier New;font-size: 100%;\">ma_liste</span>.<br>\n"
   ]
  },
  {
   "cell_type": "code",
   "execution_count": null,
   "metadata": {},
   "outputs": [],
   "source": [
    "# obtention de la liste des noms des pokemons ayant la meilleure défense.\n",
    "# à compléter"
   ]
  },
  {
   "cell_type": "markdown",
   "metadata": {},
   "source": [
    "4) Cherchez <u>la plus courte façon</u> d'obtenir la liste précédente des noms des pokemons ayant la meilleure défense.<br>\n",
    "Approchez vous du record d'une seule ligne...<br>\n"
   ]
  },
  {
   "cell_type": "code",
   "execution_count": null,
   "metadata": {},
   "outputs": [],
   "source": [
    "# à compléter"
   ]
  },
  {
   "cell_type": "code",
   "execution_count": null,
   "metadata": {},
   "outputs": [],
   "source": [
    "solution.meilleure_defense()"
   ]
  },
  {
   "cell_type": "markdown",
   "metadata": {},
   "source": [
    "<strong><u style=\"color:blue;\">Exercice 6:</u></strong><br>\n",
    "Pour la fonction <span style=\"font-family:Courier New;font-size: 100%;\">somme(ma_liste)</span> définie en début de notebook, nous avons écrit la précondition <span style=\"font-family:Courier New;font-size: 100%;\">ma_liste</span> non vide.<br>\n",
    "Déterminez la deuxième précondition : <span style=\"font-family:Courier New;font-size: 100%;\">ma_liste</span> ne contient que des nombres (entiers ou flottants).<br>\n"
   ]
  },
  {
   "cell_type": "code",
   "execution_count": null,
   "metadata": {},
   "outputs": [],
   "source": [
    "solution.que_des_nombres()"
   ]
  },
  {
   "cell_type": "markdown",
   "metadata": {},
   "source": [
    "### <u style=\"color:green;\">5. Le type de données <span style=\"font-family:Courier New;font-size: 100%;\">tuple</span> :</u> ###\n",
    "● Un tricheur veut discrètement augmenter de deux points l'attaque de Dracofeu, le premier pokemon du <span style=\"font-family:Courier New;font-size: 100%;\">jeu</span>...<br>\n",
    "Donnez l'instruction correspondante :<br>\n"
   ]
  },
  {
   "cell_type": "code",
   "execution_count": null,
   "metadata": {},
   "outputs": [],
   "source": [
    "# rajouter 2 points d'attaque à Dracofeu\n",
    "# à compléter"
   ]
  },
  {
   "cell_type": "markdown",
   "metadata": {},
   "source": [
    "● L'action qui précède a été rendue possible car les <span style=\"font-family:Courier New;font-size: 100%;\">list</span> Python sont des données <strong>mutables</strong>.<br>\n",
    "Pour éviter toute tricherie, il est possible de modéliser chaque pokemon par un <span style=\"font-family:Courier New;font-size: 100%;\">tuple</span> (<span style=\"font-family:Courier New;font-size: 100%;\">n-uplets</span> en français) :<br>\n"
   ]
  },
  {
   "cell_type": "code",
   "execution_count": null,
   "metadata": {},
   "outputs": [],
   "source": [
    "mon_pokemon = ('Dracaufeu', 12, 17, 13) #notez les () au lieu de []\n",
    "print(type(mon_pokemon)) # obtention du type de mon_pokemon"
   ]
  },
  {
   "cell_type": "markdown",
   "metadata": {},
   "source": [
    "● Les <span style=\"font-family:Courier New;font-size: 100%;\">tuple</span> se comportent de la même facon que les <span style=\"font-family:Courier New;font-size: 100%;\">list</span> Python...<br>\n"
   ]
  },
  {
   "cell_type": "code",
   "execution_count": null,
   "metadata": {},
   "outputs": [],
   "source": [
    "print(mon_pokemon [2])\n",
    "print(len(mon_pokemon))"
   ]
  },
  {
   "cell_type": "markdown",
   "metadata": {},
   "source": [
    "● ... à ceci près qu'ils sont <strong>immuables</strong>!<br>\n"
   ]
  },
  {
   "cell_type": "code",
   "execution_count": null,
   "metadata": {},
   "outputs": [],
   "source": [
    "mon_pokemon[2] = 19"
   ]
  },
  {
   "cell_type": "markdown",
   "metadata": {},
   "source": [
    "● Les tuple peuvent donc être intéressants pour <u>protéger certaines données</u>.\n",
    "### <u style=\"color:green;\">6. Tri d'une liste :</u> ###\n",
    "Nous étudierons plus tard des algorithmes qui permettent de <strong>trier une liste</strong> dans l'ordre croissant (ou décroissant).<br>\n",
    "Python propose nativement deux façon de le faire.<br>\n",
    "&nbsp;&nbsp;&nbsp;&nbsp;→ Soit à l'aide d'une <strong>méthode</strong>, c'est à dire une fonction \"raccrochée\" à la liste :<br>\n",
    "&nbsp;&nbsp;&nbsp;&nbsp;&nbsp;&nbsp;&nbsp;&nbsp;<span style=\"font-family:Courier New;font-size: 100%;\">ma_liste.sort()</span> <strong>modifie</strong> <span style=\"font-family:Courier New;font-size: 100%;\">ma_liste</span> en la triant dans l'ordre croissant<br>\n",
    "<br>\n",
    "&nbsp;&nbsp;&nbsp;&nbsp;→ Soit l'aide de la fonction <span style=\"font-family:Courier New;font-size: 100%;\">sorted(ma_liste)</span>, qui renvoie une copie stricte de <span style=\"font-family:Courier New;font-size: 100%;\">ma_liste</span>, rangée dans l'ordre croissant, sans modifier <span style=\"font-family:Courier New;font-size: 100%;\">ma_liste</span>.<br>\n",
    "<br>\n",
    "<u>*Remarque :*</u><br>\n",
    "Si l'on souhaite trier dans l'ordre décroissant, il faut rajouter le paramètre <span style=\"font-family:Courier New;font-size: 100%;\">reverse = True</span> dans chacun des cas.<br>\n",
    "<br>\n",
    "<u>*Exemples :*</u><br>\n"
   ]
  },
  {
   "cell_type": "code",
   "execution_count": null,
   "metadata": {},
   "outputs": [],
   "source": [
    "ma_liste_1 = [1, 5, 3, 2]\n",
    "ma_liste_1.sort() # modifie ma_liste_1 en la triant\n",
    "print(ma_liste_1)"
   ]
  },
  {
   "cell_type": "code",
   "execution_count": null,
   "metadata": {},
   "outputs": [],
   "source": [
    "ma_liste_1.sort(reverse = True) # change à nouveau ma_liste_1 en la triant dans l'ordre décroissant.\n",
    "print(ma_liste_1)"
   ]
  },
  {
   "cell_type": "code",
   "execution_count": null,
   "metadata": {},
   "outputs": [],
   "source": [
    "ma_liste_2 = [10, 2, 7, 1]\n",
    "copie = sorted(ma_liste_2) # ne modifie pas ma_liste_2 mais en renvoie une copie triée\n",
    "print(ma_liste_2)\n",
    "print(copie)"
   ]
  }
 ],
 "metadata": {},
 "nbformat": 4,
 "nbformat_minor": 4
}
