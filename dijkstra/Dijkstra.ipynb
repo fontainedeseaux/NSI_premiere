{
 "cells": [
  {
   "cell_type": "code",
   "execution_count": null,
   "metadata": {},
   "outputs": [],
   "source": [
    "from outils import * # import des outils nécessaires au notebook"
   ]
  },
  {
   "cell_type": "markdown",
   "metadata": {},
   "source": [
    "# <div style=\"text-align:center;\"><u style='color:dodgerblue;'>ALGORITHME DE DIJKSTRA</u></div> #\n",
    "## <u style=\"color:red;\">I. Algorithme de Dijkstra:</u> ##\n",
    "On rappelle qu'un graphe est <strong>connexe</strong> si deux sommets quelconques du graphe peuvet toujours être reliés :\n",
    "- par une chaine (suite d'arêtes adjacentes) dans le cas d'un graphe non orienté\n",
    "\n",
    "- par un chemin (suite d'arcs adjacents) dans le cas d'un graphe orienté\n",
    "\n",
    "Dans le notebook précédent, nous avons trouvé, à l'aide d'un <strong>parcours en largeur</strong>, le plus court chemin pour relier deux sommets.<br>\n",
    "Mais le graphe n'était pas <strong>pondéré</strong>.<br>\n",
    "<br>\n",
    "Cependant, une application GPS est bien obligée de tenir compte des distances entre villes pour trouver le trajet le plus court!<br>\n",
    "Le mathématicien et informaticien *Edsger Wybe Dijkstra (1930-2002)* propose un algorithme pour répondre à ce problème.<br>\n",
    "![alt text](mes_images/Edsger_Wybe_Dijkstra.jpg)<br>\n",
    "● Considérons un premier exemple avec les villes (sommets) <span style=\"font-family:Courier New;font-size: 100%;\">A</span>, <span style=\"font-family:Courier New;font-size: 100%;\">B</span>, <span style=\"font-family:Courier New;font-size: 100%;\">C</span>, <span style=\"font-family:Courier New;font-size: 100%;\">D</span> et <span style=\"font-family:Courier New;font-size: 100%;\">E</span> suivantes :<br>\n",
    "![alt text](mes_images/villes.png)<br>\n",
    "Et cherchons le plus court trajet pour aller de <span style=\"font-family:Courier New;font-size: 100%;\">A</span> à <span style=\"font-family:Courier New;font-size: 100%;\">D</span>.\n",
    "### <u style=\"color:green;\">1. Principe :</u> ###\n",
    "L'algorithme de Dijkstra utilise une <strong>file de priorité</strong>, dans laquelle nous allons enfiler des <span style=\"font-family:Courier New;font-size: 100%;\">tuple</span> :<br>\n",
    "<span style=\"font-family:Courier New;font-size: 100%;\">(distance_au_depart, sommet)</span><br>\n",
    "<br>\n",
    "● Ce qui distingue une file de priorité d'une file classique est que ses éléments y sont <strong>ordonnés</strong> selon un certain critère.<br>\n",
    "Nous y ordonnerons les sommets <u>du plus proche</u> du sommet de départ <span style=\"font-family:Courier New;font-size: 100%;\">A</span>, <u>au plus lointain</u>.<br>\n",
    "<br>\n",
    "● Au préalable, on considère que tous les sommets sont à une distance de $+\\infty$ de <span style=\"font-family:Courier New;font-size: 100%;\">sommet_depart</span>.<br>\n",
    "Excepté <span style=\"font-family:Courier New;font-size: 100%;\">sommet_depart</span> à distance <span style=\"font-family:Courier New;font-size: 100%;\">0</span> de lui-même.<br>\n",
    "<br>\n",
    "Pour cela, on crée un dictionnaire <span style=\"font-family:Courier New;font-size: 100%;\">dic_dist</span>:<br>\n",
    "&nbsp;&nbsp;&nbsp;&nbsp;→ dont les clés sont les sommets<br>\n",
    "&nbsp;&nbsp;&nbsp;&nbsp;→ et les valeurs associées <span style=\"font-family:Courier New;font-size: 100%;\">float(\"inf\")</span><br>\n",
    "&nbsp;&nbsp;&nbsp;&nbsp;→ avec <span style=\"font-family:Courier New;font-size: 100%;\">dic_dist[sommet_depart] = 0</span><br>\n",
    "<br>\n",
    "● Voici le principe de l'algorithme de Dijkstra, qui permet de trouver le plus court chemin de <span style=\"font-family:Courier New;font-size: 100%;\">sommet_depart</span> à <span style=\"font-family:Courier New;font-size: 100%;\">sommet_arrivee</span> :<br>\n",
    "<br>\n",
    "<span style=\"font-family:Courier New;font-size: 100%;\">Créer une <strong>file de priorité</strong> vide et y enfiler le tuple (0, sommet_départ)</span><br>\n",
    "<span style=\"font-family:Courier New;font-size: 100%;\">Créer un set vide  : fermes = set() # pour tout sommet qui y figure, le trajet le plus court a été trouvé</span><br>\n",
    "<span style=\"font-family:Courier New;font-size: 100%;\">Tant que la file de priorité est non vide:</span><br>\n",
    "&nbsp;&nbsp;&nbsp;&nbsp;&nbsp;&nbsp;&nbsp;&nbsp;<span style=\"font-family:Courier New;font-size: 100%;\">défiler le tuple de tete (distance_au_depart, sommet_de_tete)</span><br>\n",
    "&nbsp;&nbsp;&nbsp;&nbsp;&nbsp;&nbsp;&nbsp;&nbsp;<span style=\"font-family:Courier New;font-size: 100%;\">si sommet_de_tete == sommet_arrivee :</span><br>\n",
    "&nbsp;&nbsp;&nbsp;&nbsp;&nbsp;&nbsp;&nbsp;&nbsp;&nbsp;&nbsp;&nbsp;&nbsp;&nbsp;&nbsp;&nbsp;&nbsp;<span style=\"font-family:Courier New;font-size: 100%;\">renvoyer distance_au_départ</span><br>\n",
    "&nbsp;&nbsp;&nbsp;&nbsp;&nbsp;&nbsp;&nbsp;&nbsp;<span style=\"font-family:Courier New;font-size: 100%;\">si sommet_de_tete n'est pas dans fermes :</span><br>\n",
    "&nbsp;&nbsp;&nbsp;&nbsp;&nbsp;&nbsp;&nbsp;&nbsp;&nbsp;&nbsp;&nbsp;&nbsp;&nbsp;&nbsp;&nbsp;&nbsp;<span style=\"font-family:Courier New;font-size: 100%;\">ajouter sommet_de_tete à fermes</span><br>\n",
    "&nbsp;&nbsp;&nbsp;&nbsp;&nbsp;&nbsp;&nbsp;&nbsp;&nbsp;&nbsp;&nbsp;&nbsp;&nbsp;&nbsp;&nbsp;&nbsp;<span style=\"font-family:Courier New;font-size: 100%;\">Pour chaque voisin de sommet_de_tete :</span><br>\n",
    "&nbsp;&nbsp;&nbsp;&nbsp;&nbsp;&nbsp;&nbsp;&nbsp;&nbsp;&nbsp;&nbsp;&nbsp;&nbsp;&nbsp;&nbsp;&nbsp;&nbsp;&nbsp;&nbsp;&nbsp;&nbsp;&nbsp;&nbsp;&nbsp;<span style=\"font-family:Courier New;font-size: 100%;\">si voisin n'est pas dans fermes :</span> <br>\n",
    "&nbsp;&nbsp;&nbsp;&nbsp;&nbsp;&nbsp;&nbsp;&nbsp;&nbsp;&nbsp;&nbsp;&nbsp;&nbsp;&nbsp;&nbsp;&nbsp;&nbsp;&nbsp;&nbsp;&nbsp;&nbsp;&nbsp;&nbsp;&nbsp;&nbsp;&nbsp;&nbsp;&nbsp;&nbsp;&nbsp;&nbsp;&nbsp;<span style=\"font-family:Courier New;font-size: 100%;\">d = distance_au_depart + longueur de l'arête sommet_de_tete → voisin</span><br>\n",
    "&nbsp;&nbsp;&nbsp;&nbsp;&nbsp;&nbsp;&nbsp;&nbsp;&nbsp;&nbsp;&nbsp;&nbsp;&nbsp;&nbsp;&nbsp;&nbsp;&nbsp;&nbsp;&nbsp;&nbsp;&nbsp;&nbsp;&nbsp;&nbsp;&nbsp;&nbsp;&nbsp;&nbsp;&nbsp;&nbsp;&nbsp;&nbsp;<span style=\"font-family:Courier New;font-size: 100%;\">si d < dic_dist[voisin] : # on vient de trouver trajet plus court</span><br>\n",
    "&nbsp;&nbsp;&nbsp;&nbsp;&nbsp;&nbsp;&nbsp;&nbsp;&nbsp;&nbsp;&nbsp;&nbsp;&nbsp;&nbsp;&nbsp;&nbsp;&nbsp;&nbsp;&nbsp;&nbsp;&nbsp;&nbsp;&nbsp;&nbsp;&nbsp;&nbsp;&nbsp;&nbsp;&nbsp;&nbsp;&nbsp;&nbsp;&nbsp;&nbsp;&nbsp;&nbsp;&nbsp;&nbsp;&nbsp;&nbsp;<span style=\"font-family:Courier New;font-size: 100%;\">dic_dist[voisin] = d # on actualise</span><br>\n",
    "&nbsp;&nbsp;&nbsp;&nbsp;&nbsp;&nbsp;&nbsp;&nbsp;&nbsp;&nbsp;&nbsp;&nbsp;&nbsp;&nbsp;&nbsp;&nbsp;&nbsp;&nbsp;&nbsp;&nbsp;&nbsp;&nbsp;&nbsp;&nbsp;&nbsp;&nbsp;&nbsp;&nbsp;&nbsp;&nbsp;&nbsp;&nbsp;&nbsp;&nbsp;&nbsp;&nbsp;&nbsp;&nbsp;&nbsp;&nbsp;<span style=\"font-family:Courier New;font-size: 100%;\">enfiler le tuple (d, voisin)</span><br>\n",
    "\n",
    "### <u style=\"color:green;\">2. Application de l'algorithme pas à pas :</u> ###\n",
    "On cherche donc le plus court trajet pour aller de <strong><span style=\"font-family:Courier New;font-size: 100%;\">A</span> à <span style=\"font-family:Courier New;font-size: 100%;\">D</span></strong>.<br>\n",
    "<span style=\"font-family:Courier New;font-size: 100%;\">fermes = set()</span><br>\n",
    "<span style=\"font-family:Courier New;font-size: 100%;\">file_priorite = [(0, 'A')]</span><br>\n",
    "<span style=\"font-family:Courier New;font-size: 100%;\">file_priorite</span> est non vide, donc on rentre dans la boucle <span style=\"font-family:Courier New;font-size: 100%;\">tant que</span>:<br>\n",
    "<br>\n",
    "● on défile <span style=\"font-family:Courier New;font-size: 100%;\">file_priorite</span> et on obtient :<br>\n",
    "<span style=\"font-family:Courier New;font-size: 100%;\">distance_au_départ = 0</span>, <span style=\"font-family:Courier New;font-size: 100%;\">sommet_de_tete = 'A'</span> et <span style=\"font-family:Courier New;font-size: 100%;\">file_priorite vide</span><br>\n",
    "<span style=\"font-family:Courier New;font-size: 100%;\">A</span> n'est pas dans <span style=\"font-family:Courier New;font-size: 100%;\">fermes</span>, donc :<br>\n",
    "&nbsp;&nbsp;&nbsp;&nbsp;→ on l'y ajoute : <span style=\"font-family:Courier New;font-size: 100%;\">fermes = {'A'}</span><br>\n",
    "&nbsp;&nbsp;&nbsp;&nbsp;→ on boucle sur <u>chaque voisin</u> de <span style=\"font-family:Courier New;font-size: 100%;\">A</span> : <br>\n",
    "&nbsp;&nbsp;&nbsp;&nbsp;&nbsp;&nbsp;&nbsp;&nbsp;• <span style=\"font-family:Courier New;font-size: 100%;\">'B'</span> n'est pas dans <span style=\"font-family:Courier New;font-size: 100%;\">fermes</span>, on calcule <span style=\"font-family:Courier New;font-size: 100%;\">d = distance_au_départ + longueur(A→B) = 0 + 8 = 8</span><br>\n",
    "&nbsp;&nbsp;&nbsp;&nbsp;&nbsp;&nbsp;&nbsp;&nbsp;&nbsp;&nbsp;<span style=\"font-family:Courier New;font-size: 100%;\">dic_dist['B']</span> = +&infin; > 8 donc on actualise <span style=\"font-family:Courier New;font-size: 100%;\">dic_dist['B']</span> à <span style=\"font-family:Courier New;font-size: 100%;\">8</span> et on enfile <span style=\"font-family:Courier New;font-size: 100%;\">(8, 'B')</span> dans <span style=\"font-family:Courier New;font-size: 100%;\">file_priorite</span> :<br>\n",
    "&nbsp;&nbsp;&nbsp;&nbsp;&nbsp;&nbsp;&nbsp;&nbsp;&nbsp;&nbsp;<span style=\"font-family:Courier New;font-size: 100%;\">file_priorite = [(8, 'B')]</span><br>\n",
    "&nbsp;&nbsp;&nbsp;&nbsp;&nbsp;&nbsp;&nbsp;&nbsp;• <span style=\"font-family:Courier New;font-size: 100%;\">'C'</span> n'est pas dans <span style=\"font-family:Courier New;font-size: 100%;\">fermes</span>, on calcule <span style=\"font-family:Courier New;font-size: 100%;\">d = distance_au_départ + longueur(A→C) = 2</span><br>\n",
    "&nbsp;&nbsp;&nbsp;&nbsp;&nbsp;&nbsp;&nbsp;&nbsp;&nbsp;&nbsp;<span style=\"font-family:Courier New;font-size: 100%;\">dic_dist['C']</span> = +&infin; > 2 donc on actualise <span style=\"font-family:Courier New;font-size: 100%;\">dic_dist['C']</span> à <span style=\"font-family:Courier New;font-size: 100%;\">2</span> et on enfile <span style=\"font-family:Courier New;font-size: 100%;\">(2, 'C')</span> dans <span style=\"font-family:Courier New;font-size: 100%;\">file_priorite</span> :<br>\n",
    "&nbsp;&nbsp;&nbsp;&nbsp;&nbsp;&nbsp;&nbsp;&nbsp;&nbsp;&nbsp;<span style=\"font-family:Courier New;font-size: 100%;\">file_priorite = [(2, 'C'), (8, 'B')]</span> (puisqu'une notre file de priorité ordonne par ordre croissant de distance à <span style=\"font-family:Courier New;font-size: 100%;\">sommet_depart</span>)<br>\n",
    "<br>\n",
    "<span style=\"font-family:Courier New;font-size: 100%;\">file_priorite</span> est non vide, donc poursuit la boucle <span style=\"font-family:Courier New;font-size: 100%;\">tant que</span>:<br>\n",
    "<br>\n",
    "● on défile <span style=\"font-family:Courier New;font-size: 100%;\">file_priorite</span> et on obtient :<br>\n",
    "<span style=\"font-family:Courier New;font-size: 100%;\">distance_au_depart = 2</span>, <span style=\"font-family:Courier New;font-size: 100%;\">sommet_de_tete = 'C'</span> et <span style=\"font-family:Courier New;font-size: 100%;\">file_priorite = [(8, 'B')]</span><br>\n",
    "<span style=\"font-family:Courier New;font-size: 100%;\">'C'</span> n'est pas dans <span style=\"font-family:Courier New;font-size: 100%;\">fermes</span>, donc :<br>\n",
    "&nbsp;&nbsp;&nbsp;&nbsp;→ on l'y ajoute : <span style=\"font-family:Courier New;font-size: 100%;\">fermes = {'A', 'C'}</span><br>\n",
    "&nbsp;&nbsp;&nbsp;&nbsp;→ On boucle sur <u>chaque voisin</u> de <span style=\"font-family:Courier New;font-size: 100%;\">'C'</span> :<br>\n",
    "&nbsp;&nbsp;&nbsp;&nbsp;&nbsp;&nbsp;&nbsp;&nbsp;• <span style=\"font-family:Courier New;font-size: 100%;\">'A'</span> est dans <span style=\"font-family:Courier New;font-size: 100%;\">fermes</span>, donc rien ne se passe<br>\n",
    "&nbsp;&nbsp;&nbsp;&nbsp;&nbsp;&nbsp;&nbsp;&nbsp;• <span style=\"font-family:Courier New;font-size: 100%;\">'B'</span> n'est pas dans <span style=\"font-family:Courier New;font-size: 100%;\">fermes</span>, on calcule <span style=\"font-family:Courier New;font-size: 100%;\">d = distance_au_départ + longueur(C→B) = 2 + 7 = 9</span><br>\n",
    "&nbsp;&nbsp;&nbsp;&nbsp;&nbsp;&nbsp;&nbsp;&nbsp;&nbsp;&nbsp;<span style=\"font-family:Courier New;font-size: 100%;\">dic_dist['B'] = 8 < 9</span>, donc rien ne se passe car ce trajet pour arriver à <span style=\"font-family:Courier New;font-size: 100%;\">'B'</span> est moins bon.<br>\n",
    "&nbsp;&nbsp;&nbsp;&nbsp;&nbsp;&nbsp;&nbsp;&nbsp;• <span style=\"font-family:Courier New;font-size: 100%;\">'E'</span> n'est pas dans <span style=\"font-family:Courier New;font-size: 100%;\">fermes</span>, on calcule <span style=\"font-family:Courier New;font-size: 100%;\">d = distance_au_depart + longueur(C→E) = 2 + 5 = 7</span><br>\n",
    "&nbsp;&nbsp;&nbsp;&nbsp;&nbsp;&nbsp;&nbsp;&nbsp;&nbsp;&nbsp;<span style=\"font-family:Courier New;font-size: 100%;\">dic_dist['E'] = +&infin; > 7</span>, donc on actualise <span style=\"font-family:Courier New;font-size: 100%;\">dic_dist['E']</span> à <span style=\"font-family:Courier New;font-size: 100%;\">7</span> et on enfile <span style=\"font-family:Courier New;font-size: 100%;\">(7, 'E')</span> dans <span style=\"font-family:Courier New;font-size: 100%;\">file_priorite</span> :<br>\n",
    "&nbsp;&nbsp;&nbsp;&nbsp;&nbsp;&nbsp;&nbsp;&nbsp;&nbsp;&nbsp;<span style=\"font-family:Courier New;font-size: 100%;\">file_priorite = [(7, 'E'), (8, 'B')]</span><br>\n"
   ]
  },
  {
   "cell_type": "code",
   "execution_count": null,
   "metadata": {},
   "outputs": [],
   "source": [
    "question.suite_1()"
   ]
  },
  {
   "cell_type": "code",
   "execution_count": null,
   "metadata": {},
   "outputs": [],
   "source": [
    "question.suite_2()"
   ]
  },
  {
   "cell_type": "markdown",
   "metadata": {},
   "source": [
    "● La file de priorité est non vide, on poursuit l'algorithme.<br>\n"
   ]
  },
  {
   "cell_type": "code",
   "execution_count": null,
   "metadata": {},
   "outputs": [],
   "source": [
    "qcm.suite_3()"
   ]
  },
  {
   "cell_type": "markdown",
   "metadata": {},
   "source": [
    "● En reprenant l'algorithme, donnez les états successifs du set <span style=\"font-family:Courier New;font-size: 100%;\">fermes</span> si on cherche le plus court trajet de <span style=\"font-family:Courier New;font-size: 100%;\">'D'</span> à <span style=\"font-family:Courier New;font-size: 100%;\">'C'</span>.<br>\n",
    "![alt text](mes_images/crayon_papier.png)<br>\n"
   ]
  },
  {
   "cell_type": "code",
   "execution_count": null,
   "metadata": {},
   "outputs": [],
   "source": [
    "solution.entre_D_et_C()"
   ]
  },
  {
   "cell_type": "markdown",
   "metadata": {},
   "source": [
    "<u>*Remarques :*</u><br>\n",
    "Vous noterez qu'il est donc possible de trouver <strong>deux fois un même sommet</strong>, avec des distances au départ <strong>différentes</strong> dans la file de priorité.<br>\n",
    "Ce n'est pas gênant, car une fois mis dans le <span style=\"font-family:Courier New;font-size: 100%;\">set fermes</span>, les autres <span style=\"font-family:Courier New;font-size: 100%;\">tuple</span> contenant ce sommet seront simplement défilés.\n",
    "### <u style=\"color:green;\">3. Implémentation d'une file de priorité :</u> ###\n",
    "La librairie <span style=\"font-family:Courier New;font-size: 100%;\">heapq</span> permet de modéliser une file de priorité :<br>\n"
   ]
  },
  {
   "cell_type": "code",
   "execution_count": null,
   "metadata": {},
   "outputs": [],
   "source": [
    "from heapq import heappush, heappop\n",
    "# création d'une file de priorité vide :\n",
    "file_priorite = []\n",
    "# On ajoute les tuple (2, 'C') et (8, 'B') :\n",
    "heappush(file_priorite, (8, 'B'))\n",
    "heappush(file_priorite, (2, 'C'))\n",
    "# On affiche la file de priorité :\n",
    "print(file_priorite )\n",
    "# On défile la tête\n",
    "d, v = heappop(file_priorite)\n",
    "print(\"d =\", d, \"v =\", v)\n",
    "print(\"nouvel état de la file :\", file_priorite )"
   ]
  },
  {
   "cell_type": "markdown",
   "metadata": {},
   "source": [
    "## <u style=\"color:red;\">II. Application:</u> ##\n",
    "Pour une mise en situation, considérons la carte roumaine suivante :<br>\n",
    "![alt text](mes_images/roumanie.png)<br>\n",
    "● Cette carte est représentée par un graphe <strong>non orienté</strong>.<br>\n",
    "&nbsp;&nbsp;&nbsp;&nbsp;&nbsp;&nbsp;→ Les 20 villes considérées sont les <strong>sommets</strong> du graphe. <br>\n",
    "&nbsp;&nbsp;&nbsp;&nbsp;&nbsp;&nbsp;→ Les <strong>arêtes</strong> correspondent aux routes entre les villes <br>\n",
    "&nbsp;&nbsp;&nbsp;&nbsp;&nbsp;&nbsp;→ et la distance qui les sépare à leur <strong>poids</strong>. <br>\n",
    "<br>\n",
    "Deux villes étant choisies, il s'agit de trouver le trajet le plus court pour aller de l'une à l'autre.<br>\n",
    "Voici la liste des noms des villes de ce graphe, ainsi que sa <strong>matrice d'adjacence</strong> :<br>\n"
   ]
  },
  {
   "cell_type": "code",
   "execution_count": null,
   "metadata": {},
   "outputs": [],
   "source": [
    "nom_villes = ['Arad', 'Bucharest', 'Craiova', 'Dobret',  'Eforie', 'Fagaras',\n",
    "         'Giurgiu', 'Hirsova', 'Iasi', 'Lugoj', 'Mehadia', 'Neamt',\n",
    "         'Oradea', 'Pitesti', 'Rimniu Vilcea', 'Sibiu', 'Timisoara',\n",
    "         'Urziceni', 'Vaslui', 'Zerind']\n",
    "\n",
    "M =    [[0,0,0,0,0,0,0,0,0,0,0,0,0,0,0,140,118,0,0,75],\n",
    "       [0,0,0,0,0,211,90,0,0,0,0,0,0,101,0,0,0,85,0,0],\n",
    "       [0,0,0,120,0,0,0,0,0,0,0,0,0,138,146,0,0,0,0,0],\n",
    "       [0,0,120,0,0,0,0,0,0,0,75,0,0,0,0,0,0,0,0,0],\n",
    "       [0,0,0,0,0,0,0,86,0,0,0,0,0,0,0,0,0,0,0,0],\n",
    "       [0,211,0,0,0,0,0,0,0,0,0,0,0,0,0,99,0,0,0,0],\n",
    "       [0,90,0,0,0,0,0,0,0,0,0,0,0,0,0,0,0,0,0,0],\n",
    "       [0,0,0,0,86,0,0,0,0,0,0,0,0,0,0,0,0,98,0,0],\n",
    "       [0,0,0,0,0,0,0,0,0,0,0,87,0,0,0,0,0,0,92,0],\n",
    "       [0,0,0,0,0,0,0,0,0,0,70,0,0,0,0,0,111,0,0,0],\n",
    "       [0,0,0,75,0,0,0,0,0,70,0,0,0,0,0,0,0,0,0,0],\n",
    "       [0,0,0,0,0,0,0,0,87,0,0,0,0,0,0,0,0,0,0,0],\n",
    "       [0,0,0,0,0,0,0,0,0,0,0,0,0,0,0,151,0,0,0,71],\n",
    "       [0,101,138,0,0,0,0,0,0,0,0,0,0,0,97,0,0,0,0,0],\n",
    "       [0,0,146,0,0,0,0,0,0,0,0,0,0,97,0,80,0,0,0,0],\n",
    "       [140,0,0,0,0,99,0,0,0,0,0,0,151,0,80,0,0,0,0,0],\n",
    "       [118,0,0,0,0,0,0,0,0,111,0,0,0,0,0,0,0,0,0,0],\n",
    "       [0,85,0,0,0,0,0,98,0,0,0,0,0,0,0,0,0,0,142,0],\n",
    "       [0,0,0,0,0,0,0,0,92,0,0,0,0,0,0,0,0,142,0,0],\n",
    "       [75,0,0,0,0,0,0,0,0,0,0,0,71,0,0,0,0,0,0,0] ]"
   ]
  },
  {
   "cell_type": "markdown",
   "metadata": {},
   "source": [
    "● Voici le code de la classe <span style=\"font-family:Courier New;font-size: 100%;\">Carte</span> qui modélise ce graphe :<br>\n"
   ]
  },
  {
   "cell_type": "code",
   "execution_count": null,
   "metadata": {},
   "outputs": [],
   "source": [
    "class Carte:\n",
    "    def __init__(self, lst_noms_villes, matrice_adj):\n",
    "        self.villes = lst_noms_villes\n",
    "        self.matrice = matrice_adj\n",
    "\n",
    "    \n",
    "    def creer_liste_adj(self):\n",
    "        '''crée la liste d'adjacence associée au graphe à partir de sa matrice d'adjacence'''\n",
    "        self.voisins = {} # dictionnaire modélisant la liste d'adjacence du graphe\n",
    "        # à compléter\n",
    "\n",
    "    def distance(self, ville_1, ville_2):\n",
    "        '''renvoie la distance en km qui sépare deux villes voisines'''\n",
    "        pass\n",
    "\n",
    "    def dijkstra(self, ville_1, ville_2):\n",
    "        '''renvoie la plus courte distance possible pour relier ville_1 et ville_2'''\n",
    "        pass\n",
    "\n",
    "# Construction de la carte de Roumanie et vérification de la liste d'adjacence :\n",
    "# à compléter\n",
    "        "
   ]
  },
  {
   "cell_type": "markdown",
   "metadata": {},
   "source": [
    "1) Complétez la méthode <span style=\"font-family:Courier New;font-size: 100%;\">creer_liste_adj(self)</span> :<br>\n",
    "Cette méthode ajoute un attribut <span style=\"font-family:Courier New;font-size: 100%;\">self.voisins</span> qui correspond au <strong>dictionnaire</strong> modélisant la <strong>liste d'adjacence</strong> de ce graphe.<br>\n",
    "On doit donc obtenir :<br>\n",
    "<br>\n",
    "<span style=\"font-family:Courier New;font-size: 100%;\">self.voisins ={</span><br>\n",
    "&nbsp;&nbsp;&nbsp;&nbsp;&nbsp;&nbsp;&nbsp;&nbsp;&nbsp;&nbsp;&nbsp;&nbsp;&nbsp;&nbsp;&nbsp;&nbsp;&nbsp;<span style=\"font-family:Courier New;font-size: 100%;\">'Arad': ['Sibiu', 'Timisoara', 'Zerind'],</span><br>\n",
    "&nbsp;&nbsp;&nbsp;&nbsp;&nbsp;&nbsp;&nbsp;&nbsp;&nbsp;&nbsp;&nbsp;&nbsp;&nbsp;&nbsp;&nbsp;&nbsp;&nbsp;<span style=\"font-family:Courier New;font-size: 100%;\">'Bucharest': ['Fagaras', 'Giurgiu', 'Pitesti', 'Urziceni'],</span><br>\n",
    "&nbsp;&nbsp;&nbsp;&nbsp;&nbsp;&nbsp;&nbsp;&nbsp;&nbsp;&nbsp;&nbsp;&nbsp;&nbsp;&nbsp;&nbsp;&nbsp;&nbsp;<span style=\"font-family:Courier New;font-size: 100%;\">etc...</span><br>\n",
    "&nbsp;&nbsp;&nbsp;&nbsp;&nbsp;&nbsp;&nbsp;&nbsp;&nbsp;&nbsp;&nbsp;&nbsp;&nbsp;&nbsp;&nbsp;&nbsp;&nbsp;<span style=\"font-family:Courier New;font-size: 100%;\">'Vaslui': ['Iasi', 'Urziceni'],</span><br>\n",
    "&nbsp;&nbsp;&nbsp;&nbsp;&nbsp;&nbsp;&nbsp;&nbsp;&nbsp;&nbsp;&nbsp;&nbsp;&nbsp;&nbsp;&nbsp;&nbsp;&nbsp;<span style=\"font-family:Courier New;font-size: 100%;\">'Zerind': ['Arad', 'Oradea']</span><br>\n",
    "&nbsp;&nbsp;&nbsp;&nbsp;&nbsp;&nbsp;&nbsp;&nbsp;&nbsp;&nbsp;&nbsp;&nbsp;&nbsp;&nbsp;&nbsp;&nbsp;<span style=\"font-family:Courier New;font-size: 100%;\">}</span><br>\n",
    "<br>\n",
    "<strong>Appelez cette méthode</strong> depuis le constructeur <span style=\"font-family:Courier New;font-size: 100%;\">\\_\\_init\\_\\_</span> afin de créer automatiquement cette liste d'adjacence.<br>\n",
    "<br>\n",
    "2) Complétez la méthode <span style=\"font-family:Courier New;font-size: 100%;\">longueur(self, ville_1, ville_2)</span> qui renvoie le nombre de km séparant les villes <strong>voisines</strong> <span style=\"font-family:Courier New;font-size: 100%;\">ville_1</span> et <span style=\"font-family:Courier New;font-size: 100%;\">ville_2</span><br>\n",
    "Effectuez quelques tests de vérification.<br>\n",
    "<br>\n",
    "3)  Complétez la méthode <span style=\"font-family:Courier New;font-size: 100%;\">dijkstra(self, ville_depart, ville_arrivee)</span> qui renvoie <strong>la plus courte distance</strong> pour relier <span style=\"font-family:Courier New;font-size: 100%;\">ville_depart</span> à <span style=\"font-family:Courier New;font-size: 100%;\">ville_arrivee</span><br>\n",
    "<br>\n",
    "4) Modifiez la méthode <span style=\"font-family:Courier New;font-size: 100%;\">dijkstra</span> pour bénéficier en plus du <strong>chemin</strong> correspondant.<br>\n"
   ]
  },
  {
   "cell_type": "code",
   "execution_count": null,
   "metadata": {},
   "outputs": [],
   "source": [
    "solution.Carte()"
   ]
  }
 ],
 "metadata": {},
 "nbformat": 4,
 "nbformat_minor": 4
}
