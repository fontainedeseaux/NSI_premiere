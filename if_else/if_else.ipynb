{
 "cells": [
  {
   "cell_type": "code",
   "execution_count": null,
   "metadata": {},
   "outputs": [],
   "source": [
    "from outils import* # Lancer la cellule pour importer les outils nécessaires au notebook."
   ]
  },
  {
   "cell_type": "markdown",
   "metadata": {},
   "source": [
    "# <div style=\"text-align:center;\"><span style=\"border: 2px solid;padding:6px;color:dodgerblue;\">STRUCTURE CONDITIONNELLE EN PYTHON</span></div> #\n",
    "\n",
    "En informatique, des instructions différentes peuvent être réalisées en fonction d'une ou plusieurs <strong>conditions</strong>.<br>\n",
    "Chaque condition étant de type <strong>booléen</strong>.<br>\n",
    "C'est par exemple ce qui se produit avec le <strong>contrôle de l'âge</strong> sur un site internet à caractère violent.<br>\n",
    "Lorsque la condition \"l'internaute est majeur\" vaut <span style=\"font-family:Courier New;font-size: 100%;\">True</span>, le site poursuit l'affichage des pages.<br>\n",
    "Dans le cas contraire :<br>\n",
    "→ soit rien ne se passe<br>\n",
    "→ soit un message l'informant d'un contenu inapproprié à son âge s'affiche.<br>\n",
    "<br>\n",
    "Dans les deux cas, on a effectué un <strong>test</strong>. <br>\n",
    "Un test <u>simple</u> pour le premier cas, un test <u>complet</u> pour le deuxième.<br>\n",
    "\n",
    "## <u style=\"color:red;\">I. Test simple :</u> ##\n",
    "Un test simple est de la forme :<br>\n",
    "<br>\n",
    "SI <span style=\"font-family:Courier New;font-size: 100%;\">condition</span> ALORS :<br>\n",
    "&nbsp;&nbsp;&nbsp;&nbsp;&nbsp;&nbsp;&nbsp;&nbsp;<span style=\"font-family:Courier New;font-size: 100%;\">bloc_instructions</span><br>\n",
    "<br>\n",
    "Si la <span style=\"font-family:Courier New;font-size: 100%;\">condition</span> est réalisée (si <span style=\"font-family:Courier New;font-size: 100%;\">condition</span> vaut <span style=\"font-family:Courier New;font-size: 100%;\">True</span>), alors <span style=\"font-family:Courier New;font-size: 100%;\">bloc_instructions</span> s'effectue.<br>\n",
    "![alt text](mes_images/bloc_if.png \"test simple\")<br>\n",
    "Dans un test simple, <u>rien n'est précisé</u> si <span style=\"font-family:Courier New;font-size: 100%;\">condition</span> n'est pas réalisée (c'est à dire si <span style=\"font-family:Courier New;font-size: 100%;\">condition</span> vaut <span style=\"font-family:Courier New;font-size: 100%;\">False</span>).<br>\n",
    "<br>\n",
    "En python, un test s'effectue avec le mot clé <span style=\"font-family:Courier New;font-size: 100%;\">if</span>, et on <strong>indente</strong> (=décale) le bloc d'instructions.<br>\n"
   ]
  },
  {
   "cell_type": "code",
   "execution_count": null,
   "metadata": {},
   "outputs": [],
   "source": [
    "age = 23 # on définit une variable age\n",
    "if age >= 18 : # ici la condition est age >= 18, qui vaut True ou False\n",
    "    print('tu peux poursuivre') # si elle vaut True, cette instruction s'effectue"
   ]
  },
  {
   "cell_type": "markdown",
   "metadata": {},
   "source": [
    "On rappelle qu'un <strong>booléen</strong> est renvoyé lorsqu'on effectue les comparaisons suivantes sur <span style=\"font-family:Courier New;font-size: 100%;\">a</span> et <span style=\"font-family:Courier New;font-size: 100%;\">b</span> :<br>\n",
    "<br>\n",
    "→ l'égalité avec <span style=\"font-family:Courier New;font-size: 100%;\">a == b</span><br>\n",
    "→ supérieur ou égal avec <span style=\"font-family:Courier New;font-size: 100%;\">a >= b</span><br>\n",
    "→ inférieur ou égal avec <span style=\"font-family:Courier New;font-size: 100%;\">a <= b</span><br>\n",
    "→ supérieur strict avec <span style=\"font-family:Courier New;font-size: 100%;\">a>b</span><br>\n",
    "→ inférieur strict avec <span style=\"font-family:Courier New;font-size: 100%;\">a<b</span><br>\n",
    "→ le fait que <span style=\"font-family:Courier New;font-size: 100%;\">a</span> est différent de <span style=\"font-family:Courier New;font-size: 100%;\">b</span> avec <span style=\"font-family:Courier New;font-size: 100%;\">a != b</span><br>\n",
    "<br>\n",
    "Ecrire ci-dessous un programme qui demande l'année de la révolution française.<br>\n",
    "Puis qui affiche le message <span style=\"font-family:Courier New;font-size: 100%;\">\"félicitations\"</span> si l'année est la bonne :<br>\n"
   ]
  },
  {
   "cell_type": "code",
   "execution_count": null,
   "metadata": {},
   "outputs": [],
   "source": [
    "# code révolulion\n",
    "# à compléter"
   ]
  },
  {
   "cell_type": "code",
   "execution_count": null,
   "metadata": {},
   "outputs": [],
   "source": [
    "solution.revolution()"
   ]
  },
  {
   "cell_type": "markdown",
   "metadata": {},
   "source": [
    "## <u style=\"color:red;\">II. Test complet :</u> ##\n",
    "Un test complet est de la forme :<br>\n",
    "<br>\n",
    "SI <span style=\"font-family:Courier New;font-size: 100%;\">condition</span> ALORS :<br>\n",
    "&nbsp;&nbsp;&nbsp;&nbsp;&nbsp;&nbsp;&nbsp;&nbsp;<span style=\"font-family:Courier New;font-size: 100%;\">bloc_instructions</span><br>\n",
    "SINON :<br>\n",
    "&nbsp;&nbsp;&nbsp;&nbsp;&nbsp;&nbsp;&nbsp;&nbsp;<span style=\"font-family:Courier New;font-size: 100%;\">autre_bloc_instructions</span><br>\n",
    "<br>\n",
    "![alt text](mes_images/bloc_if_else.png \"test simple\")<br>\n",
    "Cette fois-ci, on <u>précise</u> les instructions à réaliser si <span style=\"font-family:Courier New;font-size: 100%;\">condition</span> n'est pas réalisée (<span style=\"font-family:Courier New;font-size: 100%;\">False</span>).<br>\n",
    "<br>\n",
    "En python, un test complet s'effectue avec les mot-clés <span style=\"font-family:Courier New;font-size: 100%;\">if</span>, <span style=\"font-family:Courier New;font-size: 100%;\">else</span> et l'<strong>indentation</strong> des deux blocs d'instructions :<br>\n",
    "Changez les valeurs de la variable <span style=\"font-family:Courier New;font-size: 100%;\">age</span> et observez les modifications.<br>\n"
   ]
  },
  {
   "cell_type": "code",
   "execution_count": null,
   "metadata": {},
   "outputs": [],
   "source": [
    "age = 23 # on définit une variable age\n",
    "if age >= 18 : # ici la condition est age >= 18, qui vaut True ou False\n",
    "    print(\"tu peux poursuivre\") # si condition vaut True, cette instruction s'effectue\n",
    "else:\n",
    "    print(\"désolé, tu n'as pas l'age requis\") # si condition vaut False, une autre instruction est effectuée"
   ]
  },
  {
   "cell_type": "markdown",
   "metadata": {},
   "source": [
    "● Complétez le code du programme qui demande l'année de la révolution, en rajoutant le message <span style=\"font-family:Courier New;font-size: 100%;\">\"Désolé, réponse fausse\"</span> si c'est le cas :<br>\n"
   ]
  },
  {
   "cell_type": "code",
   "execution_count": null,
   "metadata": {},
   "outputs": [],
   "source": [
    "# code révolution complet\n",
    "# à compléter"
   ]
  },
  {
   "cell_type": "code",
   "execution_count": null,
   "metadata": {},
   "outputs": [],
   "source": [
    "solution.revolution_complet()"
   ]
  },
  {
   "cell_type": "markdown",
   "metadata": {},
   "source": [
    "● On rappelle qu'on peut utiliser les opérateurs logiques <span style=\"font-family:Courier New;font-size: 100%;\">not</span>, <span style=\"font-family:Courier New;font-size: 100%;\">and</span>, <span style=\"font-family:Courier New;font-size: 100%;\">or</span> et <span style=\"font-family:Courier New;font-size: 100%;\">xor</span>  pour combiner des conditions. On écrira :<br>\n",
    "<br>\n",
    "<span style=\"font-family:Courier New;font-size: 100%;\">if not ... :</span><br>\n",
    "<span style=\"font-family:Courier New;font-size: 100%;\">if ... and ... :</span><br>\n",
    "<span style=\"font-family:Courier New;font-size: 100%;\">if ... or ... :</span><br>\n",
    "<span style=\"font-family:Courier New;font-size: 100%;\">if ... ^ ... :</span><br>\n",
    "<br>\n",
    "Pour s'engager dans l'armée, on doit avoir <strong>minimum</strong> 17 ans et demi (inclus) et <strong>maximum</strong> 30 ans (inclus).<br>\n",
    "Ecrire un programme qui :<br>\n",
    "→ demande l'age d'une personne<br>\n",
    "→ puis affiche <span style=\"font-family:Courier New;font-size: 100%;\">\"Tu peux être recruté par l'armée\"</span> ou <span style=\"font-family:Courier New;font-size: 100%;\">\"Tu ne peux pas être recruté par l'armée\"</span><br>\n"
   ]
  },
  {
   "cell_type": "code",
   "execution_count": null,
   "metadata": {},
   "outputs": [],
   "source": [
    "# code armee\n",
    "# à compléter"
   ]
  },
  {
   "cell_type": "code",
   "execution_count": null,
   "metadata": {},
   "outputs": [],
   "source": [
    "solution.armee()"
   ]
  },
  {
   "cell_type": "markdown",
   "metadata": {},
   "source": [
    "<strong>Pour finir...</strong><br>\n",
    "On peut tout à fait effectuer un <strong>test dans un test</strong>! On veillera à respecter les indentations. (cf exercices)<br>\n",
    "![alt text](mes_images/test_dans_test.png \"test simple\")\n",
    "## <u style=\"color:red;\">III. Exercices :</u> ##\n",
    "<u style=\"color:blue;\"><strong>Exercice 1 :</strong></u><br>\n",
    "Ecrire un programme qui :<br>\n",
    "→ demande le montant de son compte en banque à un utilisateur<br>\n",
    "→ Puis affiche le message <span style=\"font-family:Courier New;font-size: 100%;\">\"tu es en positif\"</span>, ou <span style=\"font-family:Courier New;font-size: 100%;\">\"tu es en négatif\"</span> selon les cas.<br>\n"
   ]
  },
  {
   "cell_type": "code",
   "execution_count": null,
   "metadata": {},
   "outputs": [],
   "source": [
    "# code exercice 1\n",
    "# à compléter"
   ]
  },
  {
   "cell_type": "code",
   "execution_count": null,
   "metadata": {},
   "outputs": [],
   "source": [
    "solution.exercice1()"
   ]
  },
  {
   "cell_type": "markdown",
   "metadata": {},
   "source": [
    "<u style=\"color:blue;\"><strong>Exercice 2 :</strong></u><br>\n",
    "Un nageur hésite entre deux tarifs pour s'inscrire à la piscine :<br>\n",
    "tarif A : <span style=\"font-family:Courier New;font-size: 100%;\">4.20</span> € pour chaque entrée<br>\n",
    "tarif B : Une carte d'abonnement à <span style=\"font-family:Courier New;font-size: 100%;\">25</span> €, puis <span style=\"font-family:Courier New;font-size: 100%;\">3.05</span> € chaque entrée.<br>\n",
    "Ecrire un programme qui :<br>\n",
    "→ demande le nombre d'entrées annuelles à un utilisateur<br>\n",
    "→ puis lui indique ensuite s'il vaut mieux prendre le tarif A ou le tarif B en comparant <strong>le coût total</strong> (carte incluse) pour chaque tarif.<br>\n"
   ]
  },
  {
   "cell_type": "code",
   "execution_count": null,
   "metadata": {},
   "outputs": [],
   "source": [
    "# code exercice 2\n",
    "# à compléter"
   ]
  },
  {
   "cell_type": "code",
   "execution_count": null,
   "metadata": {},
   "outputs": [],
   "source": [
    "solution.exercice2()"
   ]
  },
  {
   "cell_type": "markdown",
   "metadata": {},
   "source": [
    "<u style=\"color:blue;\"><strong>Exercice 3 :</strong></u><br>\n",
    "Un lycée décide de faire passer prioritairement à la cantine les élèves <strong>majeurs mais qui sont en BTS</strong>!<br>\n",
    "Ecrire un programme<br>\n",
    "→ demande l'age de l'élève et le niveau de classe de l'élève (seconde, première, terminale ou bts)<br>\n",
    "→ puis qui indique s'il est ou non prioritaire.<br>\n"
   ]
  },
  {
   "cell_type": "code",
   "execution_count": null,
   "metadata": {},
   "outputs": [],
   "source": [
    "# code exercice 3\n",
    "# à compléter"
   ]
  },
  {
   "cell_type": "code",
   "execution_count": null,
   "metadata": {},
   "outputs": [],
   "source": [
    "solution.prioritaire()"
   ]
  },
  {
   "cell_type": "markdown",
   "metadata": {},
   "source": [
    "<u style=\"color:blue;\"><strong>Exercice 4 :</strong></u><br>\n",
    "Le code PIN d'un téléphone est <span style=\"font-family:Courier New;font-size: 100%;\">3445</span>.<br>\n",
    "Ecrire un programme qui :<br>\n",
    "→ demande <strong>au maximum trois fois</strong> le code PIN (si l'utilisateur rentre directement le bon code, le téléphone est débloqué)<br>\n",
    "→ puis affiche \"téléphone débloqué\" ou \"téléphone bloqué\" à l'issue des tentatives.<br>\n"
   ]
  },
  {
   "cell_type": "code",
   "execution_count": null,
   "metadata": {},
   "outputs": [],
   "source": [
    "# code exercice 4\n",
    "# à compléter"
   ]
  },
  {
   "cell_type": "code",
   "execution_count": null,
   "metadata": {},
   "outputs": [],
   "source": [
    "solution.exercice4()"
   ]
  },
  {
   "cell_type": "markdown",
   "metadata": {},
   "source": [
    "## <u style=\"color:red;\">IV. L'instruction <span style=\"font-family:Courier New;font-size: 100%;\">elif</span> :</u> ##\n",
    "Le mot-clef <span style=\"font-family:Courier New;font-size: 100%;\">elif</span> est la contraction de <span style=\"font-family:Courier New;font-size: 100%;\">else if</span> et signifie littéralement : <span style=\"font-family:Courier New;font-size: 100%;\">sinon si</span>.<br>\n",
    "C'est une instruction intéressante à utiliser dans un test lorsqu'il y a <strong>plusieurs cas à examiner</strong>.<br>\n",
    "*Exemple* :<br>\n",
    "<br>\n",
    "<span style=\"font-family:Courier New;font-size: 100%;\">si j_ai_plus_de_cent_mille_euros :</span><br>\n",
    "&nbsp;&nbsp;&nbsp;&nbsp;&nbsp;&nbsp;&nbsp;&nbsp;<span style=\"font-family:Courier New;font-size: 100%;\">je_m_achete_une_ferrari</span><br>\n",
    "<span style=\"font-family:Courier New;font-size: 100%;\">sinon_si j_ai_plus_cinquante_mille_euros :</span><br>\n",
    "&nbsp;&nbsp;&nbsp;&nbsp;&nbsp;&nbsp;&nbsp;&nbsp;<span style=\"font-family:Courier New;font-size: 100%;\">je_m_achete_une_porsche</span><br>\n",
    "<span style=\"font-family:Courier New;font-size: 100%;\">sinon_si j_ai_plus_de_vingt_mille_euros :</span><br>\n",
    "&nbsp;&nbsp;&nbsp;&nbsp;&nbsp;&nbsp;&nbsp;&nbsp;<span style=\"font-family:Courier New;font-size: 100%;\">je_m_achete_une_BMW</span><br>\n",
    "<span style=\"font-family:Courier New;font-size: 100%;\">sinon :</span><br>\n",
    "&nbsp;&nbsp;&nbsp;&nbsp;&nbsp;&nbsp;&nbsp;&nbsp;<span style=\"font-family:Courier New;font-size: 100%;\">j_attendrai_avant_d_acheter</span><br>\n",
    "<br>\n",
    "Voici la syntaxe python associée :<br>\n",
    "<br>\n",
    "<span style=\"font-family:Courier New;font-size: 100%;\">if condition_1 :</span><br>\n",
    "&nbsp;&nbsp;&nbsp;&nbsp;&nbsp;&nbsp;&nbsp;&nbsp;<span style=\"font-family:Courier New;font-size: 100%;\">bloc_1</span><br>\n",
    "<span style=\"font-family:Courier New;font-size: 100%;\">elif condition_2 : #condition_1 vaut False</span><br>\n",
    "&nbsp;&nbsp;&nbsp;&nbsp;&nbsp;&nbsp;&nbsp;&nbsp;<span style=\"font-family:Courier New;font-size: 100%;\">bloc_2</span><br>\n",
    "<span style=\"font-family:Courier New;font-size: 100%;\">elif condition_3 : #condition_1 et condition_2 valent False</span><br>\n",
    "&nbsp;&nbsp;&nbsp;&nbsp;&nbsp;&nbsp;&nbsp;&nbsp;<span style=\"font-family:Courier New;font-size: 100%;\">bloc_3</span><br>\n",
    "<span style=\"font-family:Courier New;font-size: 100%;\">else : # condition_1, condition_2 et condition_3 valent False</span><br>\n",
    "&nbsp;&nbsp;&nbsp;&nbsp;&nbsp;&nbsp;&nbsp;&nbsp;<span style=\"font-family:Courier New;font-size: 100%;\">bloc_4</span><br>\n",
    "<br>\n",
    "Il n'y a pas de limitations du nombre de <span style=\"font-family:Courier New;font-size: 100%;\">elif</span>.<br>\n",
    "On peut schématiser l'utilisation de elif dans un test ainsi :<br>\n",
    "![alt text](mes_images/elif.png \"elif\")<br>\n"
   ]
  },
  {
   "cell_type": "markdown",
   "metadata": {},
   "source": [
    "<u style=\"color:blue;\"><strong>Exercice 5 :</strong></u><br>\n",
    "On considère que l'eau :\n",
    "- est sous forme de <u>glace</u> lorsque la température est <u>strictement négative</u>.\n",
    "\n",
    "- est <u>liquide</u> de <u>0°C à 100°C</u>\n",
    "\n",
    "- est <u>gazeuse</u> dès que la température est <u>strictement supérieure à 100°C</u>.\n",
    "\n",
    "\n",
    "Ecrire un programme qui :<br>\n",
    "→ demande une température à l'utilisateur<br>\n",
    "→ puis lui affiche la phrase lui indiquant l'état de l'eau à la température saisie :<br>\n",
    "<br>\n",
    "<span style=\"font-family:Courier New;font-size: 100%;\">A ... °C, l'eau est ...</span><br>\n"
   ]
  },
  {
   "cell_type": "code",
   "execution_count": null,
   "metadata": {},
   "outputs": [],
   "source": [
    "# code exercice 5\n",
    "# à compléter"
   ]
  },
  {
   "cell_type": "code",
   "execution_count": null,
   "metadata": {},
   "outputs": [],
   "source": [
    "solution.exercice5()"
   ]
  }
 ],
 "metadata": {},
 "nbformat": 4,
 "nbformat_minor": 4
}
