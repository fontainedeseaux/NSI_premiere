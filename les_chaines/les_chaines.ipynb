{
 "cells": [
  {
   "cell_type": "code",
   "execution_count": null,
   "metadata": {},
   "outputs": [],
   "source": [
    "from outils import* # Lancer la cellule pour importer les outils nécessaires au notebook."
   ]
  },
  {
   "cell_type": "markdown",
   "metadata": {},
   "source": [
    "# <div style=\"text-align:center;\"><span style=\"border: 2px solid;padding:6px;color:dodgerblue;\">COMPLEMENTS SUR LES CHAINES DE CARACTERES</span></div> #\n",
    "\n",
    "Nous avons déjà découvert 4 types de données : <strong>integer, float, string et booléens</strong>.<br>\n",
    "L'objectif de ce notebook est d'apporter des compléments sur les chaines de caractères, à savoir le type <span style=\"font-family:Courier New;font-size: 100%;\">string</span>.\n",
    "### <u style=\"color:green;\">1. longueur et index :</u> ###\n",
    "Le <strong>nombre de caractères</strong> (ou éléments) qui compose une chaine définit sa <strong>longueur</strong>.<br>\n",
    "*Exemple :*<br>\n",
    "<span style=\"font-family:Courier New;font-size: 100%;\">ma_chaine = \"abcdABCD123\"</span> définit une chaine de longueur <span style=\"font-family:Courier New;font-size: 100%;\">11</span>.<br>\n",
    "On obtient la longueur d'une chaine à l'aide de la fonction <span style=\"font-family:Courier New;font-size: 100%;\">len(...)</span> :<br>\n"
   ]
  },
  {
   "cell_type": "code",
   "execution_count": null,
   "metadata": {},
   "outputs": [],
   "source": [
    "ma_chaine = \"abcdABCD123\"\n",
    "print(ma_chaine, \"est une chaine de longueur\", len(ma_chaine))"
   ]
  },
  {
   "cell_type": "markdown",
   "metadata": {},
   "source": [
    "● Chaque caractère d'une chaine possède un <strong>index</strong>, c'est-à-dire <strong>un numéro qui indique sa position</strong>.<br>\n",
    "On indexe les éléments d'une chaine <u>à partir de <span style=\"font-family:Courier New;font-size: 100%;\">0</span></u> :<br>\n",
    "![alt text](mes_images/index.png \"index des éléments d'une chaine\")<br>\n"
   ]
  },
  {
   "cell_type": "code",
   "execution_count": null,
   "metadata": {},
   "outputs": [],
   "source": [
    "qcm.index0()"
   ]
  },
  {
   "cell_type": "code",
   "execution_count": null,
   "metadata": {},
   "outputs": [],
   "source": [
    "qcm.index8()"
   ]
  },
  {
   "cell_type": "code",
   "execution_count": null,
   "metadata": {},
   "outputs": [],
   "source": [
    "qcm.index11()"
   ]
  },
  {
   "cell_type": "markdown",
   "metadata": {},
   "source": [
    "● De façon générale, <span style=\"border: 2px solid;padding:6px;\">le dernier élément d'une chaine de longueur <span style=\"font-family:Courier New;font-size: 100%;\">n</span> a pour index <span style=\"font-family:Courier New;font-size: 100%;\">n-1</span></span>.<br>\n",
    "<br><br>Spécifiquement sur python, on peut accéder au dernier élément d'une chaine ainsi : <span style=\"border: 2px solid;padding:6px;\"><span style=\"font-family:Courier New;font-size: 100%;\">dernier_element = ma_chaine[-1]</span></span><br>\n",
    "<br>Ce qui peut paraître logique en imaginant une <strong>réprésentation circulaire</strong> des indices de 0 à 10 (modulo <span style=\"font-family:Courier New;font-size: 100%;\">11</span>).<br>\n",
    "![alt text](mes_images/modulo.png \"représentation modulo 11 des index\")<br>\n"
   ]
  },
  {
   "cell_type": "code",
   "execution_count": null,
   "metadata": {},
   "outputs": [],
   "source": [
    "qcm.index_moins_2()"
   ]
  },
  {
   "cell_type": "markdown",
   "metadata": {},
   "source": [
    "● Ecrire le code qui permet d'afficher chaque caractere composant ma_chaine :<br>\n"
   ]
  },
  {
   "cell_type": "code",
   "execution_count": null,
   "metadata": {},
   "outputs": [],
   "source": [
    "ma_chaine = \"abcdABCD123\"\n",
    "# code affichant les caractères de ma_chaine l'un après l'autre"
   ]
  },
  {
   "cell_type": "code",
   "execution_count": null,
   "metadata": {},
   "outputs": [],
   "source": [
    "solution.caractere()"
   ]
  },
  {
   "cell_type": "markdown",
   "metadata": {},
   "source": [
    "### <u style=\"color:green;\">2. Donnée immuable :</u> ###\n",
    "Essayons de modifier le premier caractère de <span style=\"font-family:Courier New;font-size: 100%;\">ma_chaine</span> :<br>\n"
   ]
  },
  {
   "cell_type": "code",
   "execution_count": null,
   "metadata": {},
   "outputs": [],
   "source": [
    "# on essaie de modifier le premier caractère de ma_chaine, le 'a' en le remplaçant par un 'T'\n",
    "ma_chaine = \"abcdABCD123\"\n",
    "ma_chaine[0] = \"T\""
   ]
  },
  {
   "cell_type": "markdown",
   "metadata": {},
   "source": [
    "● Les chaines de caractères sont des données <strong>immuables</strong>. C'est à dire qu'on <strong>ne peut pas les modifier après leur création</strong>.<br>\n",
    "C'est aussi une façon de les <strong>protéger</strong>.<br>\n",
    "<br>\n",
    "<u style=\"color:blue;\">Exercice 1 :</u><br>\n",
    "Ecrire une fonction <span style=\"font-family:Courier New;font-size: 100%;\">nb_chiffres(x)</span> :\n",
    "- avec <span style=\"font-family:Courier New;font-size: 100%;\">x</span> entier positif (assertion à prévoir)\n",
    "\n",
    "- et qui renvoie le nombre de chiffres dont est composé <span style=\"font-family:Courier New;font-size: 100%;\">x</span>.\n",
    "\n",
    "Post-conditions :<br>\n",
    "<span style=\"font-family:Courier New;font-size: 100%;\">nb_chiffres(772)</span> renvoie <span style=\"font-family:Courier New;font-size: 100%;\">3</span><br>\n",
    "<span style=\"font-family:Courier New;font-size: 100%;\">nb_chiffres(2)</span> renvoie <span style=\"font-family:Courier New;font-size: 100%;\">1</span><br>\n",
    "<span style=\"font-family:Courier New;font-size: 100%;\">nb_chiffres(10&#42;&#42;9)</span> renvoie <span style=\"font-family:Courier New;font-size: 100%;\">10</span><br>\n"
   ]
  },
  {
   "cell_type": "code",
   "execution_count": null,
   "metadata": {},
   "outputs": [],
   "source": [
    "# code Exercice 1"
   ]
  },
  {
   "cell_type": "code",
   "execution_count": null,
   "metadata": {},
   "outputs": [],
   "source": [
    "solution.nb_chiffres()"
   ]
  },
  {
   "cell_type": "markdown",
   "metadata": {},
   "source": [
    "### <u style=\"color:green;\">3. Extraire une sous-chaine :</u> ###\n",
    "On peut extraire une \"tranche\" (slice en anglais) de <span style=\"font-family:Courier New;font-size: 100%;\">ma_chaine</span> :<br>\n",
    "<span style=\"font-family:Courier New;font-size: 100%;\">ma_chaine[a: b]</span>  renvoie la <strong>sous-chaine</strong> composée des éléments d'index <span style=\"font-family:Courier New;font-size: 100%;\">a, a+1,… ,b‒1</span>.<br>\n",
    "<br>\n",
    "⚠️ L'élément d'index <span style=\"font-family:Courier New;font-size: 100%;\">b</span> n'est donc <strong>pas inclus</strong>.<br>\n",
    "<br>\n",
    "Comme cétait le cas lorsqu'on écrit <span style=\"font-family:Courier New;font-size: 100%;\">for k in range(a, b):</span>, où <span style=\"font-family:Courier New;font-size: 100%;\">k</span> parcourt les entiers de <span style=\"font-family:Courier New;font-size: 100%;\">a</span> à <span style=\"font-family:Courier New;font-size: 100%;\">b - 1</span>.<br>\n"
   ]
  },
  {
   "cell_type": "code",
   "execution_count": null,
   "metadata": {},
   "outputs": [],
   "source": [
    "qcm.slice()"
   ]
  },
  {
   "cell_type": "markdown",
   "metadata": {},
   "source": [
    "### <u style=\"color:green;\">4. Appartenance d'un élément à une chaine :</u> ###\n",
    "L'instruction <span style=\"font-family:Courier New;font-size: 100%;\">in</span> peut être utilisée pour savoir si une chaine contient un caractère donné.<br>\n",
    "<span style=\"font-family:Courier New;font-size: 100%;\">element in ma_chaine</span> vaut <span style=\"font-family:Courier New;font-size: 100%;\">True</span> si <span style=\"font-family:Courier New;font-size: 100%;\">element</span> est dans <span style=\"font-family:Courier New;font-size: 100%;\">ma_chaine</span> et <span style=\"font-family:Courier New;font-size: 100%;\">False</span> sinon.<br>\n"
   ]
  },
  {
   "cell_type": "code",
   "execution_count": null,
   "metadata": {},
   "outputs": [],
   "source": [
    "ma_chaine = \"abcdABCD123\"\n",
    "print(\"1\" in ma_chaine)\n",
    "print(\"Z\" in ma_chaine)"
   ]
  },
  {
   "cell_type": "markdown",
   "metadata": {},
   "source": [
    "● On peut même tester la présence d'une sous-chaine dans la chaine!<br>\n"
   ]
  },
  {
   "cell_type": "code",
   "execution_count": null,
   "metadata": {},
   "outputs": [],
   "source": [
    "print(\"ABC\" in ma_chaine)\n",
    "print(\"dAA\" in ma_chaine)"
   ]
  },
  {
   "cell_type": "markdown",
   "metadata": {},
   "source": [
    "### <u style=\"color:green;\">5. Concaténation et multiplication :</u> ###\n",
    "Nous avons déjà vu qu'on pouvait <strong>concaténer</strong> deux chaines, c'est à dire les mettre <strong>bout à bout</strong> en les <strong>additionnant</strong>.<br>\n"
   ]
  },
  {
   "cell_type": "code",
   "execution_count": null,
   "metadata": {},
   "outputs": [],
   "source": [
    "qcm.concatenation()"
   ]
  },
  {
   "cell_type": "markdown",
   "metadata": {},
   "source": [
    "● En python on peut même <strong>multiplier</strong> une chaine par un entier pour la répliquer autant de fois que nécessaire!<br>\n"
   ]
  },
  {
   "cell_type": "code",
   "execution_count": null,
   "metadata": {},
   "outputs": [],
   "source": [
    "a = 'ron'\n",
    "print(3 * a)\n",
    "print(a * 5)"
   ]
  },
  {
   "cell_type": "markdown",
   "metadata": {},
   "source": [
    "<u style=\"color:blue;\">Exercice 2 :</u><br>\n",
    "<span style=\"font-family:Courier New;font-size: 100%;\">resultat</span> est une chaine <strong>vide</strong> et <span style=\"font-family:Courier New;font-size: 100%;\">mot</span> une chaine saisie par l'utilisateur. Voici le code  :<br>\n",
    "<span style=\"font-family:Courier New;font-size: 100%;\">resultat = ''</span><br>\n",
    "<span style=\"font-family:Courier New;font-size: 100%;\">mot = input('Entrez un mot : ')</span><br>\n",
    "<span style=\"font-family:Courier New;font-size: 100%;\">n = len(mot)</span><br>\n",
    "<span style=\"font-family:Courier New;font-size: 100%;\">for k in range(n):</span><br>\n",
    "&nbsp;&nbsp;&nbsp;&nbsp;&nbsp;&nbsp;&nbsp;&nbsp;<span style=\"font-family:Courier New;font-size: 100%;\">element = mot[k]</span><br>\n",
    "&nbsp;&nbsp;&nbsp;&nbsp;&nbsp;&nbsp;&nbsp;&nbsp;<span style=\"font-family:Courier New;font-size: 100%;\">if element == 'a' or element == 'e' or element == 'i' or element == 'o' or element == 'u':</span><br>\n",
    "&nbsp;&nbsp;&nbsp;&nbsp;&nbsp;&nbsp;&nbsp;&nbsp;&nbsp;&nbsp;&nbsp;&nbsp;&nbsp;&nbsp;&nbsp;&nbsp;<span style=\"font-family:Courier New;font-size: 100%;\">resultat += element</span><br>\n"
   ]
  },
  {
   "cell_type": "code",
   "execution_count": null,
   "metadata": {},
   "outputs": [],
   "source": [
    "qcm.resultat()"
   ]
  },
  {
   "cell_type": "markdown",
   "metadata": {},
   "source": [
    "### <u style=\"color:green;\">6. Exercices :</u> ###\n",
    "<u style=\"color:blue;\">Exercice 3 :</u><br>\n",
    "Ecrire une fonction <span style=\"font-family:Courier New;font-size: 100%;\">occurrences(caractere, ma_chaine)</span>, qui renvoie le nombre de fois où <span style=\"font-family:Courier New;font-size: 100%;\">caractere</span> est présent dans la string <span style=\"font-family:Courier New;font-size: 100%;\">ma_chaine</span>.<br>\n",
    "*Exemples :*<br>\n",
    "<span style=\"font-family:Courier New;font-size: 100%;\">occurrences('a','abracadabra')</span> renvoie <span style=\"font-family:Courier New;font-size: 100%;\">5</span><br>\n",
    "<span style=\"font-family:Courier New;font-size: 100%;\">occurrences('z','abracadabra')</span> renvoie <span style=\"font-family:Courier New;font-size: 100%;\">0</span><br>\n"
   ]
  },
  {
   "cell_type": "code",
   "execution_count": null,
   "metadata": {},
   "outputs": [],
   "source": [
    "# code de l'exercice 3"
   ]
  },
  {
   "cell_type": "code",
   "execution_count": null,
   "metadata": {},
   "outputs": [],
   "source": [
    "solution.occurrences()"
   ]
  },
  {
   "cell_type": "markdown",
   "metadata": {},
   "source": [
    "<u style=\"color:blue;\">Exercice 4 :</u><br>\n",
    "Ecrire une fonction <span style=\"font-family:Courier New;font-size: 100%;\">hashtag(ma_chaine)</span> qui renvoie la chaine obtenue en intercalant le caractère <span style=\"font-family:Courier New;font-size: 100%;\">#</span> entre chaque caractère de <span style=\"font-family:Courier New;font-size: 100%;\">ma_chaine</span><br>\n",
    "Par exemple, <span style=\"font-family:Courier New;font-size: 100%;\">hashtag('bonjour')</span> doit renvoyer <span style=\"font-family:Courier New;font-size: 100%;\">'b#o#n#j#o#u#r'</span><br>\n"
   ]
  },
  {
   "cell_type": "code",
   "execution_count": null,
   "metadata": {},
   "outputs": [],
   "source": [
    "# code de l'exercice 4"
   ]
  },
  {
   "cell_type": "code",
   "execution_count": null,
   "metadata": {},
   "outputs": [],
   "source": [
    "solution.hashtag()"
   ]
  },
  {
   "cell_type": "markdown",
   "metadata": {},
   "source": [
    "<u style=\"color:blue;\">Exercice 5 :</u><br>\n",
    "Ecrire une fonction <span style=\"font-family:Courier New;font-size: 100%;\">remplacer(caractere_1, caractere_2, ma_chaine)</span> qui renvoie la chaine obtenue lorsqu'on remplace chaque <span style=\"font-family:Courier New;font-size: 100%;\">caractere_1</span> par <span style=\"font-family:Courier New;font-size: 100%;\">caractere_2</span> dans ma_chaine.<br>\n",
    "Par exemple, <span style=\"font-family:Courier New;font-size: 100%;\">remplacer('o', 't', 'bonjour')</span> renvoie <span style=\"font-family:Courier New;font-size: 100%;\">'btnjtur'</span><br>\n"
   ]
  },
  {
   "cell_type": "code",
   "execution_count": null,
   "metadata": {},
   "outputs": [],
   "source": [
    "# code de l'exercice 5"
   ]
  },
  {
   "cell_type": "code",
   "execution_count": null,
   "metadata": {},
   "outputs": [],
   "source": [
    "solution.remplacer()"
   ]
  },
  {
   "cell_type": "markdown",
   "metadata": {},
   "source": [
    "<u style=\"color:blue;\">Exercice 6 :</u><br>\n",
    "Ecrire une fonction <span style=\"font-family:Courier New;font-size: 100%;\">renverse(ma_chaine)</span> qui renvoie <span style=\"font-family:Courier New;font-size: 100%;\">ma_chaine</span> <strong>lue de droite à gauche</strong>.<br>\n",
    "Par exemple, <span style=\"font-family:Courier New;font-size: 100%;\">renverse('bonjour')</span> renvoie <span style=\"font-family:Courier New;font-size: 100%;\">'ruojnob'</span>.<br>\n"
   ]
  },
  {
   "cell_type": "code",
   "execution_count": null,
   "metadata": {},
   "outputs": [],
   "source": [
    "# code de l'exercice 6"
   ]
  },
  {
   "cell_type": "code",
   "execution_count": null,
   "metadata": {},
   "outputs": [],
   "source": [
    "solution.renverse()"
   ]
  },
  {
   "cell_type": "markdown",
   "metadata": {},
   "source": [
    "<u style=\"color:blue;\">Exercice 7 :</u><br>\n",
    "Ecrire une fonction <span style=\"font-family:Courier New;font-size: 100%;\">supprimer_espaces(ma_chaine)</span> qui renvoie <span style=\"font-family:Courier New;font-size: 100%;\">ma_chaine</span> dans laquelle on supprime tous les espaces rencontrés.<br>\n",
    "Par exemple, <span style=\"font-family:Courier New;font-size: 100%;\">supprimer_espaces('bonjour les amis')</span> renvoie <span style=\"font-family:Courier New;font-size: 100%;\">'bonjourlesamis'</span>.<br>\n"
   ]
  },
  {
   "cell_type": "code",
   "execution_count": null,
   "metadata": {},
   "outputs": [],
   "source": [
    "# code de l'exercice 7"
   ]
  },
  {
   "cell_type": "code",
   "execution_count": null,
   "metadata": {},
   "outputs": [],
   "source": [
    "solution.supprimer_espaces()"
   ]
  },
  {
   "cell_type": "markdown",
   "metadata": {},
   "source": [
    "<u style=\"color:blue;\">Exercice 8 :</u><br>\n",
    "Ecrire une fonction <span style=\"font-family:Courier New;font-size: 100%;\">melanger(mot_1, mot_2)</span> :\n",
    "- où <span style=\"font-family:Courier New;font-size: 100%;\">mot_1</span> et <span style=\"font-family:Courier New;font-size: 100%;\">mot_2</span> ont le même nombre de caractères (assertion)\n",
    "\n",
    "- et qui renvoie un mot de taille double, obtenu en alternant une lettre de <span style=\"font-family:Courier New;font-size: 100%;\">mot_1</span>, et une lettre de <span style=\"font-family:Courier New;font-size: 100%;\">mot_2</span>.\n",
    "\n",
    "Par exemple, <span style=\"font-family:Courier New;font-size: 100%;\">melanger('<span style=\"color:green;\">python</span>', '<span style=\"color:red;\">entier</span>')</span> renvoie <span style=\"font-family:Courier New;font-size: 100%;\">'<span style=\"color:green;\">p</span><span style=\"color:red;\">e</span><span style=\"color:green;\">y</span><span style=\"color:red;\">n</span><span style=\"color:green;\">t</span><span style=\"color:red;\">t</span><span style=\"color:green;\">h</span><span style=\"color:red;\">i</span><span style=\"color:green;\">o</span><span style=\"color:red;\">e</span><span style=\"color:green;\">n</span><span style=\"color:red;\">r</span>'</span>.<br>\n"
   ]
  },
  {
   "cell_type": "code",
   "execution_count": null,
   "metadata": {},
   "outputs": [],
   "source": [
    "# code de l'exercice 8"
   ]
  },
  {
   "cell_type": "code",
   "execution_count": null,
   "metadata": {},
   "outputs": [],
   "source": [
    "solution.melanger()"
   ]
  },
  {
   "cell_type": "markdown",
   "metadata": {},
   "source": [
    "<u style=\"color:blue;\">Exercice 9 :</u><br>\n",
    "Ecrire une fonction <span style=\"font-family:Courier New;font-size: 100%;\">decoder(mot_melange)</span>, qui fait le contraire de l'exercice 8, et renvoie la chaine <span style=\"font-family:Courier New;font-size: 100%;\">mot1 + ' ' + mot2</span> après avoir retrouvé les deux mots mélangés.<br>\n",
    "Par exemple, <span style=\"font-family:Courier New;font-size: 100%;\">decoder('<span style=\"color:green;\">p</span><span style=\"color:red;\">e</span><span style=\"color:green;\">y</span><span style=\"color:red;\">n</span><span style=\"color:green;\">t</span><span style=\"color:red;\">t</span><span style=\"color:green;\">h</span><span style=\"color:red;\">i</span><span style=\"color:green;\">o</span><span style=\"color:red;\">e</span><span style=\"color:green;\">n</span><span style=\"color:red;\">r</span>')</span> renvoie <span style=\"font-family:Courier New;font-size: 100%;\">'<span style=\"color:green;\">python</span> <span style=\"color:red;\">entier</span>'</span><br>\n"
   ]
  },
  {
   "cell_type": "code",
   "execution_count": null,
   "metadata": {},
   "outputs": [],
   "source": [
    "# code de l'exercice 9"
   ]
  },
  {
   "cell_type": "code",
   "execution_count": null,
   "metadata": {},
   "outputs": [],
   "source": [
    "solution.decoder()"
   ]
  },
  {
   "cell_type": "markdown",
   "metadata": {},
   "source": [
    "<u style=\"color:blue;\">Exercice 10 :</u><br>\n",
    "Ecrire une fonction <span style=\"font-family:Courier New;font-size: 100%;\">contient(mot_1, mot2)</span> qui renvoie <span style=\"font-family:Courier New;font-size: 100%;\">True</span> si toutes les lettres de <span style=\"font-family:Courier New;font-size: 100%;\">mot_1</span> sont contenues dans <span style=\"font-family:Courier New;font-size: 100%;\">mot_2</span> et <span style=\"font-family:Courier New;font-size: 100%;\">False</span> sinon.<br>\n",
    "*Exemples :*<br>\n",
    "<span style=\"font-family:Courier New;font-size: 100%;\">contient('oui', 'besoin')</span> renvoie <span style=\"font-family:Courier New;font-size: 100%;\">False</span> car la lettre <span style=\"font-family:Courier New;font-size: 100%;\">'u'</span> de <span style=\"font-family:Courier New;font-size: 100%;\">'oui'</span> n'est pas dans le <span style=\"font-family:Courier New;font-size: 100%;\">mot_2</span> qui vaut <span style=\"font-family:Courier New;font-size: 100%;\">'besoin'</span>.<br>\n",
    "<span style=\"font-family:Courier New;font-size: 100%;\">contient('cool', 'boucle')</span> renvoie <span style=\"font-family:Courier New;font-size: 100%;\">True</span> car toutes les lettres du <span style=\"font-family:Courier New;font-size: 100%;\">mot_1 : 'cool'</span> sont dans <span style=\"font-family:Courier New;font-size: 100%;\">mot_2 : 'boucle'</span><br>\n"
   ]
  },
  {
   "cell_type": "code",
   "execution_count": null,
   "metadata": {},
   "outputs": [],
   "source": [
    "# code de l'exercice 10"
   ]
  },
  {
   "cell_type": "code",
   "execution_count": null,
   "metadata": {},
   "outputs": [],
   "source": [
    "solution.contient()"
   ]
  },
  {
   "cell_type": "markdown",
   "metadata": {},
   "source": [
    "<u style=\"color:blue;\">Exercice 11 :</u><br>\n",
    "La chaine <span style=\"font-family:Courier New;font-size: 100%;\">'\\n'</span> permet d'effectuer un retour à la ligne.<br>\n",
    "Ecrire une fonction <span style=\"font-family:Courier New;font-size: 100%;\">triangle(n)</span> qui renvoie la chaine, dont l'affichage donne le triangle ci-dessous de hauteur <span style=\"font-family:Courier New;font-size: 100%;\">n</span> :<br>\n",
    "![alt text](mes_images/triangles.png \"triangles dont la hauteur est de n\")<br>\n"
   ]
  },
  {
   "cell_type": "code",
   "execution_count": null,
   "metadata": {},
   "outputs": [],
   "source": [
    "# code de l'exercice 11"
   ]
  },
  {
   "cell_type": "code",
   "execution_count": null,
   "metadata": {},
   "outputs": [],
   "source": [
    "solution.triangle()"
   ]
  }
 ],
 "metadata": {},
 "nbformat": 4,
 "nbformat_minor": 4
}
