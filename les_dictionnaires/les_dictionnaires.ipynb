{
 "cells": [
  {
   "cell_type": "code",
   "execution_count": null,
   "metadata": {},
   "outputs": [],
   "source": [
    "from outils import* # Lancer la cellule pour importer les outils nécessaires au notebook."
   ]
  },
  {
   "cell_type": "markdown",
   "metadata": {},
   "source": [
    "# <div style=\"text-align:center;\"><span style=\"border: 2px solid;padding:6px;color:dodgerblue;\">LES DICTIONNAIRES</span></div> #\n",
    "\n",
    "### <u style=\"color:green;\">1. Problématique :</u> ###\n",
    "Dans le chapitre qui précédait, nous avions modélisé un pokemon à l'aide d'une <strong>liste</strong> :<br>\n",
    "<span style=\"font-family:Courier New;font-size: 100%;\">dracofeu = ['Dracaufeu', 12, 17, 13]</span><br>\n",
    "![alt text](mes_images/dracofeu.png)<br>\n",
    "● Avec le <span style=\"font-family:Courier New;font-size: 100%;\">tuple</span> (ou <span style=\"font-family:Courier New;font-size: 100%;\">n-uplets</span> en français), nous avons découvert une autre structure de données susceptible de modéliser un pokemon :<br>\n",
    "<span style=\"font-family:Courier New;font-size: 100%;\">dracofeu = ('Dracaufeu', 12, 17, 13)</span><br>\n"
   ]
  },
  {
   "cell_type": "code",
   "execution_count": null,
   "metadata": {},
   "outputs": [],
   "source": [
    "qcm.proprietes()"
   ]
  },
  {
   "cell_type": "markdown",
   "metadata": {},
   "source": [
    "● Imaginons à présent que certaines cartes soient des modèles collector. Y figurent alors :<br>\n",
    "&nbsp;&nbsp;&nbsp;&nbsp;&nbsp;&nbsp;&nbsp;&nbsp;→ le nom, les points d'énergie, d'attaque et de défense mais également :<br>\n",
    "&nbsp;&nbsp;&nbsp;&nbsp;&nbsp;&nbsp;&nbsp;&nbsp;→ son année, son mois et son jour d'édition, ainsi qu'un numéro d'exemplaire.<br>\n",
    "<br>\n",
    "Une carte pokemon devient alors une liste de 8 élements :<br>\n",
    "<span style=\"font-family:Courier New;font-size: 100%;\">dracofeu = ['Dracaufeu', 12, 17, 13, 1997, 12, 23, 8347]</span><br>\n"
   ]
  },
  {
   "cell_type": "code",
   "execution_count": null,
   "metadata": {},
   "outputs": [],
   "source": [
    "question.annee()"
   ]
  },
  {
   "cell_type": "markdown",
   "metadata": {},
   "source": [
    "● La structure de liste n'est pas idéale pour modéliser un pokemon.<br>\n",
    "Il faut connaître l'ordre des valeurs. Il est de plus compliqué de rajouter des données. Etc.<br>\n",
    "\n",
    "### <u style=\"color:green;\">2. Création d'un dictionnaire :</u> ###\n",
    "Le <strong>dictionnaire</strong> (<span style=\"font-family:Courier New;font-size: 100%;\">class dict</span>) est une structure très pratique pour <strong>décrire, stocker, accéder et compléter des données</strong>.<br>\n",
    "Ecrire :<br>\n",
    "<span style=\"font-family:Courier New;font-size: 100%;\">dracofeu = {'nom':'Dracaufeu','energie':12, 'attaque':17, 'defense':13}</span><br>\n",
    "<br>\n",
    "permet de définir un <strong>dictionnaire</strong> qui possède quatre <strong>clés</strong> (de type <span style=\"font-family:Courier New;font-size: 100%;\">string</span>) :<br>\n",
    "&nbsp;&nbsp;&nbsp;&nbsp;&nbsp;&nbsp;&nbsp;&nbsp;→ <span style=\"font-family:Courier New;font-size: 100%;\">'nom'</span><br>\n",
    "&nbsp;&nbsp;&nbsp;&nbsp;&nbsp;&nbsp;&nbsp;&nbsp;→ <span style=\"font-family:Courier New;font-size: 100%;\">'energie'</span><br>\n",
    "&nbsp;&nbsp;&nbsp;&nbsp;&nbsp;&nbsp;&nbsp;&nbsp;→ <span style=\"font-family:Courier New;font-size: 100%;\">'attaque'</span><br>\n",
    "&nbsp;&nbsp;&nbsp;&nbsp;&nbsp;&nbsp;&nbsp;&nbsp;→ <span style=\"font-family:Courier New;font-size: 100%;\">'defense'</span><br>\n",
    "<br>\n",
    "Et quatre <strong>valeurs</strong> <u>associées</u> à ces clés :<br>\n",
    "&nbsp;&nbsp;&nbsp;&nbsp;&nbsp;&nbsp;&nbsp;&nbsp;→ <span style=\"font-family:Courier New;font-size: 100%;\">'Dracofeu'</span><br>\n",
    "&nbsp;&nbsp;&nbsp;&nbsp;&nbsp;&nbsp;&nbsp;&nbsp;→ <span style=\"font-family:Courier New;font-size: 100%;\">12</span><br>\n",
    "&nbsp;&nbsp;&nbsp;&nbsp;&nbsp;&nbsp;&nbsp;&nbsp;→ <span style=\"font-family:Courier New;font-size: 100%;\">17</span><br>\n",
    "&nbsp;&nbsp;&nbsp;&nbsp;&nbsp;&nbsp;&nbsp;&nbsp;→ <span style=\"font-family:Courier New;font-size: 100%;\">13</span><br>\n"
   ]
  },
  {
   "cell_type": "code",
   "execution_count": null,
   "metadata": {},
   "outputs": [],
   "source": [
    "dracofeu = {'nom':'Dracaufeu', 'energie':12, 'attaque':17, 'defense':13}\n",
    "print(type(dracofeu))"
   ]
  },
  {
   "cell_type": "markdown",
   "metadata": {},
   "source": [
    "● Pour accéder à la valeur associée à la clé <span style=\"font-family:Courier New;font-size: 100%;\">'energie'</span>, on écrit :<br>\n",
    "<span style=\"font-family:Courier New;font-size: 100%;\">dracofeu['energie']</span><br>\n",
    "<br><span style=\"border: 2px solid;padding:6px;\">Dans un dictionnaire, la notion d'ordre disparaît.</span><br>\n",
    "<br>Les valeurs ne sont plus indexées par leur position, mais simplement <strong>associées à des clés</strong>.<br>\n",
    "<br>\n",
    "● Le dictionnaire est une structure de données <strong>mutable</strong>.<br>\n",
    "Faire passer les points d'énergie de <span style=\"font-family:Courier New;font-size: 100%;\">dracofeu</span> à <span style=\"font-family:Courier New;font-size: 100%;\">14</span> :<br>\n"
   ]
  },
  {
   "cell_type": "code",
   "execution_count": null,
   "metadata": {},
   "outputs": [],
   "source": [
    "# à compléter"
   ]
  },
  {
   "cell_type": "markdown",
   "metadata": {},
   "source": [
    "● On peut également <u>rajouter une nouvelle paire clé/valeur</u> à un dictionnaire.<br>\n",
    "Ajoutons l'année d'édition de la carte du pokemon <span style=\"font-family:Courier New;font-size: 100%;\">dracofeu</span> :<br>\n"
   ]
  },
  {
   "cell_type": "code",
   "execution_count": null,
   "metadata": {},
   "outputs": [],
   "source": [
    "dracofeu['annee'] = 1997\n",
    "print(dracofeu)"
   ]
  },
  {
   "cell_type": "markdown",
   "metadata": {},
   "source": [
    "● On peut partir d'un dictionnaire <strong>vide</strong>, puis rajouter les clés/valeurs au fur et à mesure :<br>\n"
   ]
  },
  {
   "cell_type": "code",
   "execution_count": null,
   "metadata": {},
   "outputs": [],
   "source": [
    "flamiaou = {} #on crée un dictionnaire vide\n",
    "flamiaou['nom']='Flamiaou'\n",
    "flamiaou['energie'] = 20\n",
    "flamiaou['attaque'] = 9\n",
    "flamiaou['defense'] = 14\n",
    "\n",
    "print(flamiaou)"
   ]
  },
  {
   "cell_type": "markdown",
   "metadata": {},
   "source": [
    "#### <u style=\"color:blue;\">b. Obtenir les clés et valeurs d'un dictionnaire :</u> ####\n",
    "On peut connaître l'ensemble des clés et des valeurs d'un dictionnaire grâce aux méthodes <span style=\"font-family:Courier New;font-size: 100%;\">keys()</span> et <span style=\"font-family:Courier New;font-size: 100%;\">values()</span> :<br>\n"
   ]
  },
  {
   "cell_type": "code",
   "execution_count": null,
   "metadata": {},
   "outputs": [],
   "source": [
    "dracofeu = {'nom':'Dracaufeu', 'energie':12, 'attaque':17, 'defense':13}\n",
    "print(\"Voici les clés du dictionnaire dracofeu:\")\n",
    "print(dracofeu.keys())\n",
    "\n",
    "print(\"\\nVoici les valeurs du dictionnaire dracofeu:\") # \\n uniquement là pour le retour chariot\n",
    "print(dracofeu.values())"
   ]
  },
  {
   "cell_type": "markdown",
   "metadata": {},
   "source": [
    "● On peut également accéder aux paires clé/valeurs à l'aide de la méthode <span style=\"font-family:Courier New;font-size: 100%;\">items()</span> :<br>\n"
   ]
  },
  {
   "cell_type": "code",
   "execution_count": null,
   "metadata": {},
   "outputs": [],
   "source": [
    "print(\"Voici les paires clés/valeurs du dictionnaire dracofeu:\")\n",
    "print(dracofeu.items())"
   ]
  },
  {
   "cell_type": "markdown",
   "metadata": {},
   "source": [
    "#### <u style=\"color:blue;\">c. Existence d'une clé dans un dictionnaire :</u> ####\n",
    "Elle se fait à l'aide de  l'instruction <span style=\"font-family:Courier New;font-size: 100%;\">in</span> :<br>\n",
    "Vérifions si le dictionnaire <span style=\"font-family:Courier New;font-size: 100%;\">flamiaou</span> dispose d'une clé <span style=\"font-family:Courier New;font-size: 100%;\">'energie'</span> :<br>\n"
   ]
  },
  {
   "cell_type": "code",
   "execution_count": null,
   "metadata": {},
   "outputs": [],
   "source": [
    "'energie' in flamiaou.keys()"
   ]
  },
  {
   "cell_type": "markdown",
   "metadata": {},
   "source": [
    "#### <u style=\"color:blue;\">d. Suppression d'une paire clé/valeur :</u> ####\n",
    "Elle se fait à l'aide de la fonction <span style=\"font-family:Courier New;font-size: 100%;\">del</span> (delete= effacer en anglais)<br>\n",
    "On supprime la clé <span style=\"font-family:Courier New;font-size: 100%;\">'energie'</span> du dictionnaire <span style=\"font-family:Courier New;font-size: 100%;\">flamiaou</span> :<br>\n"
   ]
  },
  {
   "cell_type": "code",
   "execution_count": null,
   "metadata": {},
   "outputs": [],
   "source": [
    "del flamiaou['energie'] \n",
    "print(flamiaou)"
   ]
  },
  {
   "cell_type": "markdown",
   "metadata": {},
   "source": [
    "### <u style=\"color:green;\">3. Parcourir un dictionnaire :</u> ###\n",
    "Le dictionnaire est une structure de données <strong>itérable</strong>.<br>\n",
    "On peut boucler pour parcourir ses éléments de deux façons.<br>\n",
    "● <u>En bouclant sur ses clés :</u><br>\n"
   ]
  },
  {
   "cell_type": "code",
   "execution_count": null,
   "metadata": {},
   "outputs": [],
   "source": [
    "for cle in dracofeu.keys():\n",
    "    print(\"la valeur associée à la clé\", cle, \"est\", dracofeu[cle])"
   ]
  },
  {
   "cell_type": "markdown",
   "metadata": {},
   "source": [
    "● <u>Ou en bouclant sur les paires clés/valeurs:</u><br>\n"
   ]
  },
  {
   "cell_type": "code",
   "execution_count": null,
   "metadata": {},
   "outputs": [],
   "source": [
    "for cle, valeur in dracofeu.items():\n",
    "    print(\"la valeur associée à la clé\", cle, \"est\", valeur)"
   ]
  },
  {
   "cell_type": "markdown",
   "metadata": {},
   "source": [
    "### <u style=\"color:green;\">4. Type de clés pour un dictionnaire :</u> ###\n",
    "Les clés d'un dictionnaire doivent être <strong>immuables</strong>.<br>\n",
    "Elles peuvent donc être de type <span style=\"font-family:Courier New;font-size: 100%;\">string</span>.<br>\n",
    "Mais en choisissant comme clés des <span style=\"font-family:Courier New;font-size: 100%;\">tuple</span>, on obtient une autre modélisation possible d'un <span style=\"font-family:Courier New;font-size: 100%;\">plateau</span> vide de morpion, sous la forme d'un dictionnaire :<br>\n"
   ]
  },
  {
   "cell_type": "code",
   "execution_count": null,
   "metadata": {},
   "outputs": [],
   "source": [
    "plateau={(0,0):0, (1,0):0, (2,0):0, \n",
    "         (1,0):0, (1,1):0, (1,2):0,\n",
    "         (2,0):0, (2,1):0, (2,2):0}"
   ]
  },
  {
   "cell_type": "markdown",
   "metadata": {},
   "source": [
    "● Le joueur 1 décide de commencer en <span style=\"font-family:Courier New;font-size: 100%;\">(2,1)</span>. Modifier le dictionnaire <span style=\"font-family:Courier New;font-size: 100%;\">plateau</span> en conséquence :<br>\n"
   ]
  },
  {
   "cell_type": "code",
   "execution_count": null,
   "metadata": {},
   "outputs": [],
   "source": [
    "# à compléter\n",
    "print(plateau)"
   ]
  },
  {
   "cell_type": "markdown",
   "metadata": {},
   "source": [
    "<u style=\"color:blue;\"><strong>Exercice 1:</strong></u><br>\n",
    "Voici une liste footballers, dans laquelle chaque footballer est représenté par un <strong>dictionnaire</strong> de clés :<br>\n",
    "<span style=\"font-family:Courier New;font-size: 100%;\">'nom'</span> : son nom de famille<br>\n",
    "<span style=\"font-family:Courier New;font-size: 100%;\">'prenom'</span> : son prenom<br>\n",
    "<span style=\"font-family:Courier New;font-size: 100%;\">'annee'</span> : son année de naissance<br>\n",
    "<span style=\"font-family:Courier New;font-size: 100%;\">'mois'</span> : son mois de naissance<br>\n",
    "<span style=\"font-family:Courier New;font-size: 100%;\">'jour'</span> : son jour de naissance<br>\n"
   ]
  },
  {
   "cell_type": "code",
   "execution_count": null,
   "metadata": {},
   "outputs": [],
   "source": [
    "footballers=[\n",
    "               {'nom':'Messi','prenom':'Leo','annee':1987,'mois':6,'jour':24},\n",
    "               {'nom':'Ronaldo','prenom':'Christian','annee':1985,'mois':2,'jour':5},\n",
    "               {'nom':'Dembele','prenom':'Ousmane','annee':1997,'mois':5,'jour':15},\n",
    "               {'nom':'Icardi','prenom':'Mauro','annee':1993,'mois':2,'jour':19},\n",
    "               {'nom':'Navas','prenom':'Keylor','annee':1986,'mois':12,'jour':15},\n",
    "               {'nom':'Benzema','prenom':'Karim','annee':1987,'mois':12,'jour':19},\n",
    "               {'nom':'Van Dijk','prenom':'Virgil','annee':1991,'mois':7,'jour':8},\n",
    "               {'nom':'Salah','prenom':'Mohamed','annee':1992,'mois':6,'jour':15},\n",
    "               {'nom':'Suarez','prenom':'Luis','annee':1987,'mois':1,'jour':24},\n",
    "               {'nom':'Pogba','prenom':'Paul','annee':1993,'mois':3,'jour':15}\n",
    "             ]"
   ]
  },
  {
   "cell_type": "markdown",
   "metadata": {},
   "source": [
    "1) A l'aide d'une compréhension de liste, comment obtenir la liste <span style=\"font-family:Courier New;font-size: 100%;\">jours</span> des jours de naissances de ces footballeurs?<br>\n"
   ]
  },
  {
   "cell_type": "code",
   "execution_count": null,
   "metadata": {},
   "outputs": [],
   "source": [
    "# à compléter"
   ]
  },
  {
   "cell_type": "code",
   "execution_count": null,
   "metadata": {},
   "outputs": [],
   "source": [
    "solution.jours()"
   ]
  },
  {
   "cell_type": "markdown",
   "metadata": {},
   "source": [
    "2) A l'aide d'une compréhension de liste, comment obtenir la liste <span style=\"font-family:Courier New;font-size: 100%;\">jeunes</span> des footballeurs nés au cours de l'année <span style=\"font-family:Courier New;font-size: 100%;\">1993</span> ou après?<br>\n"
   ]
  },
  {
   "cell_type": "code",
   "execution_count": null,
   "metadata": {},
   "outputs": [],
   "source": [
    "# à compléter"
   ]
  },
  {
   "cell_type": "code",
   "execution_count": null,
   "metadata": {},
   "outputs": [],
   "source": [
    "solution.jeunes()"
   ]
  },
  {
   "cell_type": "markdown",
   "metadata": {},
   "source": [
    "3) Ecrire une série d'instructions permettant de déterminer le nombre de joueurs nés au mois de décembre :<br>\n"
   ]
  },
  {
   "cell_type": "code",
   "execution_count": null,
   "metadata": {},
   "outputs": [],
   "source": [
    "# à compléter"
   ]
  },
  {
   "cell_type": "code",
   "execution_count": null,
   "metadata": {},
   "outputs": [],
   "source": [
    "solution.decembre()"
   ]
  },
  {
   "cell_type": "markdown",
   "metadata": {},
   "source": [
    "4) Ecrire une série d'instructions permettant  de déterminer le prénom du joueur qui s'écrit avec le plus de lettres :<br>\n"
   ]
  },
  {
   "cell_type": "code",
   "execution_count": null,
   "metadata": {},
   "outputs": [],
   "source": [
    "# à compléter"
   ]
  },
  {
   "cell_type": "code",
   "execution_count": null,
   "metadata": {},
   "outputs": [],
   "source": [
    "solution.prenom()"
   ]
  },
  {
   "cell_type": "markdown",
   "metadata": {},
   "source": [
    "5) Ecrire une série d'instructions permettant d'obtenir un dictionnaire <span style=\"font-family:Courier New;font-size: 100%;\">mois</span> de clés :<br>\n",
    "&nbsp;&nbsp;&nbsp;&nbsp;&nbsp;&nbsp;&nbsp;&nbsp;→ les mois de naissances<br>\n",
    "&nbsp;&nbsp;&nbsp;&nbsp;&nbsp;&nbsp;&nbsp;&nbsp;→ et de valeur le nombre de joueurs nés le mois associé<br>\n"
   ]
  },
  {
   "cell_type": "code",
   "execution_count": null,
   "metadata": {},
   "outputs": [],
   "source": [
    "# à commpléter"
   ]
  },
  {
   "cell_type": "code",
   "execution_count": null,
   "metadata": {},
   "outputs": [],
   "source": [
    "solution.mois()"
   ]
  },
  {
   "cell_type": "markdown",
   "metadata": {},
   "source": [
    "<u style=\"color:blue;\"><strong>Exercice 2:</strong></u><br>\n",
    "Ecrire une fonction <span style=\"font-family:Courier New;font-size: 100%;\">occurrences(mon_texte)</span> :<br>\n",
    "&nbsp;&nbsp;&nbsp;&nbsp;&nbsp;&nbsp;&nbsp;&nbsp;• où <span style=\"font-family:Courier New;font-size: 100%;\">mon_texte</span> est de type <span style=\"font-family:Courier New;font-size: 100%;\">string</span><br>\n",
    "&nbsp;&nbsp;&nbsp;&nbsp;&nbsp;&nbsp;&nbsp;&nbsp;• et qui renvoie un dictionnaire :<br>\n",
    "&nbsp;&nbsp;&nbsp;&nbsp;&nbsp;&nbsp;&nbsp;&nbsp;&nbsp;&nbsp;&nbsp;&nbsp;&nbsp;&nbsp;→ dont les clés sont chaque caractère rencontré dans <span style=\"font-family:Courier New;font-size: 100%;\">mon_texte</span><br>\n",
    "&nbsp;&nbsp;&nbsp;&nbsp;&nbsp;&nbsp;&nbsp;&nbsp;&nbsp;&nbsp;&nbsp;&nbsp;&nbsp;&nbsp;→ et les valeurs le nombre de fois où ce caractère a été rencontré dans <span style=\"font-family:Courier New;font-size: 100%;\">mon_texte</span><br>\n",
    "<br>\n",
    "<span style=\"font-family:Courier New;font-size: 100%;\">occurrences('abracadabra')</span> doit par exemple renvoyer <span style=\"font-family:Courier New;font-size: 100%;\">{'a':5, 'b':2, 'c':1, 'r':2, 'd':1}</span><br>\n"
   ]
  },
  {
   "cell_type": "code",
   "execution_count": null,
   "metadata": {},
   "outputs": [],
   "source": [
    "# à compléter"
   ]
  },
  {
   "cell_type": "code",
   "execution_count": null,
   "metadata": {},
   "outputs": [],
   "source": [
    "solution.occurrences()"
   ]
  },
  {
   "cell_type": "markdown",
   "metadata": {},
   "source": [
    "<u style=\"color:blue;\"><strong>Exercice 3:</strong></u><br>\n",
    "On donne le jeu de pokemon du précédent chapitre, où chaque pokemon est modélisé par une liste :<br>\n"
   ]
  },
  {
   "cell_type": "code",
   "execution_count": null,
   "metadata": {},
   "outputs": [],
   "source": [
    "cartes = [['Dracaufeu', 12, 17, 13], # nom, énergie, attaque, défense\n",
    "          ['Brindibou', 18,  8, 14],    \n",
    "          ['Effleche' ,  8, 19, 8],\n",
    "          ['Flamiaou' , 14,  9, 18],\n",
    "          ['Archeduc' , 10, 13, 8]]"
   ]
  },
  {
   "cell_type": "markdown",
   "metadata": {},
   "source": [
    "1) On souhaite créer la liste <span style=\"font-family:Courier New;font-size: 100%;\">jeu</span> qui contient les pokemons de <span style=\"font-family:Courier New;font-size: 100%;\">cartes</span>, mais modélisés cette fois ci par des <u>dictionnaires</u>.<br>\n",
    "En bouclant sur la liste <span style=\"font-family:Courier New;font-size: 100%;\">cartes</span>, complétez la liste <span style=\"font-family:Courier New;font-size: 100%;\">jeu</span> :<br>\n"
   ]
  },
  {
   "cell_type": "code",
   "execution_count": null,
   "metadata": {},
   "outputs": [],
   "source": [
    "jeu = []\n",
    "# à compléter"
   ]
  },
  {
   "cell_type": "code",
   "execution_count": null,
   "metadata": {},
   "outputs": [],
   "source": [
    "solution.exercice_3()"
   ]
  },
  {
   "cell_type": "markdown",
   "metadata": {},
   "source": [
    "2) A partir de la liste <span style=\"font-family:Courier New;font-size: 100%;\">jeu</span>, et en utilisant une compréhension de listes, obtenir la liste <span style=\"font-family:Courier New;font-size: 100%;\">attaque</span> composée des attaques de chaque pokemon :<br>\n"
   ]
  },
  {
   "cell_type": "code",
   "execution_count": null,
   "metadata": {},
   "outputs": [],
   "source": [
    "# à compléter"
   ]
  },
  {
   "cell_type": "code",
   "execution_count": null,
   "metadata": {},
   "outputs": [],
   "source": [
    "solution.attaques()"
   ]
  },
  {
   "cell_type": "markdown",
   "metadata": {},
   "source": [
    "<u style=\"color:blue;\"><strong>Exercice 4:</strong></u><span style=\"color:blue;\"> *combats entre pokemons*...</span><br>\n",
    "![alt text](mes_images/combat.png)<br>\n",
    "Voici les règles du jeu pour organiser un combat :<br>\n",
    "Deux pokemons sont tirés au hasard dans <span style=\"font-family:Courier New;font-size: 100%;\">jeu</span> (obtenu à l'exercice 3).<br>\n",
    "<br>\n",
    "On jette ensuite un dé à 6 faces.<br>\n",
    "● Si le lancer est <strong>pair</strong>, le pokemon attaquant <u>le rajoute à ses points d'attaque</u>  et obtient un entier <span style=\"font-family:Courier New;font-size: 100%;\">assaut</span>.<br>\n",
    "● Si le lancer est <strong>impair</strong>, l'attaquant <u>le retire à ses points d'attaque</u> pour calculer <span style=\"font-family:Courier New;font-size: 100%;\">assaut</span>.<br>\n",
    "Puis :<br>\n",
    "→ si <span style=\"font-family:Courier New;font-size: 100%;\">assaut</span> est strictement supérieur aux points de défense du pokemon défenseur, on calcule les <span style=\"font-family:Courier New;font-size: 100%;\">dommages</span> infligés ainsi :<br>\n",
    "&nbsp;&nbsp;&nbsp;&nbsp;<span style=\"font-family:Courier New;font-size: 100%;\">dommages = assaut – points_de_defense</span> (du pokemon defenseur).<br>\n",
    "&nbsp;&nbsp;&nbsp;&nbsp;Ces <span style=\"font-family:Courier New;font-size: 100%;\">dommages</span> sont alors <strong>retirés</strong> aux points d'énergie du pokemon défenseur.<br>\n",
    "<br>\n",
    "→ si <span style=\"font-family:Courier New;font-size: 100%;\">assaut</span> est inférieur ou égal aux points de défense du pokemon défenseur, aucun point d'énergie ne lui est retiré. <br>\n",
    "<br>\n",
    "● Si le pokemon défenseur est encore vivant (c'est-à-dire s'il a encore des points d'énergie), les rôles sont ensuite inversés : <br>\n",
    "le pokemon attaquant devient défenseur et le pokemon defenseur devient attaquant.<br>\n",
    "<br>\n",
    "Le combat se poursuit jusqu'à ce qu'un des pokemon n'ait plus de points d'energie.<br>\n",
    "<br>\n",
    "<u>*Exemple de combat:*</u><br>\n",
    "![alt text](mes_images/vs.png)<br>\n",
    "● Dracofeu lance le dé. Il obtient 5.<br>\n",
    "C'est impair! Il perd 5 points d'attaque pour son assaut : <span style=\"font-family:Courier New;font-size: 100%;\">assaut = 17–5 = 12</span><br>\n",
    "<span style=\"font-family:Courier New;font-size: 100%;\">assaut</span> &le; <span style=\"font-family:Courier New;font-size: 100%;\">14</span> (points  de défense de Flamiaou) donc aucun dommage infligé.<br>\n",
    "<br>\n",
    "● Flamiaou est vivant, c'est à son tour d'attaquer!<br>\n",
    "Il lance le dé et obtient 6! <br>\n",
    "C'est pair, donc son assaut vaut <span style=\"font-family:Courier New;font-size: 100%;\">ses points d'attaque + 6</span> soit :<br>\n",
    "<span style=\"font-family:Courier New;font-size: 100%;\">assaut = 9 + 6 = 15</span><br>\n",
    "<span style=\"font-family:Courier New;font-size: 100%;\">15>13</span> (points de défense de Dracofeu). Il inflige donc <span style=\"font-family:Courier New;font-size: 100%;\">15 - 13 = 2</span> points de dommages.<br>\n",
    "<br>\n",
    "● L'énergie de Dracofeu passe à <span style=\"font-family:Courier New;font-size: 100%;\">10</span>. Dracofeu est encore vivant, donc le combat continue.<br>\n",
    "C'est à Dracofeu d'attaquer. Etc.<br>\n",
    "<br>\n",
    "Ecrire un programme qui déroule un combat entre deux pokemons, en affichant à chaque tour :<br>\n",
    "Le lancer de dé, la valeur de l'assaut, les dommages infligés et les points d'énergie de chaque pokemon.<br>\n",
    "Le programme devra afficher le pokemon vainqueur à l'issue du combat.<br>\n"
   ]
  },
  {
   "cell_type": "code",
   "execution_count": null,
   "metadata": {},
   "outputs": [],
   "source": [
    "# code correspondant au combat entre deux pokemons."
   ]
  }
 ],
 "metadata": {},
 "nbformat": 4,
 "nbformat_minor": 4
}
