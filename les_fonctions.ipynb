{
 "cells": [
  {
   "cell_type": "code",
   "execution_count": null,
   "metadata": {},
   "outputs": [],
   "source": [
    "from outils import* # Lancer la cellule pour importer les outils nécessaires au notebook."
   ]
  },
  {
   "cell_type": "markdown",
   "metadata": {},
   "source": [
    "# <div style=\"text-align:center;\"><span style=\"border: 2px solid;padding:6px;color:dodgerblue;\">Les fonctions en python</span></div> #\n",
    "\n",
    "### <u style=\"color:green;\">1. Philosophie des fonctions :</u> ###\n",
    "Lorsqu’on commence à développer de véritables projets, des problèmes complexes surgissent, et les lignes de programme vont commencer à s'accumuler...<br>\n",
    "L'approche efficace d'un problème complexe consiste souvent à le <strong>décomposer en plusieurs sous-problèmes plus simples</strong> qui seront étudiés séparément.<br>\n",
    "Ces sous-problèmes peuvent éventuellement être eux-mêmes décomposés à leur tour, et ainsi de suite.<br>\n",
    "Ce qui permet une répartition du travail en groupe.<br>\n",
    "<br>\n",
    "D'autre part, il arrivera souvent qu'une <strong>même séquence d'instructions</strong> doive être utilisée à plusieurs reprises dans un programme.<br>\n",
    "Et on souhaitera bien évidemment ne pas avoir à la reproduire systématiquement.<br>\n",
    "Les fonctions permettent de résoudre efficacement les difficultés évoquées ci-dessus.\n",
    "### <u style=\"color:green;\">2. Exemples et vocabulaire :</u> ###\n",
    "Nous avons déjà rencontré diverses fonctions <strong>pré-programmées</strong> comme la fonction <span style=\"font-family:Courier New;font-size: 100%;\">int(...)</span>.<br>\n",
    "La fonction <span style=\"font-family:Courier New;font-size: 100%;\">int(...)</span> :<br>\n",
    "→ prend en <strong>argument</strong> une <span style=\"font-family:Courier New;font-size: 100%;\">chaine</span>, ou un <span style=\"font-family:Courier New;font-size: 100%;\">flottant</span> <br>\n",
    "→ et <strong>renvoie</strong> une valeur de type <span style=\"font-family:Courier New;font-size: 100%;\">integer</span><br>\n"
   ]
  },
  {
   "cell_type": "code",
   "execution_count": null,
   "metadata": {},
   "outputs": [],
   "source": [
    "a = '12' # on définit une variable x contenant la chaine '12'\n",
    "b = int(a) # la chaine '12' est donné en argument à la fonction int(...) qui renvoie l'entier 12, qu'on affecte à b\n",
    "print(b, 'est de type', type(b))"
   ]
  },
  {
   "cell_type": "markdown",
   "metadata": {},
   "source": [
    "● Le fait qu’elle <strong>renvoie</strong> une valeur est <u><strong>essentiel</strong></u>. <br>\n",
    "<br><span style=\"border: 2px solid;padding:6px;\">Cela permet d’<strong>affecter</strong> la valeur renvoyée à une variable</span><br>\n",
    "<br>Ainsi, on peut écrire :<br>\n",
    "<span style=\"font-family:Courier New;font-size: 100%;\">b = int(a)</span> si l’on souhaite créer une nouvelle variable contenant l'entier correspondant.<br>\n",
    "ou encore :<br>\n",
    "<span style=\"font-family:Courier New;font-size: 100%;\">a = int(a)</span> si l’on souhaite « écraser <span style=\"font-family:Courier New;font-size: 100%;\">a</span> », c'est-à-dire remplacer l’ancienne valeur de <span style=\"font-family:Courier New;font-size: 100%;\">a</span> par la nouvelle.<br>\n",
    "Ce que nous avions fait avec l'utilisation de la fonction <span style=\"font-family:Courier New;font-size: 100%;\">input(...)</span> :<br>\n",
    "<span style=\"font-family:Courier New;font-size: 100%;\">age = input('entre ton age :')</span><br>\n",
    "<span style=\"font-family:Courier New;font-size: 100%;\">age = int(age)</span><br>\n",
    "<br>\n",
    "La fonction <span style=\"font-family:Courier New;font-size: 100%;\">input(...)</span> est d'ailleurs une autre fonction utilisée ici :<br>\n",
    "→ prend un argument *facultatif* : la chaine correspondant à la <u>légende</u> de la question.<br>\n",
    "→ Et elle <strong>renvoie</strong> la <u>valeur saisie</u>, qu'on affecte à une variable : <span style=\"font-family:Courier New;font-size: 100%;\">prenom = input(\"Entre ton prénom :\")</span><br>\n",
    "<br>\n",
    "Voyons à présent comment définir nous-mêmes de nouvelles fonctions...<br>\n",
    "\n",
    "### <u style=\"color:green;\">3. Définir une fonction :</u> ###\n",
    "Voici la syntaxe Python pour définir une fonction :<br>\n",
    "![alt text](mes_images/corps.png \"corps de la fonction\")<br>\n",
    "Le mot clef <span style=\"font-family:Courier New;font-size: 100%;\">return</span> signifie <strong>renvoyer</strong><br>\n",
    "<br>\n",
    "● Vous noterez l’<strong>indentation</strong> du corps de la fonction et la présence du <span style=\"font-family:Courier New;font-size: 100%;\">return</span>.<br>\n",
    "● le nom de la fonction obéit aux mêmes règles que le nom des variables.<br>\n",
    "On veillera à ne pas prendre de noms réservés comme <span style=\"font-family:Courier New;font-size: 100%;\">print, str, int</span> etc.<br>\n",
    "<br>\n",
    "*Exemple 1* :<br>\n",
    "● Définir ci-dessous une fonction nommée <span style=\"font-family:Courier New;font-size: 100%;\">somme</span>, qui renvoie la somme de deux nombres.<br>\n",
    "Cette fonction :<br>\n",
    "→ aura deux arguments, nommés <span style=\"font-family:Courier New;font-size: 100%;\">a</span> et <span style=\"font-family:Courier New;font-size: 100%;\">b</span> ici.<br>\n",
    "→ et va renvoyer le résultat (<span style=\"font-family:Courier New;font-size: 100%;\">return</span>) correspondant à la somme de ces deux nombres<br>\n"
   ]
  },
  {
   "cell_type": "code",
   "execution_count": null,
   "metadata": {},
   "outputs": [],
   "source": [
    "# définir la fonction somme :\n",
    "# à compléter"
   ]
  },
  {
   "cell_type": "code",
   "execution_count": null,
   "metadata": {},
   "outputs": [],
   "source": [
    "solution.somme()"
   ]
  },
  {
   "cell_type": "markdown",
   "metadata": {},
   "source": [
    "● Pour <strong>utiliser</strong> notre fonction, il suffit de <strong>l'appeler en lui donnant les arguments souhaités</strong> :<br>\n"
   ]
  },
  {
   "cell_type": "code",
   "execution_count": null,
   "metadata": {},
   "outputs": [],
   "source": [
    "# Appel de la fonction somme :\n",
    "s = somme(5, 9) # on en profite pour affecter le résultat renvoyé à s\n",
    "print(s) # affichage du résultat"
   ]
  },
  {
   "cell_type": "markdown",
   "metadata": {},
   "source": [
    "### <u style=\"color:green;\">4. Le rôle du <span style=\"font-family:Courier New;font-size: 100%;\">return</span> :</u> ###\n",
    "Le rôle du <span style=\"font-family:Courier New;font-size: 100%;\">return</span> est donc de <strong>renvoyer</strong> une valeur, de n'importe quet type.<br>\n",
    "L'exécution d'une fonction s'arrête <strong>dès que l'instruction <span style=\"font-family:Courier New;font-size: 100%;\">return</span> est effectuée</strong>. Elle a effectué son travail!<br>\n",
    "Toute instruction écrite dans le corps de la fonction, mais <strong>derrière</strong> le <span style=\"font-family:Courier New;font-size: 100%;\">return</span> est <strong>sans effet</strong>.<br>\n",
    "<br>\n",
    "*Exemple* :<br>\n",
    "<span style=\"font-family:Courier New;font-size: 100%;\">def ma_fonction(x):</span><br>\n",
    "&nbsp;&nbsp;&nbsp;&nbsp;&nbsp;&nbsp;&nbsp;&nbsp;<span style=\"font-family:Courier New;font-size: 100%;\"><span style=\"color:purple;\">'''fonction d'argument x entier qui renvoie un resultat'''</span></span><br>\n",
    "&nbsp;&nbsp;&nbsp;&nbsp;&nbsp;&nbsp;&nbsp;&nbsp;<span style=\"font-family:Courier New;font-size: 100%;\"><span style=\"color:red;\">instruction_1</span></span><br>\n",
    "&nbsp;&nbsp;&nbsp;&nbsp;&nbsp;&nbsp;&nbsp;&nbsp;<span style=\"font-family:Courier New;font-size: 100%;\"><span style=\"color:red;\">instruction_2</span></span><br>\n",
    "&nbsp;&nbsp;&nbsp;&nbsp;&nbsp;&nbsp;&nbsp;&nbsp;<span style=\"font-family:Courier New;font-size: 100%;\"><span style=\"color:green;\">return resultat # resultat pouvant être un entier, une chaine, un booléen , etc.</span></span><br>\n",
    "&nbsp;&nbsp;&nbsp;&nbsp;&nbsp;&nbsp;&nbsp;&nbsp;<span style=\"font-family:Courier New;font-size: 100%;\">instruction_3</span><br>\n",
    "<span style=\"font-family:Courier New;font-size: 100%;\">r = ma_fonction(5)</span><br>\n",
    "<span style=\"font-family:Courier New;font-size: 100%;\">instruction_4</span><br>\n"
   ]
  },
  {
   "cell_type": "code",
   "execution_count": null,
   "metadata": {},
   "outputs": [],
   "source": [
    "qcm.affectation()"
   ]
  },
  {
   "cell_type": "code",
   "execution_count": null,
   "metadata": {},
   "outputs": [],
   "source": [
    "qcm.instructions()"
   ]
  },
  {
   "cell_type": "markdown",
   "metadata": {},
   "source": [
    "### <u style=\"color:green;\">5. Exercices :</u> ###\n",
    "<u style=\"color:blue;\">Exercice 1 :</u><br>\n",
    "Lorsqu’on achète des écrans chez un grossiste, le prix à payer dépend du nombres d'écrans achetés :\n",
    "- si on achète 10 écrans ou moins, le prix est de 235€ par écran\n",
    "\n",
    "- si on achète plus de 10 écran, le prix est de 180€ par écran\n",
    "\n",
    "Ecrire une fonction <span style=\"font-family:Courier New;font-size: 100%;\">prix(nb_ecrans)</span> qui renvoie le prix à payer en fonction du nombre d'écrans achetés.<br>\n"
   ]
  },
  {
   "cell_type": "code",
   "execution_count": null,
   "metadata": {},
   "outputs": [],
   "source": [
    "# Ecrire le code de la fonction prix.\n",
    "# à compléter"
   ]
  },
  {
   "cell_type": "code",
   "execution_count": null,
   "metadata": {},
   "outputs": [],
   "source": [
    "solution.prix()"
   ]
  },
  {
   "cell_type": "markdown",
   "metadata": {},
   "source": [
    "<u style=\"color:blue;\">Exercice 2 :</u><br>\n",
    "Ecrire une fonction <span style=\"font-family:Courier New;font-size: 100%;\">maximum2(a, b)</span> :\n",
    "- qui a pour arguments deux entiers ou flottants <span style=\"font-family:Courier New;font-size: 100%;\">a</span> et <span style=\"font-family:Courier New;font-size: 100%;\">b</span>\n",
    "\n",
    "- et qui renvoie la valeur du plus grand.\n",
    "\n"
   ]
  },
  {
   "cell_type": "code",
   "execution_count": null,
   "metadata": {},
   "outputs": [],
   "source": [
    "# Ecrire le code de la fonction maximum2.\n",
    "# à compléter"
   ]
  },
  {
   "cell_type": "code",
   "execution_count": null,
   "metadata": {},
   "outputs": [],
   "source": [
    "solution.maximum2()"
   ]
  },
  {
   "cell_type": "markdown",
   "metadata": {},
   "source": [
    "<u style=\"color:blue;\">Exercice 3 :</u><br>\n",
    "Ecrire une fonction <span style=\"font-family:Courier New;font-size: 100%;\">maximum4(a, b, c, d)</span> :\n",
    "- qui a pour arguments quatre entiers ou flottants <span style=\"font-family:Courier New;font-size: 100%;\">a, b, c</span> et <span style=\"font-family:Courier New;font-size: 100%;\">d</span>\n",
    "\n",
    "- et qui renvoie la valeur du plus grand.\n",
    "\n"
   ]
  },
  {
   "cell_type": "code",
   "execution_count": null,
   "metadata": {},
   "outputs": [],
   "source": [
    "# Ecrire le code de la fonction maximum4.\n",
    "# à compléter"
   ]
  },
  {
   "cell_type": "code",
   "execution_count": null,
   "metadata": {},
   "outputs": [],
   "source": [
    "solution.maximum4()"
   ]
  },
  {
   "cell_type": "markdown",
   "metadata": {},
   "source": [
    "<u style=\"color:blue;\">Exercice 4 :</u> <br>\n",
    "Définir une fonction <span style=\"font-family:Courier New;font-size: 100%;\">permute(n)</span> :<br>\n",
    "→ qui prenne en argument un entier <span style=\"font-family:Courier New;font-size: 100%;\">n</span> <strong>à deux chiffres</strong> <br>\n",
    "→ et qui renvoie <strong>l’entier</strong> obtenu en permutant le chiffre des dizaines et celui des unités.<br>\n"
   ]
  },
  {
   "cell_type": "code",
   "execution_count": null,
   "metadata": {},
   "outputs": [],
   "source": [
    "# Ecrire le code de la fonction permute.\n",
    "# à compléter"
   ]
  },
  {
   "cell_type": "code",
   "execution_count": null,
   "metadata": {},
   "outputs": [],
   "source": [
    "solution.permute()"
   ]
  },
  {
   "cell_type": "markdown",
   "metadata": {},
   "source": [
    "<u style=\"color:blue;\">Exercice 5 :</u> <br>\n",
    "Définir une fonction <span style=\"font-family:Courier New;font-size: 100%;\">pair(x)</span> qui renvoie <span style=\"font-family:Courier New;font-size: 100%;\">True</span> si <span style=\"font-family:Courier New;font-size: 100%;\">x</span> est pair et False si <span style=\"font-family:Courier New;font-size: 100%;\">x</span> est impair.<br>\n"
   ]
  },
  {
   "cell_type": "code",
   "execution_count": null,
   "metadata": {},
   "outputs": [],
   "source": [
    "# Ecrire le code de la fonction pair.\n",
    "# à compléter"
   ]
  },
  {
   "cell_type": "code",
   "execution_count": null,
   "metadata": {},
   "outputs": [],
   "source": [
    "solution.est_pair()"
   ]
  },
  {
   "cell_type": "markdown",
   "metadata": {},
   "source": [
    "### <u style=\"color:green;\">6. Préconditons, postconditons et assertions :</u> ###\n",
    "#### <u style=\"color:blue;\">a. Précondition :</u> ####\n",
    "Reprenons l'exemple de la fonction <span style=\"font-family:Courier New;font-size: 100%;\">prix(nb_ecrans)</span>.<br>\n",
    "Il est nécessaire que la variable <span style=\"font-family:Courier New;font-size: 100%;\">nb_ecrans</span> soit nombre <strong>entier</strong>!<br>\n",
    "On dit qu'il s'agit d'une <strong>précondition</strong>. C'est à dire d'une <u>condition nécessaire <strong>pré</strong>alable</u> à l'exécution de la fonction <span style=\"font-family:Courier New;font-size: 100%;\">prix</span>.<br>\n",
    "Dans le cas contraire, on renvoie un message d'erreur rappellant cette précondition.<br>\n",
    "<br>\n",
    "En python, on utilise les <strong>assertions</strong> pour traduire des préconditions.<br>\n",
    "Une précondition se place juste <strong>après la docstring</strong> et <strong>avant le code</strong> de la fonction proprement dit :<br>\n",
    "<br>\n",
    "<span style=\"color:red;\"><span style=\"font-family:Courier New;font-size: 100%;\">assert ce_que_veux, mon_message_d_erreur</span></span><br>\n",
    "<br>\n",
    "→ <span style=\"font-family:Courier New;font-size: 100%;\">ce_que_je_veux</span> est un <strong>booléen</strong><br>\n",
    "→ <span style=\"font-family:Courier New;font-size: 100%;\">mon_message_d_erreur</span> une <strong>chaine</strong>.<br>\n",
    "<br>\n",
    "Si <span style=\"font-family:Courier New;font-size: 100%;\">ce_que_je_veux</span> vaut <span style=\"font-family:Courier New;font-size: 100%;\">True</span>, l'exécution se poursuit.<br>\n",
    "Si <span style=\"font-family:Courier New;font-size: 100%;\">ce_que_je_veux</span> vaut <span style=\"font-family:Courier New;font-size: 100%;\">False</span>, <span style=\"font-family:Courier New;font-size: 100%;\">mon_message_d_erreur</span> apparait et l'exécution s'arrête.<br>\n",
    "<br>\n",
    "*Exemple :*<br>\n",
    "<span style=\"font-family:Courier New;font-size: 100%;\">def prix(nb_ecrans):</span><br>\n",
    "&nbsp;&nbsp;&nbsp;&nbsp;&nbsp;&nbsp;&nbsp;&nbsp;<span style=\"font-family:Courier New;font-size: 100%;\">'''renvoie le prix à payer en fonction du nombre d'écrans achetés'''</span><br>\n",
    "&nbsp;&nbsp;&nbsp;&nbsp;&nbsp;&nbsp;&nbsp;&nbsp;<span style=\"color:red;\"><span style=\"font-family:Courier New;font-size: 100%;\">assert type(nb_ecrans) == int, \"nb_ecrans doit être entier!\" # une précondition</span></span><br>\n",
    "&nbsp;&nbsp;&nbsp;&nbsp;&nbsp;&nbsp;&nbsp;&nbsp;<span style=\"font-family:Courier New;font-size: 100%;\"># suite du code</span><br>\n",
    "\n",
    "#### <u style=\"color:blue;\">b. Postcondition :</u> ####\n",
    "Les assertions peuvent également servir à vérifier qu'une fonction <strong>renvoie bien le résultat attendu</strong>.<br>\n",
    "On parle alors de <strong>postcondition</strong>.<br>\n",
    "Par exemple, pour 5 écrans achetés, <span style=\"font-family:Courier New;font-size: 100%;\">prix(5)</span> doit renvoyer <span style=\"font-family:Courier New;font-size: 100%;\">5</span>$\\times$<span style=\"font-family:Courier New;font-size: 100%;\">235=1175</span>.<br>\n",
    "Et pour 12 écrans achetés, <span style=\"font-family:Courier New;font-size: 100%;\">prix(12)</span> doit renvoyer <span style=\"font-family:Courier New;font-size: 100%;\">12</span>$\\times$<span style=\"font-family:Courier New;font-size: 100%;\">180=2160</span>.<br>\n",
    "On peut donc rajouter 2 assertions traduisant ces postconditions :<br>\n",
    "<br>\n",
    "<span style=\"font-family:Courier New;font-size: 100%;\">def prix(nb_ecrans):</span><br>\n",
    "&nbsp;&nbsp;&nbsp;&nbsp;&nbsp;&nbsp;&nbsp;&nbsp;<span style=\"font-family:Courier New;font-size: 100%;\">'''renvoie le prix à payer en fonction du nombre d'écrans achetés'''</span><br>\n",
    "&nbsp;&nbsp;&nbsp;&nbsp;&nbsp;&nbsp;&nbsp;&nbsp;<span style=\"color:red;\"><span style=\"font-family:Courier New;font-size: 100%;\">assert type(nb_ecrans) == int, \"nb_ecrans doit être entier!\" # une précondition</span></span><br>\n",
    "&nbsp;&nbsp;&nbsp;&nbsp;&nbsp;&nbsp;&nbsp;&nbsp;<span style=\"font-family:Courier New;font-size: 100%;\"># suite du code</span><br>\n",
    "<br>\n",
    "<span style=\"color:red;\"><span style=\"font-family:Courier New;font-size: 100%;\">assert prix(5) == 1175, \"erreur pour le prix de 5 écrans\" # première postcondition</span></span><br>\n",
    "<span style=\"color:red;\"><span style=\"font-family:Courier New;font-size: 100%;\">assert prix(12) == 2160, \"erreur pour le prix de 12 écrans\" # deuxième postcondition</span></span><br>\n",
    "<br>\n",
    "<u>En cas d'erreur</u>, un des messages s'affiche.<br>\n",
    "<br>\n",
    "<u><strong>APPLICATION :</strong></u><br>\n",
    "<u style=\"color:blue;\">Exercice 6 :</u> <br>\n",
    "Une année est <strong>bissextile</strong> lorsqu'elle est multiple de 4, sauf si elle est multiple de 100, à moins d'être multiple de 2000!<br>\n",
    "Ecrire une fonction <span style=\"font-family:Courier New;font-size: 100%;\">bissextile(annee)</span> qui renvoie <span style=\"font-family:Courier New;font-size: 100%;\">True</span> si l'année est bissextile et <span style=\"font-family:Courier New;font-size: 100%;\">False</span> sinon.<br>\n",
    "Vous rajouterez dans votre code :<br>\n",
    "→ une précondition année entière <strong>et</strong> supérieure ou égale à <span style=\"font-family:Courier New;font-size: 100%;\">1583</span>, car le calendrier grégorien commença le <span style=\"font-family:Courier New;font-size: 100%;\">15/10/1582</span><br>\n",
    "→ les postconditions : <span style=\"font-family:Courier New;font-size: 100%;\">2003</span> non bissextile, <span style=\"font-family:Courier New;font-size: 100%;\">1800</span> non bissextile, <span style=\"font-family:Courier New;font-size: 100%;\">2000</span> bissextile, <span style=\"font-family:Courier New;font-size: 100%;\">2004</span> bissextile<br>\n"
   ]
  },
  {
   "cell_type": "code",
   "execution_count": null,
   "metadata": {},
   "outputs": [],
   "source": [
    "# Ecrire le code de la fonction bissextile avec précondition et postcondition\n",
    "# à compléter"
   ]
  },
  {
   "cell_type": "code",
   "execution_count": null,
   "metadata": {},
   "outputs": [],
   "source": [
    "solution.bissextile()"
   ]
  },
  {
   "cell_type": "markdown",
   "metadata": {},
   "source": [
    "<u style=\"color:blue;\">Exercice 7 :</u> <br>\n",
    "Pour un oral de langue, on fait passer prioritairement les élèves majeurs et dont la première lettre du nom est entre <span style=\"font-family:Courier New;font-size: 100%;\">\"A\"</span> et <span style=\"font-family:Courier New;font-size: 100%;\">\"F\"</span>.<br>\n",
    "Ecrire une fonction prioritaire qui renvoie <span style=\"font-family:Courier New;font-size: 100%;\">True</span> ou <span style=\"font-family:Courier New;font-size: 100%;\">False</span> selon le fait que l'élève est ou non prioritaire.<br>\n",
    "Vous rajouterez dans votre code :<br>\n",
    "→ deux préconditions<br>\n",
    "→ 3 postconditions de votre choix<br>\n"
   ]
  },
  {
   "cell_type": "code",
   "execution_count": null,
   "metadata": {},
   "outputs": [],
   "source": [
    "# Ecrire le code de la fonction prioritaire avec précondition et postcondition\n",
    "# à compléter"
   ]
  },
  {
   "cell_type": "code",
   "execution_count": null,
   "metadata": {},
   "outputs": [],
   "source": [
    "solution.oral()"
   ]
  },
  {
   "cell_type": "markdown",
   "metadata": {},
   "source": [
    "### <u style=\"color:green;\">7. Portée des variables :</u> ###\n",
    "#### <u style=\"color:blue;\">a. Variables locales :</u> ####\n",
    "Les variables définies <strong>dans le corps d'une fonction</strong> sont appelées variables <strong>locales</strong>.<br>\n",
    "Elles ne peuvent être utilisées que <strong>localement</strong>, c'est à dire <strong>à l'intérieur de la fonction qui les définit</strong>.<br>\n",
    "<br>\n",
    "● Observez ce qui se produit si on essaie d'appeler une variable locale à l'extérieur d'une fonction :<br>\n"
   ]
  },
  {
   "cell_type": "code",
   "execution_count": null,
   "metadata": {},
   "outputs": [],
   "source": [
    "# Tentative d'appel d'une variable locale depuis l'extérieur du corps de la fonction\n",
    "def ma_fonction():\n",
    "    ma_variable_locale = 10 # on définit une variable locale\n",
    "    return 1 # on renvoie toujours 1.\n",
    "\n",
    "a = ma_fonction()\n",
    "print(\"sans surprise, a vaut :\", a) \n",
    "print(\"alors que ma_variable_locale vaut\", ma_variable_locale)"
   ]
  },
  {
   "cell_type": "markdown",
   "metadata": {},
   "source": [
    "● Ceci est dû au fait qu'à chaque fois qu'une fonction est appelée, python réserve pour elle un espace mémoire (appelé <strong>espace de noms</strong>) dans lequel sont contenues ces variables locales.<br>\n",
    "Mais cet espace de noms est automatiquement détruit une fois que la fonction a terminé son travail.<br>\n",
    "\n",
    "#### <u style=\"color:blue;\">b. Variables globales :</u> ####\n",
    "Une variable définie <strong>en dehors d'une fonction</strong> est appelée variable <strong>globale</strong>.<br>\n",
    "Les fonctions ont accès aux variables globales :<br>\n"
   ]
  },
  {
   "cell_type": "code",
   "execution_count": null,
   "metadata": {},
   "outputs": [],
   "source": [
    "# Les variables globales sont accessibles :\n",
    "ma_variable_globale = 32 # cette variable est définie à l'extérieur de la fonction. Elle est donc globale.\n",
    "def autre_fonction():\n",
    "    print(\"la valeur de ma_variable_globale est :\", ma_variable_globale)\n",
    "    return 1 # on renvoie toujours 1.\n",
    "\n",
    "# On fait appel à autre_fonction :\n",
    "a = autre_fonction()"
   ]
  },
  {
   "cell_type": "markdown",
   "metadata": {},
   "source": [
    "● Observez l'erreur <u>lorsqu'on tente de modifier</u> cette variable globale <strong>depuis l'intérieur de <span style=\"font-family:Courier New;font-size: 100%;\">autre_fonction</span></strong> :<br>\n"
   ]
  },
  {
   "cell_type": "code",
   "execution_count": null,
   "metadata": {},
   "outputs": [],
   "source": [
    "# Tentative de modification d'une variable globale :\n",
    "ma_variable_globale = 32 # cette variable est définie à l'extérieur de la fonction. Elle est donc globale.\n",
    "def autre_fonction():\n",
    "    ma_variable_globale +=10\n",
    "    print(\"la nouvelle valeur de ma_variable_globale est :\", ma_variable_globale)\n",
    "    return 1 # on renvoie toujours 1.\n",
    "\n",
    "# On fait appel à autre_fonction :\n",
    "a = autre_fonction()"
   ]
  },
  {
   "cell_type": "markdown",
   "metadata": {},
   "source": [
    "● Pour pouvoir modifier <span style=\"font-family:Courier New;font-size: 100%;\">ma_variable_globale</span> depuis l'intérieur d'une fonction, il faut précéder son nom du mot-clé <span style=\"font-family:Courier New;font-size: 100%;\">global</span> :<br>\n"
   ]
  },
  {
   "cell_type": "code",
   "execution_count": null,
   "metadata": {},
   "outputs": [],
   "source": [
    "# Modification d'une variable globale avec le mot-clé global :\n",
    "ma_variable_globale = 32 # cette variable est définie à l'extérieur de la fonction. Elle est donc globale.\n",
    "def autre_fonction():\n",
    "    global ma_variable_globale # utilisation du mot-clé global pour pouvoir la modifier\n",
    "    ma_variable_globale +=10\n",
    "    print(\"la nouvelle valeur de ma_variable_globale est :\", ma_variable_globale)\n",
    "    return 1 # on renvoie toujours 1.\n",
    "\n",
    "# On fait appel à autre_fonction :\n",
    "a = autre_fonction()"
   ]
  },
  {
   "cell_type": "markdown",
   "metadata": {},
   "source": [
    "<div style=\"text-align:center;\"><span style=\"border: 2px solid;padding:6px;\">Il est cependant <strong>déconseillé</strong> d'utiliser et de modifier des variables <strong>globales</strong></span></div><br>\n",
    "<br>Car leur évolution peut être difficile à suivre et source de nombreux bugs!<br>\n"
   ]
  },
  {
   "cell_type": "code",
   "execution_count": null,
   "metadata": {},
   "outputs": [],
   "source": [
    "qcm.global1()"
   ]
  }
 ],
 "metadata": {},
 "nbformat": 4,
 "nbformat_minor": 4
}
