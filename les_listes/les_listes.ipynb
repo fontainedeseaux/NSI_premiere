{
 "cells": [
  {
   "cell_type": "code",
   "execution_count": null,
   "metadata": {},
   "outputs": [],
   "source": [
    "from outils import* # Lancer la cellule pour importer les outils nécessaires au notebook."
   ]
  },
  {
   "cell_type": "markdown",
   "metadata": {},
   "source": [
    "# <div style=\"text-align:center;\"><span style=\"border: 2px solid;padding:6px;color:dodgerblue;\">LES LISTES</span></div> #\n",
    "\n",
    "Nous avons déjà découvert 4 types de données : <strong>integer, float, string et booléens</strong>.<br>\n",
    "L'objectif de ce notebook est de découvrir une nouvelle structure de donnée essentielle : les listes.\n",
    "### <u style=\"color:green;\">1. Généralités :</u> ###\n",
    "On peut considérer une liste comme une <strong>collection d’éléments</strong> de tout type que l’on note <strong>entre crochets</strong>.<br>\n",
    "Voici des exemples de liste : <br>\n"
   ]
  },
  {
   "cell_type": "code",
   "execution_count": null,
   "metadata": {},
   "outputs": [],
   "source": [
    "mes_entiers = [2, 7, 3] # est une liste d’entiers\n",
    "liste_vide = [] # crée un liste vide\n",
    "mes_fruits = ['orange', 'pomme', 'poire', 'cerise'] # est une liste de chaines\n",
    "\n",
    "# On vérifie le type des variables précédemment crées :\n",
    "print(type(mes_entiers))\n",
    "print(type(liste_vide))\n",
    "print(type(mes_fruits))"
   ]
  },
  {
   "cell_type": "markdown",
   "metadata": {},
   "source": [
    "Une liste peut tout à fait contenir des éléments <strong>qui ne sont pas de même type</strong> :<br>\n",
    "<br>\n",
    "<span style=\"font-family:Courier New;font-size: 100%;\">un_melange=[7, 'bonjour', True, [1,2]]</span> est une liste de 4 éléments de type différents ! <br>\n",
    "<br><span style=\"border: 2px solid;padding:6px;\">L'intérêt d'une liste est de pouvoir stocker <u>plusieurs valeurs dans <strong>une seule variable</strong></u></span>\n",
    "\n",
    "### <u style=\"color:green;\">2. Quelques similitudes avec les chaines...:</u> ###\n",
    "● le nombre d'éléments d'une liste s'obtient avec la fonction <span style=\"font-family:Courier New;font-size: 100%;\">len(...)</span>.<br>\n",
    "<br>\n",
    "● Les éléments d’une chaine sont indexés (c'est-à-dire numérotés) à partir de <span style=\"font-family:Courier New;font-size: 100%;\">0</span>.<br>\n",
    "<span style=\"font-family:Courier New;font-size: 100%;\">mes_fruits[0]</span> renvoie le premier élément de la liste : celui d'index <span style=\"font-family:Courier New;font-size: 100%;\">0</span><br>\n",
    "<br>\n",
    "● Le dernier élément de d'une liste s'obtient de la même façon qu'avec une chaine : <span style=\"font-family:Courier New;font-size: 100%;\">mes_fruits[-1]</span><br>\n"
   ]
  },
  {
   "cell_type": "code",
   "execution_count": null,
   "metadata": {},
   "outputs": [],
   "source": [
    "qcm.len()"
   ]
  },
  {
   "cell_type": "code",
   "execution_count": null,
   "metadata": {},
   "outputs": [],
   "source": [
    "qcm.index_0()"
   ]
  },
  {
   "cell_type": "code",
   "execution_count": null,
   "metadata": {},
   "outputs": [],
   "source": [
    "qcm.index_2()"
   ]
  },
  {
   "cell_type": "code",
   "execution_count": null,
   "metadata": {},
   "outputs": [],
   "source": [
    "qcm.cerise()"
   ]
  },
  {
   "cell_type": "markdown",
   "metadata": {},
   "source": [
    "### <u style=\"color:green;\">3. Parcourir les éléments d'une liste.</u> ###\n",
    "● Les listes sont des données <strong>itérables</strong>. <br>\n",
    "On peut <strong>parcourir une liste</strong> à l'aide d'une boucle, de la même façon que pour les chaines :<br>\n"
   ]
  },
  {
   "cell_type": "code",
   "execution_count": null,
   "metadata": {},
   "outputs": [],
   "source": [
    "n = len(mes_fruits)\n",
    "for k in range(n):\n",
    "    element = mes_fruits[k]\n",
    "    print(\"fruit d'index\", k, \":\", element)"
   ]
  },
  {
   "cell_type": "markdown",
   "metadata": {},
   "source": [
    "● L'instruction <span style=\"font-family:Courier New;font-size: 100%;\">in</span> permet de savoir si une liste contient un élément donné :<br>\n"
   ]
  },
  {
   "cell_type": "code",
   "execution_count": null,
   "metadata": {},
   "outputs": [],
   "source": [
    "print('orange' in mes_fruits)\n",
    "print('fraise' in mes_fruits)"
   ]
  },
  {
   "cell_type": "markdown",
   "metadata": {},
   "source": [
    "● On peut <strong>concaténer et dupliquer</strong> des listes :<br>\n"
   ]
  },
  {
   "cell_type": "code",
   "execution_count": null,
   "metadata": {},
   "outputs": [],
   "source": [
    "print(mes_fruits + mes_entiers)\n",
    "print(mes_entiers *3)"
   ]
  },
  {
   "cell_type": "markdown",
   "metadata": {},
   "source": [
    "### <u style=\"color:green;\">4. Spécificité des listes :</u> ###\n",
    "Contraitement aux chaines -<strong>immuables</strong>-, les listes sont des données <strong>mutables</strong>.<br>\n",
    "<br>\n",
    "<u>Conséquences :</u><br>\n",
    "● on peut modifier <strong>directement</strong> le contenu d'une liste :<br>\n"
   ]
  },
  {
   "cell_type": "code",
   "execution_count": null,
   "metadata": {},
   "outputs": [],
   "source": [
    "mes_fruits[0] = 'citron'\n",
    "print(mes_fruits)"
   ]
  },
  {
   "cell_type": "markdown",
   "metadata": {},
   "source": [
    "● les listes disposent de <strong>méthodes</strong> (c'est-à-dire de leurs <strong>propres fonctions</strong>) qui permettent de les modifier <strong>en place</strong>, c'est-à-dire sans passer par de nouvelles variables.<br>\n",
    "→ La méthode <span style=\"font-family:Courier New;font-size: 100%;\">append(...)</span> permet <strong>d'ajouter un élément en fin de liste</strong> :<br>\n"
   ]
  },
  {
   "cell_type": "code",
   "execution_count": null,
   "metadata": {},
   "outputs": [],
   "source": [
    "# affichage initial de la liste mes_fruits :\n",
    "print(mes_fruits)\n",
    "# On ajoute un élément en fin de liste\n",
    "mes_fruits.append('mangue') \n",
    "print(mes_fruits)"
   ]
  },
  {
   "cell_type": "markdown",
   "metadata": {},
   "source": [
    "● La méthode <span style=\"font-family:Courier New;font-size: 100%;\">append(...)</span> peut être utile pour compléter une liste <strong>initialement vide</strong>.<br>\n"
   ]
  },
  {
   "cell_type": "code",
   "execution_count": null,
   "metadata": {},
   "outputs": [],
   "source": [
    "qcm.append()"
   ]
  },
  {
   "cell_type": "markdown",
   "metadata": {},
   "source": [
    "● La méthode <span style=\"font-family:Courier New;font-size: 100%;\">pop(...)</span> permet de <strong>supprimer</strong> un élément d'<strong>index donné</strong> :<br>\n",
    "<br>\n",
    "<span style=\"font-family:Courier New;font-size: 100%;\">ma_liste.pop(0)</span> supprime de <span style=\"font-family:Courier New;font-size: 100%;\">ma_liste</span> l'élément d'index <span style=\"font-family:Courier New;font-size: 100%;\">0</span>, donc le premier.<br>\n",
    "<span style=\"font-family:Courier New;font-size: 100%;\">ma_liste.pop(1)</span> supprime de <span style=\"font-family:Courier New;font-size: 100%;\">ma_liste</span> l'élément d'index <span style=\"font-family:Courier New;font-size: 100%;\">1</span>, donc le deuxième. Etc.<br>\n",
    "<span style=\"font-family:Courier New;font-size: 100%;\">ma_liste.pop(-1)</span> supprime de <span style=\"font-family:Courier New;font-size: 100%;\">ma_liste</span> l'élément d'index <span style=\"font-family:Courier New;font-size: 100%;\">-1</span>, donc le dernier.<br>\n"
   ]
  },
  {
   "cell_type": "code",
   "execution_count": null,
   "metadata": {},
   "outputs": [],
   "source": [
    "qcm.pop()"
   ]
  },
  {
   "cell_type": "markdown",
   "metadata": {},
   "source": [
    "● Il existe beaucoup de méthodes qu'on utilisera à profit en fonction de ses besoins…<br>\n",
    "https://docs.python.org/fr/3/tutorial/datastructures.html\n",
    "### <u style=\"color:green;\">5. Extraire une sous-liste:</u> ###\n",
    "Comme pour les chaines, on peut extraire une \"tranche\" (slice en anglais) de <span style=\"font-family:Courier New;font-size: 100%;\">ma_liste</span> :<br>\n",
    "<span style=\"font-family:Courier New;font-size: 100%;\">ma_liste[a: b]</span>  renvoie la <strong>sous-liste</strong> composée des éléments d'index <span style=\"font-family:Courier New;font-size: 100%;\">a, a+1,… ,b‒1</span>.<br>\n",
    "L'élément d'index <span style=\"font-family:Courier New;font-size: 100%;\">b</span> n'est donc <strong>pas inclus</strong>.<br>\n"
   ]
  },
  {
   "cell_type": "code",
   "execution_count": null,
   "metadata": {},
   "outputs": [],
   "source": [
    "qcm.slice()"
   ]
  },
  {
   "cell_type": "markdown",
   "metadata": {},
   "source": [
    "### <u style=\"color:green;\">6. Exercices :</u> ###\n",
    "<u style=\"color:blue;\">Exercice 1 :</u><br>\n",
    "Ecrire une fonction <span style=\"font-family:Courier New;font-size: 100%;\">somme(ma_liste)</span> qui renvoie la somme des éléments entiers ou flottants contenus dans <span style=\"font-family:Courier New;font-size: 100%;\">ma_liste</span>.<br>\n",
    "Par exemple, <span style=\"font-family:Courier New;font-size: 100%;\">somme([1, 2, 4, 7, 9])</span> renvoie <span style=\"font-family:Courier New;font-size: 100%;\">23</span> car <span style=\"font-family:Courier New;font-size: 100%;\">1 + 2 + 4 + 7 + 9 = 23</span><br>\n"
   ]
  },
  {
   "cell_type": "code",
   "execution_count": null,
   "metadata": {},
   "outputs": [],
   "source": [
    "# code exercice 1"
   ]
  },
  {
   "cell_type": "code",
   "execution_count": null,
   "metadata": {},
   "outputs": [],
   "source": [
    "solution.somme()"
   ]
  },
  {
   "cell_type": "markdown",
   "metadata": {},
   "source": [
    "<u style=\"color:blue;\">Exercice 2 :</u><br>\n",
    "Ecrire une fonction <span style=\"font-family:Courier New;font-size: 100%;\">maximum(ma_liste)</span> qui renvoie la valeur de l'élément de valeur maximale contenu dans <span style=\"font-family:Courier New;font-size: 100%;\">ma_liste</span><br>\n",
    "<u>Aide :</u> <span style=\"font-family:Courier New;font-size: 100%;\">float('inf')</span> crée le nombre $+\\infty$<br>\n"
   ]
  },
  {
   "cell_type": "code",
   "execution_count": null,
   "metadata": {},
   "outputs": [],
   "source": [
    "# code exercice 2"
   ]
  },
  {
   "cell_type": "code",
   "execution_count": null,
   "metadata": {},
   "outputs": [],
   "source": [
    "solution.maximum()"
   ]
  },
  {
   "cell_type": "markdown",
   "metadata": {},
   "source": [
    "<u style=\"color:blue;\">Exercice 3 :</u><br>\n",
    "Ecrire une fonction <span style=\"font-family:Courier New;font-size: 100%;\">occurrences(ma_liste, x)</span> qui renvoie le nombre de fois où <span style=\"font-family:Courier New;font-size: 100%;\">x</span> est dans <span style=\"font-family:Courier New;font-size: 100%;\">ma_liste</span><br>\n",
    "Par exemple, <span style=\"font-family:Courier New;font-size: 100%;\">occurrences([1, 6, 6, 9, 6, 4], 6)</span> renvoie <span style=\"font-family:Courier New;font-size: 100%;\">3</span>.<br>\n"
   ]
  },
  {
   "cell_type": "code",
   "execution_count": null,
   "metadata": {},
   "outputs": [],
   "source": [
    "# code exercice 3"
   ]
  },
  {
   "cell_type": "code",
   "execution_count": null,
   "metadata": {},
   "outputs": [],
   "source": [
    "solution.occurrences()"
   ]
  },
  {
   "cell_type": "markdown",
   "metadata": {},
   "source": [
    "<u style=\"color:blue;\">Exercice 4 :</u><br>\n",
    "Ecrire une fonction <span style=\"font-family:Courier New;font-size: 100%;\">index_min(ma_liste)</span> qui renvoie <strong>l'index</strong> du plus petit élément de <span style=\"font-family:Courier New;font-size: 100%;\">ma_liste</span>.<br>\n",
    "Par exemple, <span style=\"font-family:Courier New;font-size: 100%;\">index_min([4, 6, -3, 1, 7])</span> renvoie <span style=\"font-family:Courier New;font-size: 100%;\">2</span>, car l'élément le plus petit de cette liste (<span style=\"font-family:Courier New;font-size: 100%;\">-3</span>) a pour index <span style=\"font-family:Courier New;font-size: 100%;\">2</span>.<br>\n"
   ]
  },
  {
   "cell_type": "code",
   "execution_count": null,
   "metadata": {},
   "outputs": [],
   "source": [
    "# code exercice 4"
   ]
  },
  {
   "cell_type": "code",
   "execution_count": null,
   "metadata": {},
   "outputs": [],
   "source": [
    "solution.index_min()"
   ]
  },
  {
   "cell_type": "markdown",
   "metadata": {},
   "source": [
    "<u style=\"color:blue;\">Exercice 5 :</u><br>\n",
    "Ecrire une fonction <span style=\"font-family:Courier New;font-size: 100%;\">carres(n)</span>, avec <span style=\"font-family:Courier New;font-size: 100%;\">n</span> entier qui renvoie la liste des carrés parfaits jusqu'à <span style=\"font-family:Courier New;font-size: 100%;\">n</span> : <span style=\"font-family:Courier New;font-size: 100%;\">[1, 4, 9, 16, … , nµµ2]</span><br>\n"
   ]
  },
  {
   "cell_type": "code",
   "execution_count": null,
   "metadata": {},
   "outputs": [],
   "source": [
    "# code exercice 5"
   ]
  },
  {
   "cell_type": "code",
   "execution_count": null,
   "metadata": {},
   "outputs": [],
   "source": [
    "solution.carres()"
   ]
  },
  {
   "cell_type": "markdown",
   "metadata": {},
   "source": [
    "<u style=\"color:blue;\">Exercice 6 :</u><br>\n",
    "Ecrire une fonction <span style=\"font-family:Courier New;font-size: 100%;\">nb_differents(ma_liste)</span>, qui renvoie le nombre d'éléments différents présents dans <span style=\"font-family:Courier New;font-size: 100%;\">ma_liste</span><br>\n",
    "Par exemple, <span style=\"font-family:Courier New;font-size: 100%;\">nb_differents([1, 6, 6, 9, 6, 5, 1, 9])</span> renvoie <span style=\"font-family:Courier New;font-size: 100%;\">4</span>.<br>\n",
    "Car <u>sans les répétitions</u>, on retrouve <span style=\"font-family:Courier New;font-size: 100%;\">4</span> éléments différents dans cette liste : <span style=\"font-family:Courier New;font-size: 100%;\">1, 6, 9</span> et <span style=\"font-family:Courier New;font-size: 100%;\">5</span>.<br>\n"
   ]
  },
  {
   "cell_type": "code",
   "execution_count": null,
   "metadata": {},
   "outputs": [],
   "source": [
    "# code exercice 6"
   ]
  },
  {
   "cell_type": "code",
   "execution_count": null,
   "metadata": {},
   "outputs": [],
   "source": [
    "solution.nb_differents()"
   ]
  },
  {
   "cell_type": "markdown",
   "metadata": {},
   "source": [
    "<u style=\"color:blue;\">Exercice 7 :</u><br>\n",
    "Ecrire une fonction <span style=\"font-family:Courier New;font-size: 100%;\">prefixe(liste_1, liste_2)</span> qui renvoie <span style=\"font-family:Courier New;font-size: 100%;\">True</span> si <span style=\"font-family:Courier New;font-size: 100%;\">liste_1</span> est le début de <span style=\"font-family:Courier New;font-size: 100%;\">liste_2</span> et <span style=\"font-family:Courier New;font-size: 100%;\">False</span> sinon.<br>\n",
    "Par exemple :<br>\n",
    "<span style=\"font-family:Courier New;font-size: 100%;\">prefixe([1, 2], [1, 2, 8, 9])</span> renvoie <span style=\"font-family:Courier New;font-size: 100%;\">True</span> car <span style=\"font-family:Courier New;font-size: 100%;\">[1, 2]</span> est le début de <span style=\"font-family:Courier New;font-size: 100%;\">[1, 2, 8, 9]</span><br>\n",
    "<span style=\"font-family:Courier New;font-size: 100%;\">prefixe([1, 2, 7], [1, 2, 8, 9])</span> renvoie <span style=\"font-family:Courier New;font-size: 100%;\">False</span> <span style=\"font-family:Courier New;font-size: 100%;\">[1, 2, 7]</span> n'est pas le début de <span style=\"font-family:Courier New;font-size: 100%;\">[1, 2, 8, 9]</span><br>\n"
   ]
  },
  {
   "cell_type": "code",
   "execution_count": null,
   "metadata": {},
   "outputs": [],
   "source": [
    "# code exercice 7"
   ]
  },
  {
   "cell_type": "code",
   "execution_count": null,
   "metadata": {},
   "outputs": [],
   "source": [
    "solution.prefixe()"
   ]
  },
  {
   "cell_type": "code",
   "execution_count": null,
   "metadata": {},
   "outputs": [],
   "source": [
    "solution.autre_solution_prefixe()"
   ]
  },
  {
   "cell_type": "markdown",
   "metadata": {},
   "source": [
    "<u style=\"color:blue;\">Exercice 8 :</u><br>\n",
    "Le code ISBN (International Standard Book Number) est un code international unique et propre à chaque livre publié, que son support soit numérique ou papié.<br>\n",
    "![alt text](isbn.png \"code isbn\")<br>\n",
    "Il comporte 13 chifffres, mais le 13$^{ème}$ et dernier chiffre (le <strong>4</strong> ici) est une <strong>clef</strong> obtenue à partir des 12 précédents. Voici comment :\n",
    "- Additionner les 12 chiffres du code\n",
    "\n",
    "- Y rajouter le double de la somme des chiffres <span style=\"color:red;\">rouges</span>.\n",
    "\n",
    "- Prendre le <strong>dernier chiffre</strong> de cette somme\n",
    "\n",
    "- Calculer la <strong>différence</strong> entre 10 et ce dernier chiffre. La clé est alors <strong>le dernier chiffre de cette différence</strong>.\n",
    "\n",
    "a) Vérifier à la main que la clé <span style=\"font-family:Courier New;font-size: 100%;\">4</span> est effectivement la bonne sur l'exemple de l'image.<br>\n",
    "b) Ecrire une fonction <span style=\"font-family:Courier New;font-size: 100%;\">isbn(str_douze_chiffres)</span> qui renvoie la clef correspondant au 13$^{ème}$ chiffre.<br>\n",
    "Par exemple, <span style=\"font-family:Courier New;font-size: 100%;\">isbn('9<span style=\"color:red;\">7</span>8<span style=\"color:red;\">0</span>7<span style=\"color:red;\">3</span>3<span style=\"color:red;\">4</span>2<span style=\"color:red;\">6</span>0<span style=\"color:red;\">9</span>')</span> renvoie <span style=\"font-family:Courier New;font-size: 100%;\"><span style=\"color:green;\">4</span></span><br>\n"
   ]
  },
  {
   "cell_type": "code",
   "execution_count": null,
   "metadata": {},
   "outputs": [],
   "source": [
    "# code exercice 8"
   ]
  },
  {
   "cell_type": "code",
   "execution_count": null,
   "metadata": {},
   "outputs": [],
   "source": [
    "solution.isbn()"
   ]
  },
  {
   "cell_type": "markdown",
   "metadata": {},
   "source": [
    "<u style=\"color:blue;\">Exercice 9 :</u><br>\n",
    "Ecrire une fonction <span style=\"font-family:Courier New;font-size: 100%;\">positions(ma_liste, x)</span> qui renvoie la liste des positions (index) où on retrouve <span style=\"font-family:Courier New;font-size: 100%;\">x</span> dans <span style=\"font-family:Courier New;font-size: 100%;\">ma_liste</span>.<br>\n",
    "Par exemple:<br>\n",
    "<span style=\"font-family:Courier New;font-size: 100%;\">positions([1, 2, 1, 4, 1 ,8], 1)</span> renvoie <span style=\"font-family:Courier New;font-size: 100%;\">[0, 2, 4]</span> car <span style=\"font-family:Courier New;font-size: 100%;\">1</span> est retrouvé aux index <span style=\"font-family:Courier New;font-size: 100%;\">0, 2</span> et <span style=\"font-family:Courier New;font-size: 100%;\">4</span> dans <span style=\"font-family:Courier New;font-size: 100%;\">ma_liste</span>.<br>\n",
    "<span style=\"font-family:Courier New;font-size: 100%;\">positions([1, 2, 1, 4, 1 ,8], 9)</span> renvoie [] car on ne retrouve pas <span style=\"font-family:Courier New;font-size: 100%;\">9</span> dans <span style=\"font-family:Courier New;font-size: 100%;\">ma_liste</span>.<br>\n"
   ]
  },
  {
   "cell_type": "code",
   "execution_count": null,
   "metadata": {},
   "outputs": [],
   "source": [
    "# code exercice 9"
   ]
  },
  {
   "cell_type": "code",
   "execution_count": null,
   "metadata": {},
   "outputs": [],
   "source": [
    "solution.positions()"
   ]
  },
  {
   "cell_type": "markdown",
   "metadata": {},
   "source": [
    "<u style=\"color:blue;\">Exercice 10 :</u> <span style=\"color:blue;\">*Défi...*</span><br>\n",
    "Le <span style=\"font-family:Courier New;font-size: 100%;\">17/06/2345</span> sera une date particulière : en l'écrivant, tous les chiffres qui la composent sont différents!<br>\n",
    "<strong>Validez</strong> le code de la fonction <span style=\"font-family:Courier New;font-size: 100%;\">est_bissextile(annee)</span> qui renvoie <span style=\"font-family:Courier New;font-size: 100%;\">1</span> si <span style=\"font-family:Courier New;font-size: 100%;\">annee</span> est bissextile, <span style=\"font-family:Courier New;font-size: 100%;\">0</span> sinon :<br>\n"
   ]
  },
  {
   "cell_type": "code",
   "execution_count": null,
   "metadata": {},
   "outputs": [],
   "source": [
    "def est_bissextile(annee):\n",
    "    '''renvoie 1 si l'année est bissextile, 0 sinon'''\n",
    "    if (annee %4 ==0 and annee % 100 !=0) or annee % 400==0:\n",
    "        return 1\n",
    "    return 0"
   ]
  },
  {
   "cell_type": "markdown",
   "metadata": {},
   "source": [
    "● Combien y-a-t-il de dates semblables du <span style=\"font-family:Courier New;font-size: 100%;\">01/01/1600</span> à l'an <span style=\"font-family:Courier New;font-size: 100%;\">2000</span>? Quelle est la dernière d'entre elles?<br>\n",
    "Ecrire un programme permettant de répondre à ces questions...<br>\n"
   ]
  },
  {
   "cell_type": "code",
   "execution_count": null,
   "metadata": {},
   "outputs": [],
   "source": [
    "# à compléter"
   ]
  },
  {
   "cell_type": "code",
   "execution_count": null,
   "metadata": {},
   "outputs": [],
   "source": [
    "solution.annees()"
   ]
  }
 ],
 "metadata": {},
 "nbformat": 4,
 "nbformat_minor": 4
}
