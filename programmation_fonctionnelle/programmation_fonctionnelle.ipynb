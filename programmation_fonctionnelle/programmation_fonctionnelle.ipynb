{
 "cells": [
  {
   "cell_type": "code",
   "execution_count": null,
   "id": "00d52aab",
   "metadata": {},
   "outputs": [],
   "source": [
    "from outils import* # Lancer la cellule pour importer les outils nécessaires au notebook."
   ]
  },
  {
   "cell_type": "markdown",
   "id": "c8b818ea",
   "metadata": {},
   "source": [
    "# <div style = \"text-align : center;\"><span style=\"border: 2px solid;padding:6px;color:dodgerblue;\">PARADIGMES ET PROGRAMMATION FONCTIONNELLE</span></div> #\n",
    "\n",
    "Le nombre de langages de programmation est gigantesque : on en dénombre plus de 2000... <br>\n",
    "Pourquoi autant de langages ? Comment les choisir ?<br>\n",
    "![alt text](mes_images/question.jpg)<br>\n",
    "<i>Python</i> rentre dans la catégorie des langages <strong>généralistes</strong> : il peut s'adapter à beaucoup de situations et de <strong>paradigmes</strong> différents.<br>\n",
    "Mais qu'est-ce qu'un paradigme?\n",
    "## <span style=\"text-decoration: underline;color:red;\">I. Paradigmes de programmation :</span> ##\n",
    "### <span style=\"text-decoration: underline;color:green;\">1. Définition :</span> ###\n",
    "\n",
    "<div style = \"text-align : center;\"><span style=\"border: 2px solid;padding:6px;\">Un paradigme de programmation est une <strong>manière de programmer</strong> basée sur un <strong>ensemble de principes</strong>.</span></div><br>\n",
    "<br>Nous avons déjà rencontré plusieurs paradigmes de programmation :<br>\n",
    "&nbsp;<br>\n",
    "● <span style=\"text-decoration: underline;\">la programmation <strong>impérative</strong> :</span><br>\n",
    "Les instructions du programme sont exécutées <strong>séquentiellement</strong> dans l'ordre dans lequel elles ont été écrites.<br>\n",
    "On y trouve toutes les structures comme les boucles (<span style=\"font-family:Courier New;font-size: 100%;\">for, while</span>), les conditionnelles (<span style=\"font-family:Courier New;font-size: 100%;\">if, ...</span>), les variables, les tableaux...<br>\n",
    "Python est bien sûr un langage impératif.<br>\n",
    "<br>\n",
    "● <span style=\"text-decoration: underline;\">la Programmation Orientée Objet :</span><br>\n",
    "le programme est vu comme l'interaction d'un ensemble d'objets ayant chacun des caractéristiques (les attributs) et supportant certaines actions (les méthodes).<br>\n",
    "<br>\n",
    "● <span style=\"text-decoration: underline;\">la programmation <strong>événementielle</strong> :</span><br>\n",
    "nous l'avons expérimentée en réalisant des <strong>interfaces graphiques</strong> : le programme réagit aux différents évènements qui peuvent se produire (clic, écriture clavier, etc.)<br>\n",
    "<br>\n",
    "● <span style=\"text-decoration: underline;\">la programmation fonctionnelle :</span> <br>\n",
    "elle repose sur l'utilisation de fonctions et <strong>rejette la mutation</strong> des données. <i>cf III</i>.<br>\n",
    "<br>\n",
    "Il ne s'agit pas ici, d'être exhaustif. Mais il y en  d'autres, comme :<br>\n",
    "<br>\n",
    "&nbsp;&nbsp;&nbsp;&nbsp;● <span style=\"text-decoration: underline;\">la programmation <strong>concurrentielle</strong> ou <strong>parallèle</strong> :</span><br>\n",
    "&nbsp;&nbsp;&nbsp;&nbsp;&nbsp;&nbsp;&nbsp;&nbsp;&nbsp;&nbsp;&nbsp;La grosse problématique est alors le partage des ressources entre plusieurs processus qui peut aboutir à  des situations d'<strong>interblocage</strong>.<br>\n",
    "<br>\n",
    "&nbsp;&nbsp;&nbsp;&nbsp;● <span style=\"text-decoration: underline;\">la programmation logique </span>:<i> cf II</i>.<br>\n",
    "\n",
    "## <span style=\"text-decoration: underline;color:red;\">II. Quel paradigme choisir?</span> ##\n",
    "### <span style=\"text-decoration: underline;color:green;\">1. Tout dépend du problème des objectifs!</span> ###\n",
    "Un problème peut être résolu de différentes façons, mais parfois une manière de voir peut permettre d'y arriver plus facilement.<br>\n",
    "C'est que l'on a déjà vu avec un programme écrit:\n",
    "- soit en <strong>récursif</strong> (qui peut être vu dans certains cas comme un paradigme fonctionnel puisque l'on fait appel à des fonctions)\n",
    "\n",
    "- soit en <strong>itératif</strong> (qui peut être vu dans certains cas comme un paradigme impératif).\n",
    "\n",
    "Imaginons que la satiété arrive au bout de <span style=\"font-family:Courier New;font-size: 100%;\">20</span> bouchées lors d'un repas. <br>\n",
    "On peut alors en avoir deux visions :<br>\n",
    "![alt text](mes_images/manger.jpg)<br>\n",
    "● <span style=\"text-decoration: underline;\">Vision impérative:</span><br>\n"
   ]
  },
  {
   "cell_type": "code",
   "execution_count": null,
   "id": "9f20c007",
   "metadata": {},
   "outputs": [],
   "source": [
    "nb_bouchees = 0\n",
    "while nb_bouchees < 20:\n",
    "    nb_bouchees += 1\n",
    "print(\"Je suis à satiété après avoir mangé\", nb_bouchees, \"bouchées\")"
   ]
  },
  {
   "cell_type": "markdown",
   "id": "95f49c4b",
   "metadata": {},
   "source": [
    "● Ici, il y a une <strong>succession d'instructions dans un ordre précis</strong>.<br>\n",
    "De plus, une variable `nb_bouchees` <strong>évolue au cours de l'éxecution</strong> et détermine l'arrêt du programme lorsqu'elle arrive à <span style=\"font-family:Courier New;font-size: 100%;\">10</span>.<br>\n",
    "<br>\n",
    "● <span style=\"text-decoration: underline;\">Vision fonctionnelle:</span><br>\n"
   ]
  },
  {
   "cell_type": "code",
   "execution_count": null,
   "id": "2a76a10a",
   "metadata": {},
   "outputs": [],
   "source": [
    "def je_mange(nb_bouchees):\n",
    "    if nb_bouchees < 20:\n",
    "        return je_mange(nb_bouchees + 1)\n",
    "    else:\n",
    "        return f'''je suis à satiété après avoir mangé {nb_bouchees} bouchées'''\n",
    "    \n",
    "je_mange(0) # On appelle la fonction je_mange en précisant qu'on a mangé 0 bouchées"
   ]
  },
  {
   "cell_type": "markdown",
   "id": "2c9dfcb5",
   "metadata": {},
   "source": [
    "● Ici, il y a une <strong>succession d'appels</strong> de la fonction `je_mange` dans un ordre précis.<br>\n",
    "On l'appelle en lui passant en argument un nombre de bouchées égal à 0. <strong>Aucune variable n'évolue</strong>.<br>\n",
    "C'est en revanche le <strong>paramètre d'appel</strong> de la fonction <span style=\"font-family:Courier New;font-size: 100%;\">je&#95;mange</span> qui change.<br>\n",
    "\n",
    "### <span style=\"text-decoration: underline;color:green;\">2. Un autre exemple :</span> ###\n",
    "Considérons le problème suivant :<br>\n",
    "<br>\n",
    "<span style=\"font-family:Courier New;font-size: 100%;\">Max a un chat.</span><br>\n",
    "<span style=\"font-family:Courier New;font-size: 100%;\">Eric n'est pas en pavillon.</span><br>\n",
    "<span style=\"font-family:Courier New;font-size: 100%;\">Luc habite un studio mais le cheval n'y est pas.</span><br>\n",
    "<span style=\"font-family:Courier New;font-size: 100%;\">Chacun habite une maison différente et possède un animal distinct.</span><br>\n",
    "<br>\n",
    "Qui habite le <span style=\"font-family:Courier New;font-size: 100%;\">château</span> et qui a le <span style=\"font-family:Courier New;font-size: 100%;\">poisson</span> ?<br>\n",
    "<br>\n",
    "● Des langages, comme <a href=\"http://www.gecif.net/articles/linux/prolog.html\">Prolog</a>, sont <strong>spécialement conçus</strong> pour traiter des problèmes <strong>logiques</strong>.<br>\n",
    "Certains d'entre eux peuvent même s'utiliser pour faire des preuves mathématiques (<a href=\"https://fr.wikipedia.org/wiki/Coq_(logiciel)\">Coq</a>)<br>\n",
    "<br>\n",
    "● <i>Prolog</i> a été créé en 1972 par un Français : <i>Alain Colmerauer</i>. <br>\n",
    "![alt text](mes_images/prolog.jpg)<br>\n",
    "● Ce langage <strong>simule des raisonnements déductifs</strong>. Il est surtout utilisé dans le domaine de l'intelligence artificielle, mais aussi dans le traitement du langage. <br>\n",
    "<br>\n",
    "● Durant sa phase d'apprentissage, Chat GPT a été nourri avec des ensembles de données contenant des exemples de programmes et de résolution issus de <i>Prolog</i> . <br>\n",
    "![alt text](mes_images/chat_gpt.jpg)<br>\n",
    "● A titre de curiosité, voici le codage et la solution du problème initial :<br>\n",
    "<code>% les 3 maisons :<br>&nbsp;&nbsp;&nbsp;&nbsp;maison(chateau).<br>&nbsp;&nbsp;&nbsp;&nbsp;maison(studio).<br>&nbsp;&nbsp;&nbsp;&nbsp;maison(pavillon).<br><br>&nbsp;&nbsp;&nbsp;&nbsp;% les 3 animaux :<br>&nbsp;&nbsp;&nbsp;&nbsp;animal(chat).<br>&nbsp;&nbsp;&nbsp;&nbsp;animal(poisson).<br>&nbsp;&nbsp;&nbsp;&nbsp;animal(cheval).<br><br>&nbsp;&nbsp;&nbsp;&nbsp;%--------------------------------------------------------<br>&nbsp;&nbsp;&nbsp;&nbsp;% les règles :<br><br>&nbsp;&nbsp;&nbsp;&nbsp;% le prédicat relation constitue la relation entre une personne, son animal et sa maison :<br>&nbsp;&nbsp;&nbsp;&nbsp;relation(max,M,chat):-maison(M).<br>&nbsp;&nbsp;&nbsp;&nbsp;relation(luc,studio,A):-animal(A),A\\==cheval.<br>&nbsp;&nbsp;&nbsp;&nbsp;relation(eric,M,A):-maison(M),M\\==pavillon,animal(A).<br><br>&nbsp;&nbsp;&nbsp;&nbsp;% le prédicat different est vraie seulement si ses 3 paramètres sont différents :<br>&nbsp;&nbsp;&nbsp;&nbsp;different(X,X,\\_):-!,fail.<br>&nbsp;&nbsp;&nbsp;&nbsp;different(X,\\_,X):-!,fail.<br>&nbsp;&nbsp;&nbsp;&nbsp;different(\\_,X,X):-!,fail.<br>&nbsp;&nbsp;&nbsp;&nbsp;different(\\_,\\_,\\_).<br><br>&nbsp;&nbsp;&nbsp;&nbsp;% le prédicat \"resoudre\" indique les 4 inconnues à retrouver :<br>&nbsp;&nbsp;&nbsp;&nbsp;resoudre(MM,ME,AE,AL):-<br>&nbsp;&nbsp;&nbsp;&nbsp;&nbsp;&nbsp;&nbsp;&nbsp;&nbsp;&nbsp;&nbsp;&nbsp;relation(max,MM,chat),<br>&nbsp;&nbsp;&nbsp;&nbsp;&nbsp;&nbsp;&nbsp;&nbsp;&nbsp;&nbsp;&nbsp;&nbsp;relation(eric,ME,AE),<br>&nbsp;&nbsp;&nbsp;&nbsp;&nbsp;&nbsp;&nbsp;&nbsp;&nbsp;&nbsp;&nbsp;&nbsp;different(MM,ME,studio),<br>&nbsp;&nbsp;&nbsp;&nbsp;&nbsp;&nbsp;&nbsp;&nbsp;&nbsp;&nbsp;&nbsp;&nbsp;relation(luc,studio,AL),<br>&nbsp;&nbsp;&nbsp;&nbsp;&nbsp;&nbsp;&nbsp;&nbsp;&nbsp;&nbsp;&nbsp;&nbsp;different(AE,AL,chat).<br></code>\n",
    "### <span style=\"text-decoration: underline;color:green;\">2. Effet de bord :</span> ###\n",
    "Une fonction est dite <i>à effet de bord</i> si elle <strong>modifie l'état d'une variable</strong> définie <strong>en dehors de son environnement local</strong>.<br>\n"
   ]
  },
  {
   "cell_type": "code",
   "execution_count": null,
   "id": "1a5d8a1d",
   "metadata": {},
   "outputs": [],
   "source": [
    "qcm.f1()"
   ]
  },
  {
   "cell_type": "code",
   "execution_count": null,
   "id": "a7662038",
   "metadata": {},
   "outputs": [],
   "source": [
    "qcm.f2()"
   ]
  },
  {
   "cell_type": "code",
   "execution_count": null,
   "id": "d8aaf20f",
   "metadata": {},
   "outputs": [],
   "source": [
    "qcm.f3()"
   ]
  },
  {
   "cell_type": "markdown",
   "id": "4d11a558",
   "metadata": {},
   "source": [
    "● Dans des programmes complexes, les effets de bords provoquent parfois des comportements <strong>non désirés par le programmeur</strong>.<br>\n",
    "<strong>L'évolution des variables</strong> est en effet plus <strong>difficilement prévisible</strong>. <br>\n",
    "Ce qui fait que les <strong>preuves de programme</strong> sont également plus compliquées à faire.\n",
    "## <span style=\"text-decoration: underline;color:red;\">III. La programmation fonctionnelle :</span> ##\n",
    "Le paradigme fonctionnel cherche à éviter les effets de bord (ou <i>side effect</i>).\n",
    "### <span style=\"text-decoration: underline;color:green;\">1. Ses principes :</span> ###\n",
    "1) Les données sont <strong>immuables</strong> : leur valeur n'est jamais modifiée.<br>\n",
    "&nbsp;&nbsp;&nbsp;&nbsp;Les fonctions peuvent <strong>créer de nouvelles données</strong>, mais <strong>pas en modifier</strong>. <br>\n",
    "&nbsp;&nbsp;&nbsp;&nbsp;On obtient ainsi un code <strong>sûr et plus prévisible</strong>, dont les <strong>preuves sont faciliteés</strong>.<br>\n",
    "<br>\n",
    "2) La valeur renvoyée par une fonction <strong>ne dépend pas de valeurs extérieures à la fonction</strong>.<br>\n",
    "<br>\n",
    "3) les boucles sont remplacées par des <strong>fonctions récursives</strong><br>\n",
    "<br>\n",
    "4) toute fonction peut être vue comme une <strong>donnée</strong> (concept déjà rencontré sur le chapître de la <i>décidabilité</i>) :<br>\n",
    "&nbsp;&nbsp;&nbsp;&nbsp;&nbsp;&nbsp;&nbsp;&nbsp;&nbsp;→ on peut passer une fonction comme argument à une autre fonction <br>\n",
    "&nbsp;&nbsp;&nbsp;&nbsp;&nbsp;&nbsp;&nbsp;&nbsp;&nbsp;→ renvoyer fonction <br>\n",
    "&nbsp;&nbsp;&nbsp;&nbsp;&nbsp;&nbsp;&nbsp;&nbsp;&nbsp;→ ou définir une fonction dans une autre fonction<br>\n"
   ]
  },
  {
   "cell_type": "code",
   "execution_count": null,
   "id": "d06a92d9",
   "metadata": {},
   "outputs": [],
   "source": [
    "qcm.respecte_paradigme_1()"
   ]
  },
  {
   "cell_type": "code",
   "execution_count": null,
   "id": "8b16a6a8",
   "metadata": {},
   "outputs": [],
   "source": [
    "qcm.respecte_paradigme_2()"
   ]
  },
  {
   "cell_type": "code",
   "execution_count": null,
   "id": "471ecfe8",
   "metadata": {},
   "outputs": [],
   "source": [
    "qcm.respecte_paradigme_3()"
   ]
  },
  {
   "cell_type": "code",
   "execution_count": null,
   "id": "61e51604",
   "metadata": {},
   "outputs": [],
   "source": [
    "qcm.respecte_paradigme_4()"
   ]
  },
  {
   "cell_type": "code",
   "execution_count": null,
   "id": "8c51e521",
   "metadata": {},
   "outputs": [],
   "source": [
    "qcm.respecte_paradigme_5()"
   ]
  },
  {
   "cell_type": "markdown",
   "id": "80a190c0",
   "metadata": {},
   "source": [
    "### <span style=\"text-decoration: underline;color:green;\">2. Exercices :</span> ###\n",
    "<span style=\"text-decoration: underline;font-weight: bold;font-style: italic;color:blue;\">Exercice 1:</span><br>\n",
    "On reprend la fonction <span style=\"font-family:Courier New;font-size: 100%;\">sommer</span> vue précédemmet :<br>\n",
    "<br>\n",
    "<code>def sommer(L):<br>&nbsp;&nbsp;&nbsp;&nbsp;\"\"\"L est une liste d'entiers. Renvoie la somme des éléments de la liste L\"\"\"<br>&nbsp;&nbsp;&nbsp;&nbsp;s=0<br>&nbsp;&nbsp;&nbsp;&nbsp;for i in range(len(L)):<br>&nbsp;&nbsp;&nbsp;&nbsp;&nbsp;&nbsp;&nbsp;&nbsp;s+=L[i]<br>&nbsp;&nbsp;&nbsp;&nbsp;return s<br></code><br>\n",
    "Réécrire ci-dessous cette fonction de telle sorte qu'elle respecte le paradigme fonctionnelle<br>\n"
   ]
  },
  {
   "cell_type": "code",
   "execution_count": null,
   "id": "c5e61fcc",
   "metadata": {},
   "outputs": [],
   "source": [
    "def sommer(L):\n",
    "    pass"
   ]
  },
  {
   "cell_type": "code",
   "execution_count": null,
   "id": "6a87127f",
   "metadata": {},
   "outputs": [],
   "source": [
    "solution.sommer()"
   ]
  },
  {
   "cell_type": "markdown",
   "id": "b80d45d9",
   "metadata": {},
   "source": [
    "<span style=\"text-decoration: underline;font-weight: bold;font-style: italic;color:blue;\">Exercice 2:</span><br>\n",
    "1) En respectant le paradigme fonctionnel, créer une fonction <span style=\"font-family:Courier New;font-size: 100%;\">maximum</span>:\n",
    "- qui prend comme argument une liste non vide de nombres entiers \n",
    "\n",
    "- et qui renvoie le maximum de cette liste.\n",
    "\n"
   ]
  },
  {
   "cell_type": "code",
   "execution_count": null,
   "id": "e900d9d1",
   "metadata": {},
   "outputs": [],
   "source": [
    "def maximum(t):\n",
    "    assert len(t) > 0, \"t ne doit pas être vide\"\n",
    "    pass"
   ]
  },
  {
   "cell_type": "code",
   "execution_count": null,
   "id": "702fbc95",
   "metadata": {},
   "outputs": [],
   "source": [
    "solution.maximum()"
   ]
  },
  {
   "cell_type": "markdown",
   "id": "c9f29a5d",
   "metadata": {},
   "source": [
    "2) le recours au slice <span style=\"font-family:Courier New;font-size: 100%;\">t[1: ]</span> ralentit considérablement le programme.<br>\n",
    "En effet, <span style=\"font-family:Courier New;font-size: 100%;\">t[1 : ]</span> crée une copie de <span style=\"font-family:Courier New;font-size: 100%;\">t</span> privé de son premier élément en mémoire.<br>\n",
    "Coder une version <span style=\"font-family:Courier New;font-size: 100%;\">maxi(t, index)</span>, qui effectue la recherche du maximum sur les éléments dont l'indice va de <span style=\"font-family:Courier New;font-size: 100%;\">0</span> à <span style=\"font-family:Courier New;font-size: 100%;\">index</span>.<br>\n",
    "En utilisant <span style=\"font-family:Courier New;font-size: 100%;\"> %timeit</span>, comparez les performances de <span style=\"font-family:Courier New;font-size: 100%;\">maximum</span> et de <span style=\"font-family:Courier New;font-size: 100%;\">maxi</span> avec deux listes identiques...<br>\n"
   ]
  },
  {
   "cell_type": "code",
   "execution_count": null,
   "id": "39dc20ac",
   "metadata": {},
   "outputs": [],
   "source": [
    "solution.maximum_ameliore()"
   ]
  },
  {
   "cell_type": "markdown",
   "id": "982f4e17",
   "metadata": {},
   "source": [
    "## <span style=\"text-decoration: underline;color:red;\">IV. Compléments :</span> ##\n",
    "### <span style=\"text-decoration: underline;color:green;\">1. Un peu d'histoire...</span> ###\n",
    "Les langages fonctionnels sont des langages qui reposent sur le λ-calcul, créé par <i>Alonzo Church</i> en 1925. <br>\n",
    "![alt text](mes_images/church.png)<br>\n",
    "Le principe du λ-calcul consiste à considérer les fonctions comme des données comme les autres.<br>\n",
    "<br>\n",
    "<span style=\"text-decoration: underline;\">Exemple :</span><br>\n",
    "La fonction mathématique $x\\rightarrow x+1$ peut s'écrire $\\lambda x.x+1$<br>\n",
    "Python peut faire du λ-calcul comme le montre cet exemple :<br>\n"
   ]
  },
  {
   "cell_type": "code",
   "execution_count": null,
   "id": "d0295545",
   "metadata": {},
   "outputs": [],
   "source": [
    "ma_fonction = lambda x : x + 1\n",
    "ma_fonction(4)"
   ]
  },
  {
   "cell_type": "markdown",
   "id": "3fa45810",
   "metadata": {},
   "source": [
    "### <span style=\"text-decoration: underline;color:green;\">2. Quelques langages fonctionnels :</span> ###\n",
    "● Un des premiers langages fonctionnel est <i>Lisp</i> (1958). <br>\n",
    "![alt text](mes_images/lisp.png)<br>\n",
    "● Sa syntaxe particulière à base de parenthèses est très reconnaissable.<br>\n",
    "Voici par exemple un code qui calcule la somme des éléments d'un tableau :<br>\n",
    "<br>\n",
    "<code>(defun somme-tab (tab)<br>&nbsp;&nbsp;(if (null tab)<br>&nbsp;&nbsp;&nbsp;&nbsp;&nbsp;&nbsp;0<br>&nbsp;&nbsp;&nbsp;&nbsp;&nbsp;&nbsp;(+ (car tab) (somme-tab (cdr tab)))))<br></code><br>\n",
    "● Plus récemment, on citera <i>OCaml</i> <img src=\"mes_images/ocaml.png\"><br>\n",
    "... et le code permettant de sommer les éléments d'un tableau :<br>\n",
    "<br>\n",
    "<code>let rec sum arr =<br>&nbsp;&nbsp;match arr with<br>&nbsp;&nbsp;| [] -> 0<br>&nbsp;&nbsp;| head::tail -> head + sum tail<br></code><br>\n",
    "● et <i>Haskell</i> <img src=\"mes_images/haskell.png\"><br>\n",
    "... avec son code permettant de sommer les éléments d'un tableau :<br>\n",
    "<br>\n",
    "<code>somme liste = if (length liste == 0) then 0 else head liste + somme (tail liste)<br></code>\n",
    "### <span style=\"text-decoration: underline;color:green;\">3. Conclusion :</span> ###\n",
    "● Des langages généralistes comme <i>Python</i> permettent au développeur d'utiliser beaucoup de paradigmes. <br>\n",
    "Cela pourrait paraître idéal : si <i>Python</i> fait tout avec une syntaxe simple, pourquoi créer des langages spécialisés comme <i>Haskell</i>?<br>\n",
    "<br>\n",
    "● Avec Python on peut faire de la programmation fonctionnelle mais on peut aussi faire des <strong>entorses à ce paradigme</strong> <br>\n",
    "Laisser au développeur la possibilité de créer des variables globales et de faire des effets de bords peut le mener à des bugs parfois difficiles à déceler.<br>\n",
    "<br>\n",
    "● Un langage purement fonctionnel comme <i>Haskell</i> ne tolérera pas ces entorses et oblige donc à une rigueur absolue. <br>\n",
    "Le développeur y gagne à terme car son code est plus fiable<br>\n",
    "<br>\n",
    "● La programmation fonctionnelle est souvent considérée comme plus sûre car les effets de bords sont supprimés et l'immutabilité des données permet de mieux contrôler le déroulé d'un programme. <br>\n",
    "Il est plus simple de <strong>prouver</strong> qu'un programme fonctionne correctement.<br>\n",
    "<br>\n",
    "● Cependant, comme le montre l'exercice sur la somme des valeurs d'une liste d'entiers, la programmation fonctionnelle peut requérir beaucoup d'allocation mémoire. <br>\n",
    "Si jamais, le programme n'a plus assez de mémoire à disposition alors on ne peut plus <strong>garantir sa sûreté</strong>.<br>\n",
    "Du coup, les systèmes nécessitant une grande sécurité sont encore développés avec des langages impératifs plutôt que fonctionnels.<br>\n",
    "<br>\n",
    "<span style=\"font-style: italic;\">Sources :</span><br>\n",
    "<span style=\"font-style: italic;color:blue;\">https://www.lecluse.fr/nsi/NSI_T/langages/paradigmes/</span><br>\n",
    "<span style=\"font-style: italic;color:blue;\">http://www.monlyceenumerique.fr/nsi_terminale/lp/lp4_paradigmes_programmation.php</span><br>\n"
   ]
  }
 ],
 "metadata": {
  "kernelspec": {
   "display_name": "Python 3 (ipykernel)",
   "language": "python",
   "name": "python3"
  },
  "language_info": {
   "codemirror_mode": {
    "name": "ipython",
    "version": 3
   },
   "file_extension": ".py",
   "mimetype": "text/x-python",
   "name": "python",
   "nbconvert_exporter": "python",
   "pygments_lexer": "ipython3",
   "version": "3.9.12"
  }
 },
 "nbformat": 4,
 "nbformat_minor": 5
}
